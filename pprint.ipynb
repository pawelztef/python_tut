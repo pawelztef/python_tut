{
  "nbformat": 4,
  "nbformat_minor": 0,
  "metadata": {
    "colab": {
      "name": "pprint.ipynb",
      "provenance": [],
      "authorship_tag": "ABX9TyNmmLNelmK4Qtupj4BsCKgJ",
      "include_colab_link": true
    },
    "kernelspec": {
      "name": "python3",
      "display_name": "Python 3"
    },
    "language_info": {
      "name": "python"
    }
  },
  "cells": [
    {
      "cell_type": "markdown",
      "metadata": {
        "id": "view-in-github",
        "colab_type": "text"
      },
      "source": [
        "<a href=\"https://colab.research.google.com/github/pawelztef/python_tut/blob/main/pprint.ipynb\" target=\"_parent\"><img src=\"https://colab.research.google.com/assets/colab-badge.svg\" alt=\"Open In Colab\"/></a>"
      ]
    },
    {
      "cell_type": "markdown",
      "metadata": {
        "id": "a7SOV_ekpKZ7"
      },
      "source": [
        "### Exc 1\n",
        "\n",
        "The following dictionary is given:\n",
        "\n",
        "```\n",
        "data_dict = {\n",
        "    \"users\": [\n",
        "        {\n",
        "            \"userId\": 1,\n",
        "            \"firstName\": \"Krish\",\n",
        "            \"lastName\": \"Lee\",\n",
        "            \"emailAddress\": \"krish.lee@example.com\"\n",
        "        },\n",
        "        {\n",
        "            \"userId\": 2,\n",
        "            \"firstName\": \"racks\",\n",
        "            \"lastName\": \"jacson\",\n",
        "            \"emailAddress\": \"racks.jacson@example.com\"\n",
        "        },\n",
        "        {\n",
        "            \"userId\": 3,\n",
        "            \"firstName\": \"denial\",\n",
        "            \"lastName\": \"roast\",\n",
        "            \"emailAddress\": \"denial.roast@example.com\"\n",
        "        }\n",
        "    ]\n",
        "}\n",
        "```\n",
        "\n",
        "When printing the above dctionary to te console using ***print()*** function we get the folowing:\n",
        "\n",
        "```\n",
        "{'users': [{'userId': 1, 'firstName': 'Krish', 'lastName': 'Lee', 'emailAddress': 'krish.lee@example.com'}, {'userId': 2, 'firstName': 'racks', 'lastName': 'jacson', 'emailAddress': 'racks.jacson@example.com'}, {'userId': 3, 'firstName': 'denial', 'lastName': 'roast', 'emailAddress': 'denial.roast@example.com'}]}\n",
        "```\n",
        "\n",
        "Using the built-in ***pprint*** module print the **data_dict** dictionary to the console as shown bellow.\n",
        "\n",
        "Expected result:\n",
        "\n",
        "\n",
        "```\n",
        "data_dict = {\n",
        "    \"users\": [\n",
        "        {\n",
        "            \"userId\": 1,\n",
        "            \"firstName\": \"Krish\",\n",
        "            \"lastName\": \"Lee\",\n",
        "            \"emailAddress\": \"krish.lee@example.com\"\n",
        "        },\n",
        "        {\n",
        "            \"userId\": 2,\n",
        "            \"firstName\": \"racks\",\n",
        "            \"lastName\": \"jacson\",\n",
        "            \"emailAddress\": \"racks.jacson@example.com\"\n",
        "        },\n",
        "        {\n",
        "            \"userId\": 3,\n",
        "            \"firstName\": \"denial\",\n",
        "            \"lastName\": \"roast\",\n",
        "            \"emailAddress\": \"denial.roast@example.com\"\n",
        "        }\n",
        "    ]\n",
        "}\n",
        "```"
      ]
    },
    {
      "cell_type": "code",
      "metadata": {
        "colab": {
          "base_uri": "https://localhost:8080/"
        },
        "id": "tJ6lnDeMprai",
        "outputId": "f566a2b5-0e5d-4f79-d211-f1f30d5a5182"
      },
      "source": [
        "from pprint import pprint\n",
        "\n",
        "data_dict = {\n",
        "    \"users\": [\n",
        "        {\n",
        "            \"userId\": 1,\n",
        "            \"firstName\": \"Krish\",\n",
        "            \"lastName\": \"Lee\",\n",
        "            \"emailAddress\": \"krish.lee@example.com\"\n",
        "        },\n",
        "        {\n",
        "            \"userId\": 2,\n",
        "            \"firstName\": \"racks\",\n",
        "            \"lastName\": \"jacson\",\n",
        "            \"emailAddress\": \"racks.jacson@example.com\"\n",
        "        },\n",
        "        {\n",
        "            \"userId\": 3,\n",
        "            \"firstName\": \"denial\",\n",
        "            \"lastName\": \"roast\",\n",
        "            \"emailAddress\": \"denial.roast@example.com\"\n",
        "        }\n",
        "    ]\n",
        "}\n",
        "\n",
        "pprint(data_dict)"
      ],
      "execution_count": 3,
      "outputs": [
        {
          "output_type": "stream",
          "text": [
            "{'users': [{'emailAddress': 'krish.lee@example.com',\n",
            "            'firstName': 'Krish',\n",
            "            'lastName': 'Lee',\n",
            "            'userId': 1},\n",
            "           {'emailAddress': 'racks.jacson@example.com',\n",
            "            'firstName': 'racks',\n",
            "            'lastName': 'jacson',\n",
            "            'userId': 2},\n",
            "           {'emailAddress': 'denial.roast@example.com',\n",
            "            'firstName': 'denial',\n",
            "            'lastName': 'roast',\n",
            "            'userId': 3}]}\n"
          ],
          "name": "stdout"
        }
      ]
    }
  ]
}