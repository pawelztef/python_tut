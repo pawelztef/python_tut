{
  "nbformat": 4,
  "nbformat_minor": 0,
  "metadata": {
    "colab": {
      "name": "os.ipynb",
      "provenance": [],
      "authorship_tag": "ABX9TyMId+g3+AukHZ5VhhB/tVZY",
      "include_colab_link": true
    },
    "kernelspec": {
      "name": "python3",
      "display_name": "Python 3"
    },
    "language_info": {
      "name": "python"
    }
  },
  "cells": [
    {
      "cell_type": "markdown",
      "metadata": {
        "id": "view-in-github",
        "colab_type": "text"
      },
      "source": [
        "<a href=\"https://colab.research.google.com/github/pawelztef/python_tut/blob/main/os.ipynb\" target=\"_parent\"><img src=\"https://colab.research.google.com/assets/colab-badge.svg\" alt=\"Open In Colab\"/></a>"
      ]
    },
    {
      "cell_type": "markdown",
      "metadata": {
        "id": "y2swrNpW4k48"
      },
      "source": [
        "### Exc 1\n",
        "\n",
        "Using the built-in module *os* print the current working directory into the console.\n"
      ]
    },
    {
      "cell_type": "code",
      "metadata": {
        "colab": {
          "base_uri": "https://localhost:8080/"
        },
        "id": "1lQ4fs0T4_d7",
        "outputId": "64205102-272c-48f9-cd91-46a6c7601ebb"
      },
      "source": [
        "import os\n",
        "\n",
        "print(os.getcwd())"
      ],
      "execution_count": 3,
      "outputs": [
        {
          "output_type": "stream",
          "text": [
            "Help on built-in function getcwd in module posix:\n",
            "\n",
            "getcwd()\n",
            "    Return a unicode string representing the current working directory.\n",
            "\n",
            "None\n",
            "/content\n"
          ],
          "name": "stdout"
        }
      ]
    },
    {
      "cell_type": "markdown",
      "metadata": {
        "id": "y31OcSKC5SpJ"
      },
      "source": [
        "### Exc 2\n",
        "\n",
        "Using the built-in module *os* print to the console the list containing the names of all files in the working directory."
      ]
    },
    {
      "cell_type": "code",
      "metadata": {
        "colab": {
          "base_uri": "https://localhost:8080/"
        },
        "id": "P8fkA1xX54Y9",
        "outputId": "f1bbec0b-4a9a-402f-c14e-2560741da970"
      },
      "source": [
        "import os\n",
        "\n",
        "print(os.listdir(path=None))"
      ],
      "execution_count": null,
      "outputs": [
        {
          "output_type": "stream",
          "text": [
            "['.config', 'sample_data']\n"
          ],
          "name": "stdout"
        }
      ]
    },
    {
      "cell_type": "markdown",
      "metadata": {
        "id": "7xLV3qqX6nbI"
      },
      "source": [
        "### Exc 3\n",
        "\n",
        "Using the built-in module *os* create list called *names* of the items in yours working directory starting from the letter *a* sortted alphabetically. As an answer print names to the console."
      ]
    },
    {
      "cell_type": "code",
      "metadata": {
        "colab": {
          "base_uri": "https://localhost:8080/"
        },
        "id": "UCGLXP8rQ5z_",
        "outputId": "3b0a2c99-bfa9-4df5-b116-bd6c83823aa6"
      },
      "source": [
        "import os\n",
        "\n",
        "names = sorted([name for name in os.listdir(path=None) if name.startswith('e')])\n",
        "\n",
        "print(names)"
      ],
      "execution_count": null,
      "outputs": [
        {
          "output_type": "stream",
          "text": [
            "[]\n"
          ],
          "name": "stdout"
        }
      ]
    },
    {
      "cell_type": "markdown",
      "metadata": {
        "id": "7LZ2FcF5pcsl"
      },
      "source": [
        "### Exc 4\n",
        "\n",
        "Using the built-in module *os* create list called *names* of the items in your working directory with a *.py* extension. Sort names alphabetically.\n",
        "\n",
        "Print the result in to console."
      ]
    },
    {
      "cell_type": "code",
      "metadata": {
        "colab": {
          "base_uri": "https://localhost:8080/"
        },
        "id": "sh4BJLvNqkKN",
        "outputId": "9423b60d-7a8c-407e-d327-2dea9d8c8ff4"
      },
      "source": [
        "import os\n",
        "\n",
        "names = sorted([name for name in os.listdir(path=None) if name.endswith('.py')])\n",
        "\n",
        "print(names)"
      ],
      "execution_count": 1,
      "outputs": [
        {
          "output_type": "stream",
          "text": [
            "[]\n"
          ],
          "name": "stdout"
        }
      ]
    },
    {
      "cell_type": "markdown",
      "metadata": {
        "id": "GWs85HcZrSu8"
      },
      "source": [
        "### Exc 5\n",
        "\n",
        "Using the built-in module *os* create directory named *images* in your working directory and path should be relative; path then will be relative to that directory. \n"
      ]
    },
    {
      "cell_type": "code",
      "metadata": {
        "colab": {
          "base_uri": "https://localhost:8080/"
        },
        "id": "3SSLAtpjrwbS",
        "outputId": "e24e30e2-7642-40dd-c19e-9a26c9a90171"
      },
      "source": [
        "import os \n",
        "\n",
        "print(help(os.mkdir))"
      ],
      "execution_count": 2,
      "outputs": [
        {
          "output_type": "stream",
          "text": [
            "Help on built-in function mkdir in module posix:\n",
            "\n",
            "mkdir(path, mode=511, *, dir_fd=None)\n",
            "    Create a directory.\n",
            "    \n",
            "    If dir_fd is not None, it should be a file descriptor open to a directory,\n",
            "      and path should be relative; path will then be relative to that directory.\n",
            "    dir_fd may not be implemented on your platform.\n",
            "      If it is unavailable, using it will raise a NotImplementedError.\n",
            "    \n",
            "    The mode argument is ignored on Windows.\n",
            "\n",
            "None\n"
          ],
          "name": "stdout"
        }
      ]
    }
  ]
}