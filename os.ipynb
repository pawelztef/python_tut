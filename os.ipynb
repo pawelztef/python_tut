{
  "nbformat": 4,
  "nbformat_minor": 0,
  "metadata": {
    "colab": {
      "name": "os.ipynb",
      "provenance": [],
      "authorship_tag": "ABX9TyN4rHjk2d1TmKOL7cIAA5Eu",
      "include_colab_link": true
    },
    "kernelspec": {
      "name": "python3",
      "display_name": "Python 3"
    },
    "language_info": {
      "name": "python"
    }
  },
  "cells": [
    {
      "cell_type": "markdown",
      "metadata": {
        "id": "view-in-github",
        "colab_type": "text"
      },
      "source": [
        "<a href=\"https://colab.research.google.com/github/pawelztef/python_tut/blob/main/os.ipynb\" target=\"_parent\"><img src=\"https://colab.research.google.com/assets/colab-badge.svg\" alt=\"Open In Colab\"/></a>"
      ]
    },
    {
      "cell_type": "markdown",
      "metadata": {
        "id": "y2swrNpW4k48"
      },
      "source": [
        "### Exc 1\n",
        "\n",
        "Using the built-in module *os* print the current working directory into the console\n"
      ]
    },
    {
      "cell_type": "code",
      "metadata": {
        "colab": {
          "base_uri": "https://localhost:8080/"
        },
        "id": "1lQ4fs0T4_d7",
        "outputId": "64205102-272c-48f9-cd91-46a6c7601ebb"
      },
      "source": [
        "import os\n",
        "\n",
        "print(os.getcwd())"
      ],
      "execution_count": null,
      "outputs": [
        {
          "output_type": "stream",
          "text": [
            "Help on built-in function getcwd in module posix:\n",
            "\n",
            "getcwd()\n",
            "    Return a unicode string representing the current working directory.\n",
            "\n",
            "None\n",
            "/content\n"
          ],
          "name": "stdout"
        }
      ]
    },
    {
      "cell_type": "markdown",
      "metadata": {
        "id": "y31OcSKC5SpJ"
      },
      "source": [
        "### Exc 2\n",
        "\n",
        "Using the built-in module *os* print to the console the list containing the names of all files in the working directory."
      ]
    },
    {
      "cell_type": "code",
      "metadata": {
        "colab": {
          "base_uri": "https://localhost:8080/"
        },
        "id": "P8fkA1xX54Y9",
        "outputId": "f1bbec0b-4a9a-402f-c14e-2560741da970"
      },
      "source": [
        "import os\n",
        "\n",
        "print(os.listdir(path=None))"
      ],
      "execution_count": null,
      "outputs": [
        {
          "output_type": "stream",
          "text": [
            "['.config', 'sample_data']\n"
          ],
          "name": "stdout"
        }
      ]
    },
    {
      "cell_type": "markdown",
      "metadata": {
        "id": "7xLV3qqX6nbI"
      },
      "source": [
        "### Exc 3\n",
        "\n",
        "Using the built-in module *os* create list called *names* of the items in yours working directory starting from the letter *a* sortted alphabetically. As an answer print names to the console."
      ]
    },
    {
      "cell_type": "code",
      "metadata": {
        "colab": {
          "base_uri": "https://localhost:8080/"
        },
        "id": "UCGLXP8rQ5z_",
        "outputId": "3b0a2c99-bfa9-4df5-b116-bd6c83823aa6"
      },
      "source": [
        "import os\n",
        "\n",
        "names = sorted([name for name in os.listdir(path=None) if name.startswith('e')])\n",
        "\n",
        "print(names)"
      ],
      "execution_count": null,
      "outputs": [
        {
          "output_type": "stream",
          "text": [
            "[]\n"
          ],
          "name": "stdout"
        }
      ]
    },
    {
      "cell_type": "markdown",
      "metadata": {
        "id": "7LZ2FcF5pcsl"
      },
      "source": [
        "### Exc 4\n",
        "\n",
        "Using the built-in module *os* create list called *names* of the items in your working directory with a *.py* extension. Sort names alphabetically.\n",
        "\n",
        "Print the result in to console."
      ]
    },
    {
      "cell_type": "code",
      "metadata": {
        "colab": {
          "base_uri": "https://localhost:8080/"
        },
        "id": "sh4BJLvNqkKN",
        "outputId": "9423b60d-7a8c-407e-d327-2dea9d8c8ff4"
      },
      "source": [
        "import os\n",
        "\n",
        "names = sorted([name for name in os.listdir(path=None) if name.endswith('.py')])\n",
        "\n",
        "print(names)"
      ],
      "execution_count": null,
      "outputs": [
        {
          "output_type": "stream",
          "text": [
            "[]\n"
          ],
          "name": "stdout"
        }
      ]
    },
    {
      "cell_type": "markdown",
      "metadata": {
        "id": "GWs85HcZrSu8"
      },
      "source": [
        "### Exc 5\n",
        "\n",
        "Using the built-in module *os* create directory named *images* in your working directory and path should be relative; path then will be relative to that directory. \n"
      ]
    },
    {
      "cell_type": "code",
      "metadata": {
        "colab": {
          "base_uri": "https://localhost:8080/"
        },
        "id": "oNbY50PNOXKB",
        "outputId": "c7dd7825-427c-4f46-e722-0d1534c2834b"
      },
      "source": [
        "import os\n",
        "\n",
        "os.mkdir('images')\n",
        "os.chdir('images')\n",
        "\n",
        "print(os.getcwd())"
      ],
      "execution_count": 2,
      "outputs": [
        {
          "output_type": "stream",
          "text": [
            "/content/images\n"
          ],
          "name": "stdout"
        }
      ]
    },
    {
      "cell_type": "markdown",
      "metadata": {
        "id": "kELsOAHqjCoE"
      },
      "source": [
        "### Exc 6\n",
        "\n",
        "Using built-in *os* module in your working directory create directory called *documents*. Then in the *documents* directory create 12 directories for each month with the same names *01_sales, ..., 12_sales*, respectively. As an answer print the sorted directory names in *documents* directory.  "
      ]
    },
    {
      "cell_type": "code",
      "metadata": {
        "colab": {
          "base_uri": "https://localhost:8080/"
        },
        "id": "gA02uMhZkkYh",
        "outputId": "b80f0866-57a5-46e0-e5eb-fcaa61aeef3a"
      },
      "source": [
        "import os\n",
        "\n",
        "os.mkdir('documents')\n",
        "dirnames = [f'{str(i).zfill(2)}_sales' for i in range(1, 13)]\n",
        "\n",
        "for name in dirnames:\n",
        "    new_dir = os.path.join('documents', name)\n",
        "    os.mkdir(new_dir)\n",
        "\n",
        "print(sorted(os.listdir('documents')))\n"
      ],
      "execution_count": 6,
      "outputs": [
        {
          "output_type": "stream",
          "text": [
            "['01_sales', '02_sales', '03_sales', '04_sales', '05_sales', '06_sales', '07_sales', '08_sales', '09_sales', '10_sales', '11_sales', '12_sales']\n"
          ],
          "name": "stdout"
        }
      ]
    },
    {
      "cell_type": "markdown",
      "metadata": {
        "id": "6-AZaPF2shuA"
      },
      "source": [
        "### Exc 7\n",
        "\n",
        "Using the built-in module *os* create a directory called *images*. Then create two directories in this directory called *images_png*, *images_jpg*. Before creating each directory check if directory does not exist.\n",
        "\n",
        "As an answer execute such following code:\n",
        "\n",
        "\n",
        "```\n",
        "for root, dir, files in os.walk(base_dir):\n",
        "    print(root)\n",
        "\n",
        "```\n",
        "\n"
      ]
    },
    {
      "cell_type": "code",
      "metadata": {
        "id": "UoQXz59CuGCS",
        "outputId": "2abfef03-caa0-4481-8cb3-135bf8328291",
        "colab": {
          "base_uri": "https://localhost:8080/"
        }
      },
      "source": [
        "import os\n",
        "\n",
        "base_dir = 'images'\n",
        "pfxs = ['png', 'jpg']\n",
        "\n",
        "if not os.path.exists(base_dir):\n",
        "    os.mkdir(base_dir)\n",
        "    \n",
        "for postfix in pfxs:\n",
        "    dir_path = os.path.join(base_dir, f'images_{postfix}')\n",
        "    if not os.path.exists(dir_path):\n",
        "        os.mkdir(dir_path)\n",
        "\n",
        "for root, dir, files in os.walk(base_dir):\n",
        "    print(root)"
      ],
      "execution_count": 15,
      "outputs": [
        {
          "output_type": "stream",
          "text": [
            "images\n",
            "images/images_jpg\n",
            "images/images_png\n"
          ],
          "name": "stdout"
        }
      ]
    }
  ]
}