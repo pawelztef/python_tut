{
  "nbformat": 4,
  "nbformat_minor": 0,
  "metadata": {
    "colab": {
      "name": "re",
      "provenance": [],
      "authorship_tag": "ABX9TyNPYtjG5O+dxF8W1lJvQUks",
      "include_colab_link": true
    },
    "kernelspec": {
      "name": "python3",
      "display_name": "Python 3"
    },
    "language_info": {
      "name": "python"
    }
  },
  "cells": [
    {
      "cell_type": "markdown",
      "metadata": {
        "id": "view-in-github",
        "colab_type": "text"
      },
      "source": [
        "<a href=\"https://colab.research.google.com/github/pawelztef/python_tut/blob/main/re.ipynb\" target=\"_parent\"><img src=\"https://colab.research.google.com/assets/colab-badge.svg\" alt=\"Open In Colab\"/></a>"
      ]
    },
    {
      "cell_type": "markdown",
      "metadata": {
        "id": "r8x2t5RkguOx"
      },
      "source": [
        "### Exc 1\n",
        "Using the built-in re module that allows you to work with regular expressions in Python extract all the numbers as a list from the following text:\n",
        "\n",
        "\n",
        "\n",
        "```\n",
        "text = 'Python 3.8'\n",
        "```\n",
        "\n",
        "end print to the console.\n",
        "\n",
        "\n"
      ]
    },
    {
      "cell_type": "code",
      "metadata": {
        "colab": {
          "base_uri": "https://localhost:8080/"
        },
        "id": "ONIT8kzSc5hu",
        "outputId": "5b544769-a394-4abc-c7a8-5a3b1e09b257"
      },
      "source": [
        "import re\n",
        "\n",
        "text = 'Python 3.8'\n",
        "\n",
        "result = [ i for i in text if re.match('\\d', i)]\n",
        "\n",
        "print(result)\n",
        "\n"
      ],
      "execution_count": 2,
      "outputs": [
        {
          "output_type": "stream",
          "text": [
            "['3', '8']\n"
          ],
          "name": "stdout"
        }
      ]
    },
    {
      "cell_type": "markdown",
      "metadata": {
        "id": "EieKAlvuhRqZ"
      },
      "source": [
        "### Exc 2\n",
        "Using the built-in re module extract all non-numeric characters as a list from the following text:\n",
        "\n",
        "\n",
        "\n",
        "```\n",
        "text = 'Python 3.8'\n",
        "```\n",
        "\n",
        "and print to the console.\n",
        "\n"
      ]
    },
    {
      "cell_type": "code",
      "metadata": {
        "colab": {
          "base_uri": "https://localhost:8080/"
        },
        "id": "z6X1YvXCd-2k",
        "outputId": "89a5d09e-9846-4753-a961-cfa4e1ad8327"
      },
      "source": [
        "import re\n",
        "\n",
        "text = 'Python 3.8'\n",
        "\n",
        "result = [ i for i in text if re.match('\\D', i)]\n",
        "\n",
        "print(result)"
      ],
      "execution_count": 3,
      "outputs": [
        {
          "output_type": "stream",
          "text": [
            "['P', 'y', 't', 'h', 'o', 'n', ' ', '.']\n"
          ],
          "name": "stdout"
        }
      ]
    },
    {
      "cell_type": "markdown",
      "metadata": {
        "id": "3NzZAppjhWeN"
      },
      "source": [
        "### Exc 3\n",
        "\n",
        "Using the built-in re module extract all digits except zero as a list from following code:\n",
        "\n",
        "```\n",
        "code = '0010-000-423'\n",
        "```\n",
        "\n",
        "end print to the console.\n",
        "\n"
      ]
    },
    {
      "cell_type": "code",
      "metadata": {
        "colab": {
          "base_uri": "https://localhost:8080/"
        },
        "id": "Xw9UsZUVePz2",
        "outputId": "52839227-7383-45f4-83d3-749cff648559"
      },
      "source": [
        "import re\n",
        "\n",
        "code = '0010-000-423'\n",
        "\n",
        "result = [ i for i in code if re.match('[1-9]', i)]\n",
        "\n",
        "print(result)"
      ],
      "execution_count": 6,
      "outputs": [
        {
          "output_type": "stream",
          "text": [
            "['1', '4', '2', '3']\n"
          ],
          "name": "stdout"
        }
      ]
    },
    {
      "cell_type": "markdown",
      "metadata": {
        "id": "ayVYTrH_he5B"
      },
      "source": [
        "### Exc 4\n",
        "\n",
        "Using the built-in module re and the appropriate regular expression, extract from the following code:\n",
        "\n",
        "\n",
        "\n",
        "```\n",
        "code = '0010-000-423-22'\n",
        "```\n",
        "\n",
        "a list of the following values:\n",
        "\n",
        "```\n",
        "['0010', '000', '423', '22']\n",
        "```\n",
        "\n",
        "Expected result:\n",
        "\n",
        "\n",
        "\n",
        "```\n",
        "['0010', '000', '423', '22']\n",
        "```\n",
        "\n",
        "\n"
      ]
    },
    {
      "cell_type": "code",
      "metadata": {
        "colab": {
          "base_uri": "https://localhost:8080/"
        },
        "id": "XumURlfXjCrH",
        "outputId": "fc02964d-ac0f-42cb-cb92-48bf5b1c2c6a"
      },
      "source": [
        "import re\n",
        "\n",
        "code = '0010-000-423-22'\n",
        "\n",
        "# result = re.split('\\D', code)\n",
        "result = re.split(pattern='-', string=code)\n",
        "\n",
        "print(result)"
      ],
      "execution_count": 12,
      "outputs": [
        {
          "output_type": "stream",
          "text": [
            "['0010', '000', '423', '22']\n"
          ],
          "name": "stdout"
        }
      ]
    },
    {
      "cell_type": "markdown",
      "metadata": {
        "id": "jKSdIFsBhh7a"
      },
      "source": [
        "### Exc 5\n",
        "\n",
        "Using the built-in re module and the appropriate regular expression, extract from the following code:\n",
        "\n",
        "```\n",
        "code = 'PL code: XG-GH-110'\n",
        "```\n",
        "\n",
        "a list of the following values:\n",
        "\n",
        "```\n",
        "['PL', '110']\n",
        "```\n",
        "In response, print this list to the console.\n",
        "\n",
        "\n",
        "Expected result:\n",
        "\n",
        "```\n",
        "['PL', '110']\n",
        "```\n"
      ]
    },
    {
      "cell_type": "code",
      "metadata": {
        "id": "VJfvrmoVewhE"
      },
      "source": [
        ""
      ],
      "execution_count": null,
      "outputs": []
    },
    {
      "cell_type": "markdown",
      "metadata": {
        "id": "dGPR7QZlhkFO"
      },
      "source": [
        "### Exc 6\n",
        "\n",
        "The following text is given:\n",
        "\n",
        "```\n",
        "text = \"Please send an email to info@template.com or sales-info@template.it\"\n",
        "```\n",
        "\n",
        "Using the built-in re module extract all e-mail addresses from the text and print to the console.\n",
        "\n",
        "\n",
        "Expected result:\n",
        "\n",
        "```\n",
        "['info@template.com', 'sales-info@template.it']\n",
        "```\n",
        "\n"
      ]
    },
    {
      "cell_type": "code",
      "metadata": {
        "id": "CBr3mck2e4TE"
      },
      "source": [
        ""
      ],
      "execution_count": null,
      "outputs": []
    },
    {
      "cell_type": "markdown",
      "metadata": {
        "id": "Xp99Deh_hmq1"
      },
      "source": [
        "### Exc 7\n",
        "\n",
        "The following text is given:\n",
        "\n",
        "```\n",
        "text = \"\"\"Python plays a key role in our production pipeline.\n",
        "Without it a project the size of Star Wars: Episode II would have been very difficult to pull off.\"\"\"\n",
        "```\n",
        "\n",
        "Using the built-in re module split the text into words/tokens as shown below. Print the result to the console. Pay attention to punctuation marks.\n",
        "\n",
        "Expected result:\n",
        "\n",
        "```\n",
        "['Python', 'plays', 'a', 'key', 'role', 'in', 'our', 'production', 'pipeline', 'Without', 'it', 'a', 'project', 'the', 'size', 'of', 'Star', 'Wars', 'Episode', 'II', 'would', 'have', 'been', 'very', 'difficult', 'to', 'pull', 'off']\n",
        "```\n",
        "\n",
        "\n"
      ]
    },
    {
      "cell_type": "code",
      "metadata": {
        "id": "QzCGNjRRfD5o"
      },
      "source": [
        ""
      ],
      "execution_count": null,
      "outputs": []
    },
    {
      "cell_type": "markdown",
      "metadata": {
        "id": "aWbWI7sMhpVq"
      },
      "source": [
        "### Exc 8\n",
        "The following text is given:\n",
        "\n",
        "```\n",
        "text = \"\"\"Python plays a key role in our production pipeline.\n",
        "Without it a project the size of Star Wars: Episode II would have been very difficult to pull off.\"\"\"\n",
        "```\n",
        "\n",
        "Using the built-in re module find all words that start with a capital letter. Print the result to the console.\n",
        "\n",
        "Expected result:\n",
        "\n",
        "```\n",
        "['Python', 'Without', 'Star', 'Wars', 'Episode', 'II']\n",
        "```\n"
      ]
    },
    {
      "cell_type": "code",
      "metadata": {
        "id": "8de7Ecc7fMlx"
      },
      "source": [
        ""
      ],
      "execution_count": null,
      "outputs": []
    },
    {
      "cell_type": "markdown",
      "metadata": {
        "id": "wjWSQ22thrxk"
      },
      "source": [
        "### Exc 9\n",
        "The following message is given:\n",
        "\n",
        "```\n",
        "message = 'For more information, please call: 123-456-789'\n",
        "```\n",
        "\n",
        "Using the built-in re module extract the phone number from the given message.\n",
        "\n",
        "In response, print the result to the console.\n",
        "\n",
        "\n",
        "Expected result:\n",
        "\n",
        "\n",
        "```\n",
        "123-456-789\n",
        "```\n",
        "\n"
      ]
    },
    {
      "cell_type": "code",
      "metadata": {
        "id": "OeBGFU3sfUbo"
      },
      "source": [
        ""
      ],
      "execution_count": null,
      "outputs": []
    },
    {
      "cell_type": "markdown",
      "metadata": {
        "id": "TFoLuBYght5S"
      },
      "source": [
        "### Exc 10\n",
        "\n",
        "The following text is given:\n",
        "\n",
        "```\n",
        "text = \"Please send an email to info@template.com or call to: 123-456-789.\"\n",
        "```\n",
        "\n",
        "\n",
        "Using the built-in module mask the telephone number as follows '***-***-***'.\n",
        "\n",
        "In response, print this text to the console.\n",
        "\n",
        "Expected result:\n",
        "\n",
        "```\n",
        "Please send an email to info@template.com or call to: ***-***-***.\n",
        "```"
      ]
    },
    {
      "cell_type": "code",
      "metadata": {
        "id": "kV9vIsQFfaWn"
      },
      "source": [
        ""
      ],
      "execution_count": null,
      "outputs": []
    }
  ]
}