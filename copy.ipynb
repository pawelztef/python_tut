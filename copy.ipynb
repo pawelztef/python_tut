{
  "nbformat": 4,
  "nbformat_minor": 0,
  "metadata": {
    "colab": {
      "name": "copy.ipynb",
      "provenance": [],
      "authorship_tag": "ABX9TyOdXzs3oXe+bjDKMTFRW/zX",
      "include_colab_link": true
    },
    "kernelspec": {
      "name": "python3",
      "display_name": "Python 3"
    },
    "language_info": {
      "name": "python"
    }
  },
  "cells": [
    {
      "cell_type": "markdown",
      "metadata": {
        "id": "view-in-github",
        "colab_type": "text"
      },
      "source": [
        "<a href=\"https://colab.research.google.com/github/pawelztef/python_tut/blob/main/copy.ipynb\" target=\"_parent\"><img src=\"https://colab.research.google.com/assets/colab-badge.svg\" alt=\"Open In Colab\"/></a>"
      ]
    },
    {
      "cell_type": "markdown",
      "metadata": {
        "id": "CG7cngqOjYyw"
      },
      "source": [
        "### Exc 1\n",
        "\n",
        "Using the built-in ***copy*** module, make a **shallow copy** of the follwing stocks list:\n",
        "\n",
        "stocks = [['CDR,  '11B']], ['PLW'], ['TEN']]\n",
        "\n",
        "and assing to the ***stocks_copied*** list. Replace '11B' in the first element of the stocks list with 'CRJ'. Note the values in the ***stocks_copied*** list.\n",
        "Pring both ***stocks*** and ***stocks_copied*** list (each as a separate line) as shown below.\n",
        "\n",
        "**Expected result**\n",
        "\n",
        "stocks: [['CDR,  'CRJ']], ['PLW'], ['TEN']]\n",
        "\n",
        "stocks_copied: [['CDR,  'CRJ']], ['PLW'], ['TEN']]\n"
      ]
    },
    {
      "cell_type": "code",
      "metadata": {
        "id": "gJcaQgj8bz2f",
        "colab": {
          "base_uri": "https://localhost:8080/"
        },
        "outputId": "f4a9dfd4-3834-4e8d-fdbe-d4fd597b7812"
      },
      "source": [
        "import copy\n",
        "\n",
        "stocks = [['CDR', '11B'], ['PLW'], ['TEN']]\n",
        "stocks_copied = stocks.copy()\n",
        "stocks[0][1] = 'CRJ'\n",
        "\n",
        "print(f'stocks: {stocks}')\n",
        "print(f'stocks_coped: {stocks_copied}')"
      ],
      "execution_count": 3,
      "outputs": [
        {
          "output_type": "stream",
          "text": [
            "stocks: [['CDR', 'CRJ'], ['PLW'], ['TEN']]\n",
            "stocks_coped: [['CDR', 'CRJ'], ['PLW'], ['TEN']]\n"
          ],
          "name": "stdout"
        }
      ]
    }
  ]
}