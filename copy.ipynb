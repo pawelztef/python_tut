{
  "nbformat": 4,
  "nbformat_minor": 0,
  "metadata": {
    "colab": {
      "name": "copy.ipynb",
      "provenance": [],
      "authorship_tag": "ABX9TyMkzWlZA6SgeNM7HLVKeCKE",
      "include_colab_link": true
    },
    "kernelspec": {
      "name": "python3",
      "display_name": "Python 3"
    },
    "language_info": {
      "name": "python"
    }
  },
  "cells": [
    {
      "cell_type": "markdown",
      "metadata": {
        "id": "view-in-github",
        "colab_type": "text"
      },
      "source": [
        "<a href=\"https://colab.research.google.com/github/pawelztef/python_tut/blob/main/copy.ipynb\" target=\"_parent\"><img src=\"https://colab.research.google.com/assets/colab-badge.svg\" alt=\"Open In Colab\"/></a>"
      ]
    },
    {
      "cell_type": "markdown",
      "metadata": {
        "id": "CG7cngqOjYyw"
      },
      "source": [
        "### Exc 1\n",
        "\n",
        "Using the built-in ***copy*** module, make a **shallow copy** of the follwing stocks list:\n",
        "\n",
        "stocks = [['CDR,  '11B']], ['PLW'], ['TEN']]\n",
        "\n",
        "and assing to the ***stocks_copied*** list. Replace '11B' in the first element of the stocks list with 'CRJ'. Note the values in the ***stocks_copied*** list.\n",
        "Pring both ***stocks*** and ***stocks_copied*** list (each as a separate line) as shown below.\n",
        "\n",
        "**Expected result**\n",
        "\n",
        "stocks: [['CDR,  'CRJ']], ['PLW'], ['TEN']]\n",
        "\n",
        "stocks_copied: [['CDR,  'CRJ']], ['PLW'], ['TEN']]\n"
      ]
    },
    {
      "cell_type": "code",
      "metadata": {
        "id": "gJcaQgj8bz2f",
        "colab": {
          "base_uri": "https://localhost:8080/"
        },
        "outputId": "946f3d29-59fe-491a-8e10-c82c14349e29"
      },
      "source": [
        "import copy\n",
        "\n",
        "stocks = [['CDR', '11B'], ['PLW'], ['TEN']]\n",
        "stocks_copied = copy.copy(stocks)\n",
        "stocks[0][1] = 'CRJ'\n",
        "\n",
        "print(f'stocks: {stocks}')\n",
        "print(f'stocks_coped: {stocks_copied}')"
      ],
      "execution_count": 7,
      "outputs": [
        {
          "output_type": "stream",
          "text": [
            "stocks: [['CDR', 'CRJ'], ['PLW'], ['TEN']]\n",
            "stocks_coped: [['CDR', 'CRJ'], ['PLW'], ['TEN']]\n"
          ],
          "name": "stdout"
        }
      ]
    },
    {
      "cell_type": "markdown",
      "metadata": {
        "id": "IxZWvzzVoUFJ"
      },
      "source": [
        "### Exc 2\n",
        "Using the built-in copy module, make a ***deep copy*** of the follwing stocks list:\n",
        "\n",
        "stocks = [['CDR, '11B']], ['PLW'], ['TEN']]\n",
        "\n",
        "and assing to the stocks_copied list. Replace '11B' in the first element of the stocks list with 'CRJ'. Note the values in the stocks_copied list. Pring both stocks and stocks_copied list (each as a separate line) as shown below.\n",
        "\n",
        "Expected result\n",
        "\n",
        "stocks: [['CDR, 'CRJ']], ['PLW'], ['TEN']]\n",
        "\n",
        "stocks_copied: [['CDR, '11B']], ['PLW'], ['TEN']]"
      ]
    },
    {
      "cell_type": "code",
      "metadata": {
        "colab": {
          "base_uri": "https://localhost:8080/"
        },
        "id": "Lek_w5I7or-H",
        "outputId": "b4ae5ecc-00ae-4ab5-a44c-623515b9db84"
      },
      "source": [
        "import copy\n",
        "\n",
        "sotcks = [['CDR', '11B'], ['PLW'], ['TEN']]\n",
        "stocks_copied = copy.deepcopy(stocks)\n",
        "stocks[0][1] = 'CRJ'\n",
        "\n",
        "print(f'stocks: {stocks}')\n",
        "print(f'stocks_copied: {stocks_copied}')"
      ],
      "execution_count": 8,
      "outputs": [
        {
          "output_type": "stream",
          "text": [
            "stocks: [['CDR', 'CRJ'], ['PLW'], ['TEN']]\n",
            "stocks_copied: [['CDR', 'CRJ'], ['PLW'], ['TEN']]\n"
          ],
          "name": "stdout"
        }
      ]
    }
  ]
}