{
  "nbformat": 4,
  "nbformat_minor": 0,
  "metadata": {
    "colab": {
      "name": "sys.ipynb",
      "provenance": [],
      "authorship_tag": "ABX9TyNZGBDQLk5H0MTYHfd6T3vm",
      "include_colab_link": true
    },
    "kernelspec": {
      "name": "python3",
      "display_name": "Python 3"
    },
    "language_info": {
      "name": "python"
    }
  },
  "cells": [
    {
      "cell_type": "markdown",
      "metadata": {
        "id": "view-in-github",
        "colab_type": "text"
      },
      "source": [
        "<a href=\"https://colab.research.google.com/github/pawelztef/python_tut/blob/main/sys.ipynb\" target=\"_parent\"><img src=\"https://colab.research.google.com/assets/colab-badge.svg\" alt=\"Open In Colab\"/></a>"
      ]
    },
    {
      "cell_type": "markdown",
      "metadata": {
        "id": "1SBimiluJNHm"
      },
      "source": [
        "### Exc 1\n",
        "\n",
        "Using the build-in module *sys* print the absolute path to the executable binary file for the Python interpreter."
      ]
    },
    {
      "cell_type": "code",
      "metadata": {
        "colab": {
          "base_uri": "https://localhost:8080/"
        },
        "id": "0_O4PlLSJKc9",
        "outputId": "ec957f67-0c18-49d3-a2f6-854e742204c4"
      },
      "source": [
        "import sys\n",
        "\n",
        "print(sys.executable)"
      ],
      "execution_count": 1,
      "outputs": [
        {
          "output_type": "stream",
          "text": [
            "/usr/bin/python3\n"
          ],
          "name": "stdout"
        }
      ]
    },
    {
      "cell_type": "markdown",
      "metadata": {
        "id": "nBoxEEDxKG35"
      },
      "source": [
        "### Exc 2\n",
        "\n",
        "Using the *sys* built-in module print the path list where Python looks for modules."
      ]
    },
    {
      "cell_type": "code",
      "metadata": {
        "colab": {
          "base_uri": "https://localhost:8080/"
        },
        "id": "Mc-hAdJnKYg5",
        "outputId": "87a34103-2455-45d1-fb7a-d09dab559017"
      },
      "source": [
        "import sys\n",
        "\n",
        "print(sys.path)"
      ],
      "execution_count": 2,
      "outputs": [
        {
          "output_type": "stream",
          "text": [
            "['', '/content', '/env/python', '/usr/lib/python37.zip', '/usr/lib/python3.7', '/usr/lib/python3.7/lib-dynload', '/usr/local/lib/python3.7/dist-packages', '/usr/lib/python3/dist-packages', '/usr/local/lib/python3.7/dist-packages/IPython/extensions', '/root/.ipython']\n"
          ],
          "name": "stdout"
        }
      ]
    },
    {
      "cell_type": "markdown",
      "metadata": {
        "id": "TZGd079GK5G7"
      },
      "source": [
        "### Exc 3\n",
        "\n",
        "Do this excercise in command line.\n",
        "\n",
        "Using the *sys* built-in module create a script that prints all arguments passed to the conseole while calling the script\n",
        "(each argument on a separate line).\n",
        "\n"
      ]
    },
    {
      "cell_type": "code",
      "metadata": {
        "id": "rX3MrQ4bLQrJ"
      },
      "source": [
        "import sys\n",
        "\n",
        "for arg in sys.argv[1:]:\n",
        "    print(arg)"
      ],
      "execution_count": null,
      "outputs": []
    },
    {
      "cell_type": "markdown",
      "metadata": {
        "id": "nPDktaseMBO4"
      },
      "source": [
        ""
      ]
    },
    {
      "cell_type": "markdown",
      "metadata": {
        "id": "QDa-L-V6MCvg"
      },
      "source": [
        "### Exc 4\n",
        "\n",
        "Do this excercise in command line.\n",
        "\n",
        "Using the *sys* built-in module create a script that calculates su of the first two arguments. \n",
        "\n"
      ]
    },
    {
      "cell_type": "code",
      "metadata": {
        "id": "0EGyVIWMMMya"
      },
      "source": [
        "import sys\n",
        "\n",
        "if len(sys.argv) > 2:\n",
        "    result = int(sys.argv[1]) + int(sys.argv[2])\n",
        "    print(result)"
      ],
      "execution_count": null,
      "outputs": []
    }
  ]
}