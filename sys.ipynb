{
  "nbformat": 4,
  "nbformat_minor": 0,
  "metadata": {
    "colab": {
      "name": "sys.ipynb",
      "provenance": [],
      "authorship_tag": "ABX9TyM1WH+0CSK4PaC/9gRh4owP",
      "include_colab_link": true
    },
    "kernelspec": {
      "name": "python3",
      "display_name": "Python 3"
    },
    "language_info": {
      "name": "python"
    }
  },
  "cells": [
    {
      "cell_type": "markdown",
      "metadata": {
        "id": "view-in-github",
        "colab_type": "text"
      },
      "source": [
        "<a href=\"https://colab.research.google.com/github/pawelztef/python_tut/blob/main/sys.ipynb\" target=\"_parent\"><img src=\"https://colab.research.google.com/assets/colab-badge.svg\" alt=\"Open In Colab\"/></a>"
      ]
    },
    {
      "cell_type": "markdown",
      "metadata": {
        "id": "1SBimiluJNHm"
      },
      "source": [
        "### Exc 1\n",
        "\n",
        "Using the build-in module *sys* print the absolute path to the executable binary file for the Python interpreter."
      ]
    },
    {
      "cell_type": "code",
      "metadata": {
        "colab": {
          "base_uri": "https://localhost:8080/"
        },
        "id": "0_O4PlLSJKc9",
        "outputId": "ec957f67-0c18-49d3-a2f6-854e742204c4"
      },
      "source": [
        "import sys\n",
        "\n",
        "print(sys.executable)"
      ],
      "execution_count": 1,
      "outputs": [
        {
          "output_type": "stream",
          "text": [
            "/usr/bin/python3\n"
          ],
          "name": "stdout"
        }
      ]
    }
  ]
}