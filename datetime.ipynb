{
  "nbformat": 4,
  "nbformat_minor": 0,
  "metadata": {
    "colab": {
      "name": "datetime",
      "provenance": [],
      "collapsed_sections": [],
      "toc_visible": true,
      "authorship_tag": "ABX9TyPW8EHxxoEZPga0I8Dsuyyv",
      "include_colab_link": true
    },
    "kernelspec": {
      "name": "python3",
      "display_name": "Python 3"
    }
  },
  "cells": [
    {
      "cell_type": "markdown",
      "metadata": {
        "id": "view-in-github",
        "colab_type": "text"
      },
      "source": [
        "<a href=\"https://colab.research.google.com/github/pawelztef/python_tut/blob/main/datetime.ipynb\" target=\"_parent\"><img src=\"https://colab.research.google.com/assets/colab-badge.svg\" alt=\"Open In Colab\"/></a>"
      ]
    },
    {
      "cell_type": "markdown",
      "metadata": {
        "id": "NgTQItCKmyVn"
      },
      "source": [
        "#### Exc 1\n",
        "Using the built-in *datetime* module, create date objects:\n",
        "\n",
        "\n",
        "*   2021-01-01\n",
        "*   31/7/21\n",
        "*   May 7, 1990\n",
        "\n"
      ]
    },
    {
      "cell_type": "code",
      "metadata": {
        "colab": {
          "base_uri": "https://localhost:8080/"
        },
        "id": "oqkhBdX0xR4J",
        "outputId": "33e180f9-a578-404b-b9d6-c91bfab92e9b"
      },
      "source": [
        "import datetime\n",
        "\n",
        "# help(datetime.date)\n",
        "\n",
        "d = datetime.date.today()\n",
        "d_1 = d.strftime('%d/%m/%y')\n",
        "d_2 = d.strftime('%B %d, %y')\n",
        "\n",
        "print(d)\n",
        "print(d_1)\n",
        "print(d_2)"
      ],
      "execution_count": null,
      "outputs": [
        {
          "output_type": "stream",
          "text": [
            "2021-03-06\n",
            "06/03/21\n",
            "March 06, 21\n"
          ],
          "name": "stdout"
        }
      ]
    },
    {
      "cell_type": "markdown",
      "metadata": {
        "id": "rCpErY6MbOs5"
      },
      "source": [
        "### Exc 2\n",
        "Using the built-in *datetime* module create time objects for given examples\n",
        "\n",
        "\n",
        "*   12:00:00\n",
        "*   06:30:00\n",
        "*   09:15:00\n"
      ]
    },
    {
      "cell_type": "code",
      "metadata": {
        "id": "rxxkNkuPcm1J",
        "colab": {
          "base_uri": "https://localhost:8080/"
        },
        "outputId": "4de7217e-686b-44b2-a9ee-17b7cdb31e48"
      },
      "source": [
        "from datetime import time\n",
        "\n",
        "time_0 = time(12, 00)\n",
        "time_1 = time(6, 30)\n",
        "time_2 = time(9, 15)\n",
        "\n",
        "print(time_0)\n",
        "print(time_1)\n",
        "print(time_2)\n"
      ],
      "execution_count": null,
      "outputs": [
        {
          "output_type": "stream",
          "text": [
            "12:00:00\n",
            "06:30:00\n",
            "09:15:00\n"
          ],
          "name": "stdout"
        }
      ]
    },
    {
      "cell_type": "markdown",
      "metadata": {
        "id": "ijX3pHt-vW5c"
      },
      "source": [
        "### Exc 3\n",
        "Using the built-in *datetime* module create *dateime* objcets for the given dates\n",
        "\n",
        "\n",
        "*   Jul 20 2020 11:30:00\n",
        "*   1990-03-10 12:00:00\n",
        "*   2021-01-01 00:00:00\n",
        "\n"
      ]
    },
    {
      "cell_type": "code",
      "metadata": {
        "colab": {
          "base_uri": "https://localhost:8080/"
        },
        "id": "bLqRb5Isvyrx",
        "outputId": "f330eaa8-9d55-46e6-e05a-48cc1b04d070"
      },
      "source": [
        "from datetime import datetime\n",
        "\n",
        "dt_1 = datetime(2020, 7, 20, 11, 30, 0)\n",
        "dt_2 = datetime(1990, 3, 10, 12, 0, 0)\n",
        "dt_3 = datetime(2021, 1, 1, 0, 0, 0)\n",
        "\n",
        "\n",
        "print(dt_1.strftime('%B %d %Y %H:%M:%S'))\n",
        "print(dt_2.strftime('%Y-%m-%d %H:%M:%S'))\n",
        "print(dt_3.strftime('%Y-%m-%d %H:%M:%S'))\n"
      ],
      "execution_count": null,
      "outputs": [
        {
          "output_type": "stream",
          "text": [
            "July 20 2020 11:30:00\n",
            "1990-03-10 12:00:00\n",
            "2021-01-01 00:00:00\n"
          ],
          "name": "stdout"
        }
      ]
    },
    {
      "cell_type": "markdown",
      "metadata": {
        "id": "rE-blWInDd7C"
      },
      "source": [
        "### Exc 4\n",
        "Using the built-in *datetime*, determine the number of days between 2020-07-21 and 2020-12-31"
      ]
    },
    {
      "cell_type": "code",
      "metadata": {
        "colab": {
          "base_uri": "https://localhost:8080/"
        },
        "id": "i-90mbM3DogD",
        "outputId": "76e433b9-4174-41ab-a5a6-2a4c39bc6a36"
      },
      "source": [
        "from datetime import datetime\n",
        "\n",
        "dt_1 = datetime(2020, 7, 21)\n",
        "dt_2 = datetime(2020, 12, 31)\n",
        "\n",
        "diff = (dt_2 - dt_1).days\n",
        "\n",
        "print(f'Number of days: {diff}')"
      ],
      "execution_count": null,
      "outputs": [
        {
          "output_type": "stream",
          "text": [
            "Number of days: 163\n"
          ],
          "name": "stdout"
        }
      ]
    },
    {
      "cell_type": "markdown",
      "metadata": {
        "id": "zDRBMueuGUHK"
      },
      "source": [
        "### Exc 5\n",
        "Using the built-in *datetime* module, determine the exact time elapsed between the dates\n",
        "\n",
        "\n",
        "*   Jul 20 2020 11:30:00\n",
        "*   2021-02-20 10:25:00\n",
        "\n"
      ]
    },
    {
      "cell_type": "code",
      "metadata": {
        "id": "fLnGXopWFqN9",
        "colab": {
          "base_uri": "https://localhost:8080/"
        },
        "outputId": "3021f9fe-9b6a-4fd1-d357-b98f8863a816"
      },
      "source": [
        "from datetime import datetime\n",
        "\n",
        "dt_1 = datetime(2020, 7, 20, 11, 30, 0)\n",
        "dt_2 = datetime(2021, 2, 20, 10, 25, 0)\n",
        "\n",
        "diff = dt_2 - dt_1\n",
        "\n",
        "print(f'Difference between datetimes: {diff}')\n",
        "\n"
      ],
      "execution_count": null,
      "outputs": [
        {
          "output_type": "stream",
          "text": [
            "Difference between datetimes: 214 days, 22:55:00\n"
          ],
          "name": "stdout"
        }
      ]
    },
    {
      "cell_type": "markdown",
      "metadata": {
        "id": "AZ6sicYHB0id"
      },
      "source": [
        "### Exc 6\n",
        "Using the built-in module, the *datetime* class and the *strftime()* method format the following date:\n",
        "\n",
        "* 2021-04-20 11:30:00\n",
        "\n",
        "To the following formats:\n",
        "\n",
        "* 2021-04-20\n",
        "* 20-04-2021\n",
        "* 04-2021\n",
        "* April-2021\n",
        "* 20 April, 2021\n",
        "* 2021-04-20 11:30:00\n",
        "* 04/20/21 11:30:00\n",
        "* 20(Tue) April 2021\n",
        "\n",
        "Then print the formatted dates to the console.\n"
      ]
    },
    {
      "cell_type": "code",
      "metadata": {
        "colab": {
          "base_uri": "https://localhost:8080/"
        },
        "id": "O_lmZ-b8B3VI",
        "outputId": "0062b3e8-0a54-405f-8e07-2ca9d56a450a"
      },
      "source": [
        "from datetime import datetime\n",
        "\n",
        "dt = datetime(2021, 4, 20, 11, 30, 0)\n",
        "\n",
        "dt_1 = dt.strftime('%Y-%m-%d')\n",
        "dt_2 = dt.strftime('%d-%m-%Y')\n",
        "dt_3 = dt.strftime('%m-%Y')\n",
        "dt_4 = dt.strftime('%B-%Y')\n",
        "dt_5 = dt.strftime('%d %b, %Y')\n",
        "dt_6 = dt.strftime('%Y-%m-%d %H:%M:%S')\n",
        "dt_7 = dt.strftime('%m/%d/%y %H:%M:%S')\n",
        "dt_8 = dt.strftime('%d(%a) %B %Y')\n",
        "\n",
        "print(dt_1)\n",
        "print(dt_2)\n",
        "print(dt_3)\n",
        "print(dt_4)\n",
        "print(dt_5)\n",
        "print(dt_6)\n",
        "print(dt_7)\n",
        "print(dt_8)"
      ],
      "execution_count": null,
      "outputs": [
        {
          "output_type": "stream",
          "text": [
            "2021-04-20\n",
            "20-04-2021\n",
            "04-2021\n",
            "April-2021\n",
            "20 Apr, 2021\n",
            "2021-04-20 11:30:00\n",
            "04/20/21 11:30:00\n",
            "20(Tue) April 2021\n"
          ],
          "name": "stdout"
        }
      ]
    },
    {
      "cell_type": "markdown",
      "metadata": {
        "id": "ueNI0mccUtjp"
      },
      "source": [
        "### Exc 7\n",
        "\n",
        "Using the built-in *datetime* module and *strptime()* function parse the follwing *str* objects:\n",
        "\n",
        "* date_str_1 = '3 March 1995'\n",
        "* date_str_2 = '3/9/1995'\n",
        "* date_str_3 = '21-07-2021'\n",
        "\n",
        "to *datetime* object. Print the result to the console.\n",
        "\n"
      ]
    },
    {
      "cell_type": "code",
      "metadata": {
        "id": "JDgePcK3azNt",
        "colab": {
          "base_uri": "https://localhost:8080/"
        },
        "outputId": "1268b60f-837f-4b17-8435-0f68d2e60921"
      },
      "source": [
        "from datetime import datetime\n",
        "\n",
        "date_str_1 = '3 March 1995'\n",
        "date_str_2 = '3/9/1995'\n",
        "date_str_3 = '21-07-2021'\n",
        "\n",
        "dt_obj_1 = datetime.strptime(date_str_1, '%d %B %Y')\n",
        "dt_obj_2 = datetime.strptime(date_str_2, '%d/%m/%Y')\n",
        "dt_obj_3 = datetime.strptime(date_str_3, '%d-%m-%Y') \n",
        "\n",
        "print(dt_obj_1)\n",
        "print(dt_obj_2)\n",
        "print(dt_obj_3)"
      ],
      "execution_count": null,
      "outputs": [
        {
          "output_type": "stream",
          "text": [
            "1995-03-03 00:00:00\n",
            "1995-09-03 00:00:00\n",
            "2021-07-21 00:00:00\n"
          ],
          "name": "stdout"
        }
      ]
    },
    {
      "cell_type": "markdown",
      "metadata": {
        "id": "oR_s8lC04X9-"
      },
      "source": [
        "### Exc 8\n",
        "\n",
        "Using the built-in *datetime*, determine the number of days unitl the end of the currnet year.\n",
        "\n",
        "**Expected result:**\n",
        "\n",
        "Number of days unitl the end of year: x"
      ]
    },
    {
      "cell_type": "code",
      "metadata": {
        "colab": {
          "base_uri": "https://localhost:8080/"
        },
        "id": "bZ6crOsH455f",
        "outputId": "d13745db-2477-49e1-c4c2-63f78766f06b"
      },
      "source": [
        "from datetime import date\n",
        "\n",
        "date_today = date.today()\n",
        "date_year_end = date(date_today.year, 12, 31)\n",
        "date_diff = (date_year_end - date_today).days\n",
        "\n",
        "print(f'Numer of days until the end of year: {date_diff}')"
      ],
      "execution_count": null,
      "outputs": [
        {
          "output_type": "stream",
          "text": [
            "Numer of days until the end of year: 257\n"
          ],
          "name": "stdout"
        }
      ]
    },
    {
      "cell_type": "markdown",
      "metadata": {
        "id": "qkJFNKYjOk-J"
      },
      "source": [
        "### Exc 9\n",
        "\n",
        "Using the built-in *datetime* module, datermine the exact time remaining until the end of the current year.\n",
        "\n",
        "**Expected result:**\n",
        "\n",
        "Until the end of the year: x\n",
        "\n",
        "For example, for the date: 2020-07-21 08:33:33.199898 ther return will be:\n",
        "\n",
        "*Until the end of the year: 162 days, 16:20:20.811065*"
      ]
    },
    {
      "cell_type": "code",
      "metadata": {
        "colab": {
          "base_uri": "https://localhost:8080/"
        },
        "id": "YPBUwFccQmtd",
        "outputId": "5a6ad7d4-4da0-4b55-9a4d-4df04bca0156"
      },
      "source": [
        "from datetime import datetime\n",
        "\n",
        "date_today = datetime.now()\n",
        "date_year_end = datetime(date_today.year + 1, 1, 1)\n",
        "date_diff = date_year_end - date_today\n",
        "\n",
        "print(f'Until the end of the year: {date_diff}')\n"
      ],
      "execution_count": null,
      "outputs": [
        {
          "output_type": "stream",
          "text": [
            "Until the end of the year: 257 days, 14:27:30.554240\n"
          ],
          "name": "stdout"
        }
      ]
    },
    {
      "cell_type": "markdown",
      "metadata": {
        "id": "n5IDsvLTVcs8"
      },
      "source": [
        "### Exc 10\n",
        "\n",
        "Using the built-in *datetime* module, the *datetime* and *timedelta* classes from the given date 2020-01-01 00:00:00 get the date:\n",
        "\n",
        "* shifted by 7 days\n",
        "* shifted by 30 days\n",
        "* shifted by 30 hours\n",
        "* shifted by 15 minutes\n",
        "\n",
        "\n",
        "**Expected result:**\n",
        "\n",
        "2020-01-08 00:00:00\n",
        "\n",
        "2020-01-31 00:00:00\n",
        "\n",
        "2020-01-02 06:00:00\n",
        "\n",
        "2020-01-01 00:15:00"
      ]
    },
    {
      "cell_type": "code",
      "metadata": {
        "colab": {
          "base_uri": "https://localhost:8080/"
        },
        "id": "1g9yRouYVgK4",
        "outputId": "ffccc094-7f8d-4063-b2b2-940a4716197d"
      },
      "source": [
        "from datetime import timedelta, datetime\n",
        "\n",
        "given_date = datetime(2020, 1, 1)\n",
        "\n",
        "print(given_date + timedelta(days=7))\n",
        "print(given_date + timedelta(days=30))\n",
        "print(given_date + timedelta(hours=30))\n",
        "print(given_date + timedelta(minutes=15))"
      ],
      "execution_count": null,
      "outputs": [
        {
          "output_type": "stream",
          "text": [
            "2020-01-08 00:00:00\n",
            "2020-01-31 00:00:00\n",
            "2020-01-02 06:00:00\n",
            "2020-01-01 00:15:00\n"
          ],
          "name": "stdout"
        }
      ]
    },
    {
      "cell_type": "markdown",
      "metadata": {
        "id": "4mPaqZNXaQxK"
      },
      "source": [
        "### Exc 11\n",
        "\n",
        "Using the built-in module *datetime* and *timedelta* classes create the given list of dates:\n",
        "\n",
        "\n",
        "\n",
        "```\n",
        "[\n",
        "    datetime(2020, 1, 1, 0, 0),\n",
        "    datetime(2020, 1, 1, 8, 0),\n",
        "    datetime(2020, 1, 1, 16, 0),\n",
        "    datetime(2020, 1, 2, 0, 0),\n",
        "    datetime(2020, 1, 2, 8, 0),\n",
        "    datetime(2020, 1, 2, 16, 0),\n",
        "    datetime(2020, 1, 3, 0, 0),\n",
        "    datetime(2020, 1, 3, 8, 0),\n",
        "    datetime(2020, 1, 3, 16, 0),\n",
        "    datetime(2020, 1, 4, 0, 0),\n",
        "    datetime(2020, 1, 4, 8, 0),\n",
        "    datetime(2020, 1, 4, 16, 0),\n",
        "]\n",
        "```\n",
        "\n",
        "and assign to variable *dates*. Dates start from **2020-01-01 00:00:00** end on \n",
        "**2020-01-04 16:00:00** and differ by 8 hrs. Then print each date to the console.\n",
        "\n",
        "\n",
        "**Expected result**\n",
        "\n",
        "2020-01-01 00:00:00\n",
        "\n",
        "2020-01-01 08:00:00\n",
        "\n",
        "2020-01-01 16:00:00\n",
        "\n",
        "2020-01-02 00:00:00\n",
        "\n",
        "2020-01-02 08:00:00\n",
        "\n",
        "2020-01-02 16:00:00\n",
        "\n",
        "2020-01-03 00:00:00\n",
        "\n",
        "2020-01-03 08:00:00\n",
        "\n",
        "2020-01-03 16:00:00\n",
        "\n",
        "2020-01-04 00:00:00\n",
        "\n",
        "2020-01-04 08:00:00\n",
        "\n",
        "2020-01-04 16:00:00\n",
        "\n"
      ]
    },
    {
      "cell_type": "code",
      "metadata": {
        "colab": {
          "base_uri": "https://localhost:8080/"
        },
        "id": "rn9_BUfIbPph",
        "outputId": "18fb4ab4-637d-4230-c07e-2f753b0e43e2"
      },
      "source": [
        "from datetime import datetime, timedelta\n",
        "\n",
        "\n",
        "given_date = datetime(2020, 1, 1)\n",
        "delta = timedelta(hours=8)\n",
        "dates = [given_date + i * delta for i in range(12)]\n",
        "\n",
        "for date in dates:\n",
        "    print(date)\n"
      ],
      "execution_count": null,
      "outputs": [
        {
          "output_type": "stream",
          "text": [
            "2020-01-01 00:00:00\n",
            "2020-01-01 08:00:00\n",
            "2020-01-01 16:00:00\n",
            "2020-01-02 00:00:00\n",
            "2020-01-02 08:00:00\n",
            "2020-01-02 16:00:00\n",
            "2020-01-03 00:00:00\n",
            "2020-01-03 08:00:00\n",
            "2020-01-03 16:00:00\n",
            "2020-01-04 00:00:00\n",
            "2020-01-04 08:00:00\n",
            "2020-01-04 16:00:00\n"
          ],
          "name": "stdout"
        }
      ]
    },
    {
      "cell_type": "markdown",
      "metadata": {
        "id": "7-Cqm4nVfcpl"
      },
      "source": [
        "### Exc 12\n",
        "\n",
        "Using the built-in *datetime* module calculate the future value of the investment (*presnet* value) of USD 1000 with annual interest of **4%** (rate) and daily coumpound capitalization of interest, assuming the duration of the investment from **2021-07-01** to **2021-12-31**. For calcualtions, assume that year has 365 days.\n",
        "\n",
        "Print the future value to the console.\n",
        "\n",
        "**Expected result:**\n",
        "\n",
        "Future value: $ 1020.26"
      ]
    },
    {
      "cell_type": "code",
      "metadata": {
        "colab": {
          "base_uri": "https://localhost:8080/"
        },
        "id": "uep1SkWFgNvk",
        "outputId": "71717e6d-20a2-4fc7-f684-722c48b845c8"
      },
      "source": [
        "from datetime import date\n",
        "\n",
        "rate = 0.04\n",
        "pv = 1000\n",
        "daily_rate = rate / 365.0\n",
        "\n",
        "start_date = date(2021, 7, 1)\n",
        "end_date = date(2021, 12, 31)\n",
        "\n",
        "duration = end_date - start_date\n",
        "\n",
        "fv = pv * (1 + daily_rate) ** duration.days\n",
        "\n",
        "print(f'Future value: $ {fv:.2f}')"
      ],
      "execution_count": null,
      "outputs": [
        {
          "output_type": "stream",
          "text": [
            "Future value: $ 1020.26\n"
          ],
          "name": "stdout"
        }
      ]
    }
  ]
}