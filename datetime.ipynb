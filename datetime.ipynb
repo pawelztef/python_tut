{
  "nbformat": 4,
  "nbformat_minor": 0,
  "metadata": {
    "colab": {
      "name": "datetime",
      "provenance": [],
      "collapsed_sections": [],
      "authorship_tag": "ABX9TyMbboEmKbYNtped2nLDyjHw",
      "include_colab_link": true
    },
    "kernelspec": {
      "name": "python3",
      "display_name": "Python 3"
    }
  },
  "cells": [
    {
      "cell_type": "markdown",
      "metadata": {
        "id": "view-in-github",
        "colab_type": "text"
      },
      "source": [
        "<a href=\"https://colab.research.google.com/github/pawelztef/python_tut/blob/main/datetime.ipynb\" target=\"_parent\"><img src=\"https://colab.research.google.com/assets/colab-badge.svg\" alt=\"Open In Colab\"/></a>"
      ]
    },
    {
      "cell_type": "markdown",
      "metadata": {
        "id": "NgTQItCKmyVn"
      },
      "source": [
        "#### Exc 1\n",
        "Using the built-in datetime module, create date objects:\n",
        "\n",
        "\n",
        "*   2021-01-01\n",
        "*   31/7/21\n",
        "*   May 7, 1990\n",
        "\n"
      ]
    },
    {
      "cell_type": "code",
      "metadata": {
        "colab": {
          "base_uri": "https://localhost:8080/"
        },
        "id": "oqkhBdX0xR4J",
        "outputId": "33e180f9-a578-404b-b9d6-c91bfab92e9b"
      },
      "source": [
        "import datetime\n",
        "\n",
        "# help(datetime.date)\n",
        "\n",
        "d = datetime.date.today()\n",
        "d_1 = d.strftime('%d/%m/%y')\n",
        "d_2 = d.strftime('%B %d, %y')\n",
        "\n",
        "print(d)\n",
        "print(d_1)\n",
        "print(d_2)"
      ],
      "execution_count": null,
      "outputs": [
        {
          "output_type": "stream",
          "text": [
            "2021-03-06\n",
            "06/03/21\n",
            "March 06, 21\n"
          ],
          "name": "stdout"
        }
      ]
    },
    {
      "cell_type": "markdown",
      "metadata": {
        "id": "rCpErY6MbOs5"
      },
      "source": [
        "### Exc 2\n",
        "Using the built-in datetime module create time objects for given examples\n",
        "\n",
        "\n",
        "*   12:00:00\n",
        "*   06:30:00\n",
        "*   09:15:00\n"
      ]
    },
    {
      "cell_type": "code",
      "metadata": {
        "id": "rxxkNkuPcm1J",
        "colab": {
          "base_uri": "https://localhost:8080/"
        },
        "outputId": "4de7217e-686b-44b2-a9ee-17b7cdb31e48"
      },
      "source": [
        "from datetime import time\n",
        "\n",
        "time_0 = time(12, 00)\n",
        "time_1 = time(6, 30)\n",
        "time_2 = time(9, 15)\n",
        "\n",
        "print(time_0)\n",
        "print(time_1)\n",
        "print(time_2)\n"
      ],
      "execution_count": null,
      "outputs": [
        {
          "output_type": "stream",
          "text": [
            "12:00:00\n",
            "06:30:00\n",
            "09:15:00\n"
          ],
          "name": "stdout"
        }
      ]
    },
    {
      "cell_type": "code",
      "metadata": {
        "id": "UEcQL7hHuQH6"
      },
      "source": [
        ""
      ],
      "execution_count": null,
      "outputs": []
    },
    {
      "cell_type": "markdown",
      "metadata": {
        "id": "ijX3pHt-vW5c"
      },
      "source": [
        "### Exc 3\n",
        "Using the built-in datetime module create dateime objcets for the given dates\n",
        "\n",
        "\n",
        "*   Jul 20 2020 11:30:00\n",
        "*   1990-03-10 12:00:00\n",
        "*   2021-01-01 00:00:00\n",
        "\n"
      ]
    },
    {
      "cell_type": "code",
      "metadata": {
        "colab": {
          "base_uri": "https://localhost:8080/"
        },
        "id": "bLqRb5Isvyrx",
        "outputId": "f330eaa8-9d55-46e6-e05a-48cc1b04d070"
      },
      "source": [
        "from datetime import datetime\n",
        "\n",
        "dt_1 = datetime(2020, 7, 20, 11, 30, 0)\n",
        "dt_2 = datetime(1990, 3, 10, 12, 0, 0)\n",
        "dt_3 = datetime(2021, 1, 1, 0, 0, 0)\n",
        "\n",
        "\n",
        "print(dt_1.strftime('%B %d %Y %H:%M:%S'))\n",
        "print(dt_2.strftime('%Y-%m-%d %H:%M:%S'))\n",
        "print(dt_3.strftime('%Y-%m-%d %H:%M:%S'))\n"
      ],
      "execution_count": null,
      "outputs": [
        {
          "output_type": "stream",
          "text": [
            "July 20 2020 11:30:00\n",
            "1990-03-10 12:00:00\n",
            "2021-01-01 00:00:00\n"
          ],
          "name": "stdout"
        }
      ]
    },
    {
      "cell_type": "markdown",
      "metadata": {
        "id": "rE-blWInDd7C"
      },
      "source": [
        "### Exc 4\n",
        "Using the built-in datetiem, determine the nuymber of days between 2020-07-21 and 2020-12-31"
      ]
    },
    {
      "cell_type": "code",
      "metadata": {
        "colab": {
          "base_uri": "https://localhost:8080/"
        },
        "id": "i-90mbM3DogD",
        "outputId": "76e433b9-4174-41ab-a5a6-2a4c39bc6a36"
      },
      "source": [
        "from datetime import datetime\n",
        "\n",
        "dt_1 = datetime(2020, 7, 21)\n",
        "dt_2 = datetime(2020, 12, 31)\n",
        "\n",
        "diff = (dt_2 - dt_1).days\n",
        "\n",
        "print(f'Number of days: {diff}')"
      ],
      "execution_count": null,
      "outputs": [
        {
          "output_type": "stream",
          "text": [
            "Number of days: 163\n"
          ],
          "name": "stdout"
        }
      ]
    },
    {
      "cell_type": "markdown",
      "metadata": {
        "id": "zDRBMueuGUHK"
      },
      "source": [
        "### Exc 5\n",
        "Using the built-in datetime module, determine the exact time elapsed between the dates\n",
        "\n",
        "\n",
        "*   Jul 20 2020 11:30:00\n",
        "*   2021-02-20 10:25:00\n",
        "\n"
      ]
    },
    {
      "cell_type": "code",
      "metadata": {
        "id": "fLnGXopWFqN9",
        "outputId": "3021f9fe-9b6a-4fd1-d357-b98f8863a816",
        "colab": {
          "base_uri": "https://localhost:8080/"
        }
      },
      "source": [
        "from datetime import datetime\n",
        "\n",
        "dt_1 = datetime(2020, 7, 20, 11, 30, 0)\n",
        "dt_2 = datetime(2021, 2, 20, 10, 25, 0)\n",
        "\n",
        "diff = dt_2 - dt_1\n",
        "\n",
        "print(f'Difference between datetimes: {diff}')\n",
        "\n"
      ],
      "execution_count": 1,
      "outputs": [
        {
          "output_type": "stream",
          "text": [
            "Difference between datetimes: 214 days, 22:55:00\n"
          ],
          "name": "stdout"
        }
      ]
    }
  ]
}