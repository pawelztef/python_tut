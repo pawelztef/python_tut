{
  "nbformat": 4,
  "nbformat_minor": 0,
  "metadata": {
    "colab": {
      "name": "datetime",
      "provenance": [],
      "collapsed_sections": [],
      "authorship_tag": "ABX9TyPI0kBa4DLwCHxiuwfkrjhG",
      "include_colab_link": true
    },
    "kernelspec": {
      "name": "python3",
      "display_name": "Python 3"
    }
  },
  "cells": [
    {
      "cell_type": "markdown",
      "metadata": {
        "id": "view-in-github",
        "colab_type": "text"
      },
      "source": [
        "<a href=\"https://colab.research.google.com/github/pawelztef/python_tut/blob/main/datetime.ipynb\" target=\"_parent\"><img src=\"https://colab.research.google.com/assets/colab-badge.svg\" alt=\"Open In Colab\"/></a>"
      ]
    },
    {
      "cell_type": "markdown",
      "metadata": {
        "id": "NgTQItCKmyVn"
      },
      "source": [
        "#### Exc 1\n",
        "Using the built-in datetime module, creae date objects:\n",
        "\n",
        "\n",
        "*   2021-01-01\n",
        "*   31/7/21\n",
        "*   May 7, 1990\n",
        "\n"
      ]
    },
    {
      "cell_type": "code",
      "metadata": {
        "colab": {
          "base_uri": "https://localhost:8080/"
        },
        "id": "oqkhBdX0xR4J",
        "outputId": "33e180f9-a578-404b-b9d6-c91bfab92e9b"
      },
      "source": [
        "import datetime\n",
        "\n",
        "# help(datetime.date)\n",
        "\n",
        "d = datetime.date.today()\n",
        "d_1 = d.strftime('%d/%m/%y')\n",
        "d_2 = d.strftime('%B %d, %y')\n",
        "\n",
        "print(d)\n",
        "print(d_1)\n",
        "print(d_2)"
      ],
      "execution_count": 18,
      "outputs": [
        {
          "output_type": "stream",
          "text": [
            "2021-03-06\n",
            "06/03/21\n",
            "March 06, 21\n"
          ],
          "name": "stdout"
        }
      ]
    }
  ]
}