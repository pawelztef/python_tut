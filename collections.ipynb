{
  "nbformat": 4,
  "nbformat_minor": 0,
  "metadata": {
    "colab": {
      "name": "collections.ipynb",
      "provenance": [],
      "authorship_tag": "ABX9TyO2JM5sV1Tr+vb3mjMGX12l",
      "include_colab_link": true
    },
    "kernelspec": {
      "name": "python3",
      "display_name": "Python 3"
    },
    "language_info": {
      "name": "python"
    }
  },
  "cells": [
    {
      "cell_type": "markdown",
      "metadata": {
        "id": "view-in-github",
        "colab_type": "text"
      },
      "source": [
        "<a href=\"https://colab.research.google.com/github/pawelztef/python_tut/blob/main/collections.ipynb\" target=\"_parent\"><img src=\"https://colab.research.google.com/assets/colab-badge.svg\" alt=\"Open In Colab\"/></a>"
      ]
    },
    {
      "cell_type": "markdown",
      "metadata": {
        "id": "Q5B6FGpq2X6o"
      },
      "source": [
        ""
      ]
    },
    {
      "cell_type": "markdown",
      "metadata": {
        "id": "CwuUYkYi2a72"
      },
      "source": [
        "### Exc 1\n",
        "The following target list is given:\n",
        "\n",
        "```\n",
        "target = ['yes', 'no', 'no', None, 'yes', 'yes', 'no', 'yes']\n",
        "```\n",
        "\n",
        "Using the built-in **collections** module create a ***Counter*** class object from the given list. \n",
        "\n",
        "Print the result to the console.\n",
        "\n",
        "Expected result:\n",
        "\n",
        "```\n",
        "Counter({'yes': 4, 'no': 3, None: 1})\n",
        "```"
      ]
    },
    {
      "cell_type": "code",
      "metadata": {
        "colab": {
          "base_uri": "https://localhost:8080/"
        },
        "id": "pbr0xFejqsCf",
        "outputId": "bfccb2dd-fff6-4854-94bc-7cdfe42a1d86"
      },
      "source": [
        "from collections import Counter\n",
        "\n",
        "target = ['yes', 'no', 'no', None, 'yes', 'yes', 'no', 'yes']\n",
        "\n",
        "counter = Counter(target)\n",
        "\n",
        "print(counter)\n"
      ],
      "execution_count": 2,
      "outputs": [
        {
          "output_type": "stream",
          "text": [
            "Counter({'yes': 4, 'no': 3, None: 1})\n"
          ],
          "name": "stdout"
        }
      ]
    },
    {
      "cell_type": "markdown",
      "metadata": {
        "id": "cgwsAZNK2fip"
      },
      "source": [
        "### Exc 2\n",
        "The results of voting in two groups are given in the form of dictionaries:\n",
        "\n",
        "```\n",
        "poll_1 = {'yes': 140, 'no': 120, None: 12}\n",
        "\n",
        "poll_2 = {'yes': 113, 'no': 132, None: 9}\n",
        "```\n",
        "\n",
        "The dictionary keys mean respectively:\n",
        "\n",
        "* 'yes' - vote for yes\n",
        "\n",
        "* 'no' - vote for no\n",
        "\n",
        "* 'None' - invalid vote.\n",
        "\n",
        "Using the built-in **collections** module create two objects of the ***Counter*** class from the given dictionaries. \n",
        "\n",
        "Then combine these objects into one and print to the console.\n",
        "\n",
        "Expected result:\n",
        "\n",
        "```\n",
        "Counter({'yes': 253, 'no': 252, None: 21})\n",
        "```"
      ]
    },
    {
      "cell_type": "code",
      "metadata": {
        "colab": {
          "base_uri": "https://localhost:8080/"
        },
        "id": "UEu734iJsB-e",
        "outputId": "64755368-341a-46af-f30f-430daddb79d6"
      },
      "source": [
        "from collections import Counter\n",
        "\n",
        "poll_1 = {'yes': 140, 'no': 120, None: 12}\n",
        "poll_2 = {'yes': 113, 'no': 132, None: 9}\n",
        "\n",
        "ct1 = Counter(poll_1)\n",
        "ct2 = Counter(poll_2)\n",
        "\n",
        "ctR = ct1 + ct2\n",
        "\n",
        "print(ctR)"
      ],
      "execution_count": 4,
      "outputs": [
        {
          "output_type": "stream",
          "text": [
            "Counter({'yes': 253, 'no': 252, None: 21})\n"
          ],
          "name": "stdout"
        }
      ]
    },
    {
      "cell_type": "markdown",
      "metadata": {
        "id": "1ygYNgLy3lgY"
      },
      "source": [
        "### Exc 3\n",
        "\n",
        "The results of voting in three groups are given in the form of dictionaries:\n",
        "\n",
        "```\n",
        "poll_1 = {'yes': 140, 'no': 120, None: 12}\n",
        "\n",
        "poll_2 = {'yes': 113, 'no': 132, None: 9}\n",
        "\n",
        "poll_3 = {'yes': 16, 'no': 14}\n",
        "```\n",
        "\n",
        "The dictionary keys mean respectively:\n",
        "\n",
        "* 'yes' - vote for yes\n",
        "* 'no' - vote for no\n",
        "* 'None' - invalid vote.\n",
        "\n",
        "Using the built-in **collections** module and the ***Counter*** class find the total number of 'yes' votes and print to the console.\n",
        "\n",
        "Expected result:\n",
        "\n",
        "```\n",
        "269\n",
        "```"
      ]
    },
    {
      "cell_type": "code",
      "metadata": {
        "colab": {
          "base_uri": "https://localhost:8080/"
        },
        "id": "FLUOgocpsctP",
        "outputId": "4a48137e-07b9-4a8d-febd-4325409ea24b"
      },
      "source": [
        "from collections import Counter\n",
        "\n",
        "poll_1 = {'yes': 140, 'no': 120, None: 12}\n",
        "poll_2 = {'yes': 113, 'no': 132, None: 9}\n",
        "poll_3 = {'yes': 16, 'no': 14}\n",
        "\n",
        "counter_1 = Counter(poll_1)\n",
        "counter_2 = Counter(poll_2)\n",
        "counter_3 = Counter(poll_3)\n",
        "\n",
        "result = (counter_1 + counter_2 + counter_3)['yes']\n",
        "\n",
        "print(result)\n"
      ],
      "execution_count": 15,
      "outputs": [
        {
          "output_type": "stream",
          "text": [
            "269\n"
          ],
          "name": "stdout"
        }
      ]
    },
    {
      "cell_type": "markdown",
      "metadata": {
        "id": "quPf8ec73xuR"
      },
      "source": [
        "### Exc 4\n",
        "\n",
        "The text is as follows:\n",
        "\n",
        "```\n",
        "text = 'python programming - introduction'\n",
        "```\n",
        "\n",
        "Using the built-in **collections** module and the ***Counter*** class find the distribution of characters in the given text (create a Counter object). \n",
        "\n",
        "Print the result to the console.\n",
        "\n",
        "Expected result:\n",
        "\n",
        "```\n",
        "Counter({'o': 4, 'n': 4, 't': 3, ' ': 3, 'r': 3, 'i': 3, 'p': 2, 'g': 2, 'm': 2, 'y': 1, 'h': 1, 'a': 1, '-': 1, 'd': 1, 'u': 1, 'c': 1})\n",
        "```"
      ]
    },
    {
      "cell_type": "code",
      "metadata": {
        "colab": {
          "base_uri": "https://localhost:8080/"
        },
        "id": "dx1dxPfRwDIJ",
        "outputId": "81807fb9-2bd5-478c-e0e1-f4b73b833552"
      },
      "source": [
        "from collections import Counter\n",
        "\n",
        "text = 'python programming - introduction'\n",
        "\n",
        "ct = Counter(text)\n",
        "\n",
        "print(ct)"
      ],
      "execution_count": 17,
      "outputs": [
        {
          "output_type": "stream",
          "text": [
            "Counter({'o': 4, 'n': 4, 't': 3, ' ': 3, 'r': 3, 'i': 3, 'p': 2, 'g': 2, 'm': 2, 'y': 1, 'h': 1, 'a': 1, '-': 1, 'd': 1, 'u': 1, 'c': 1})\n"
          ],
          "name": "stdout"
        }
      ]
    },
    {
      "cell_type": "markdown",
      "metadata": {
        "id": "wIvY5dAB353r"
      },
      "source": [
        "### Exc 5\n",
        "\n",
        "The following text is given:\n",
        "\n",
        "```\n",
        "text = 'python programming - introduction'\n",
        "```\n",
        "\n",
        "Using the built-in **collections** module and the **Counter** class calculate the three most common characters in the given text. \n",
        "\n",
        "Print the result as shown below.\n",
        "\n",
        "Expected result:\n",
        "\n",
        "```\n",
        "[('o', 4), ('n', 4), ('t', 3)]\n",
        "```"
      ]
    },
    {
      "cell_type": "code",
      "metadata": {
        "colab": {
          "base_uri": "https://localhost:8080/"
        },
        "id": "gjwnar6VxMKW",
        "outputId": "b8c3c438-8e12-47f2-829b-8a1ccaa7c105"
      },
      "source": [
        "from collections import Counter\n",
        "\n",
        "text = 'python programming - introduction'\n",
        "\n",
        "result = Counter(text).most_common(3)\n",
        "\n",
        "print(result)\n"
      ],
      "execution_count": 19,
      "outputs": [
        {
          "output_type": "stream",
          "text": [
            "[('o', 4), ('n', 4), ('t', 3)]\n"
          ],
          "name": "stdout"
        }
      ]
    },
    {
      "cell_type": "markdown",
      "metadata": {
        "id": "VzQLiWMm4MB7"
      },
      "source": [
        "### Exc 6\n",
        "The following text is given:\n",
        "\n",
        "```\n",
        "text = \"\"\"\"Python is fast enough for our site and allows us to produce maintainable features in record times,with a minimum of developers,\" said Cuong Do, Software Architect, YouTube.com. \"Python plays a key role in our production pipeline. Without it a project the size of Star Wars:Episode II would have been very difficult to pull off. From crowd rendering to batch processing to compositing,Python binds all things together,\" said Tommy Burnette,Senior Technical Director, Industrial Light & Magic.\"\"\"\n",
        "```\n",
        "\n",
        "Using the built-in **re** module split the given text into words/tokens.\n",
        "Standardize the words (all lowercase). \n",
        "Then create a Counter object that allows you to determine the three most common words in the text. \n",
        "In response, print these words with the number of occurrences.\n",
        "\n",
        "Expected result:\n",
        "\n",
        "```\n",
        "[('to', 4), ('python', 3), ('a', 3)]\n",
        "```\n"
      ]
    },
    {
      "cell_type": "code",
      "metadata": {
        "colab": {
          "base_uri": "https://localhost:8080/"
        },
        "id": "j1gD8S_R_615",
        "outputId": "e724549c-b082-4bc4-9d8c-686ed4935274"
      },
      "source": [
        "import re\n",
        "from collections import Counter\n",
        "\n",
        "text = \"\"\"\"Python is fast enough for our site and allows us to produce \n",
        "maintainable features in record times,with a minimum of developers,\" \n",
        "said Cuong Do, Software Architect, YouTube.com. \"Python plays a key \n",
        "role in our production pipeline. Without it a project the size of Star\n",
        "Wars: Episode II would have been very difficult to pull off. From crowd \n",
        "rendering to batch processing to compositing,Python binds all things \n",
        "together,\" said Tommy Burnette,Senior Technical Director, Industrial \n",
        "Light & Magic.\"\"\"\n",
        "\n",
        "text = text.lower()\n",
        "text_list = re.findall('\\w+', text)\n",
        "\n",
        "result = Counter(text_list).most_common(3)\n",
        "\n",
        "print(result)\n"
      ],
      "execution_count": 24,
      "outputs": [
        {
          "output_type": "stream",
          "text": [
            "[('to', 4), ('python', 3), ('a', 3)]\n"
          ],
          "name": "stdout"
        }
      ]
    },
    {
      "cell_type": "markdown",
      "metadata": {
        "id": "0m58LC1_4Trt"
      },
      "source": [
        "\n",
        "### Exc 7\n",
        "The following list is given:\n",
        "\n",
        "```\n",
        "fnames = [    \n",
        "     '001_image.png', '002_image.png', '003_image.jpg', '004_image.png',  '005_image.png', '006_image.png', '007_image.jpg', '008_image.png',     '009_image.jpg', '010_image.jpg', '011_image.jpg', '012_image.png',     '013_image.jpg', '014_image.jpg', '015_image.jpg', '016_image.png',     '017_image.jpg', '018_image.jpg', '019_image.png', '020_image.png',     '021_image.jpg', '022_image.jpg', '023_image.png', '024_image.png',     '025_image.jpg', '026_image.png', '027_image.png', '028_image.jpg',     '029_image.png', '030_image.png'     \n",
        "]\n",
        "```\n",
        "     \n",
        "Using the built-in **collections** module and the ***Counter*** class find the distribution of file extensions in the given fnames list. Print the result to the console.\n",
        "\n",
        "Expected result:\n",
        "\n",
        "```\n",
        "Counter({'png': 16, 'jpg': 14})\n",
        "```"
      ]
    },
    {
      "cell_type": "code",
      "metadata": {
        "colab": {
          "base_uri": "https://localhost:8080/"
        },
        "id": "OEW9fWffBtB3",
        "outputId": "4bb66c24-3f36-4fd6-a12c-49c42e8ed308"
      },
      "source": [
        "from collections import Counter\n",
        "\n",
        "fnames = [    \n",
        "    '001_image.png', '002_image.png', '003_image.jpg', '004_image.png',\n",
        "    '005_image.png', '006_image.png', '007_image.jpg', '008_image.png', \n",
        "    '009_image.jpg', '010_image.jpg', '011_image.jpg', '012_image.png',     \n",
        "    '013_image.jpg', '014_image.jpg', '015_image.jpg', '016_image.png',     \n",
        "    '017_image.jpg', '018_image.jpg', '019_image.png', '020_image.png',     \n",
        "    '021_image.jpg', '022_image.jpg', '023_image.png', '024_image.png',     \n",
        "    '025_image.jpg', '026_image.png', '027_image.png', '028_image.jpg',     \n",
        "    '029_image.png', '030_image.png'      \n",
        "]\n",
        "\n",
        "exts = [fname.split('.')[1] for fname in fnames]\n",
        "counter = Counter(exts)\n",
        "print(counter)\n",
        "\n"
      ],
      "execution_count": 27,
      "outputs": [
        {
          "output_type": "stream",
          "text": [
            "Counter({'png': 16, 'jpg': 14})\n"
          ],
          "name": "stdout"
        }
      ]
    },
    {
      "cell_type": "markdown",
      "metadata": {
        "id": "olVBvAXN4c0Y"
      },
      "source": [
        "\n",
        "### Exc 8\n",
        "\n",
        "Using the built-in **collections** module from the following dictionaries:\n",
        "\n",
        "```\n",
        "stocks_1 = {'CDR': 400, 'PLW': 490}\n",
        "\n",
        "stocks_2 = {'PLW': 500, 'TEN': 550, 'BBT': 30}\n",
        "```\n",
        "\n",
        "create a **ChainMap** object and assign to the stocks variable. \n",
        "\n",
        "In response, print this variable to the console."
      ]
    },
    {
      "cell_type": "code",
      "metadata": {
        "colab": {
          "base_uri": "https://localhost:8080/"
        },
        "id": "vBlHKTYBDjSy",
        "outputId": "ac7b742f-dd9b-4826-d526-a0454dc0a15a"
      },
      "source": [
        "from collections import ChainMap\n",
        "\n",
        "stocks_1 = {'CDR': 400, 'PLW': 490}\n",
        " \n",
        "stocks_2 = {'PLW': 500, 'TEN': 550, 'BBT': 30}\n",
        "\n",
        "stocks = ChainMap(stocks_1, stocks_2)\n",
        "\n",
        "print(stocks)\n"
      ],
      "execution_count": 28,
      "outputs": [
        {
          "output_type": "stream",
          "text": [
            "ChainMap({'CDR': 400, 'PLW': 490}, {'PLW': 500, 'TEN': 550, 'BBT': 30})\n"
          ],
          "name": "stdout"
        }
      ]
    },
    {
      "cell_type": "markdown",
      "metadata": {
        "id": "h5NE-AJR4oea"
      },
      "source": [
        "### Exc 9\n",
        "Using the built-in collections module from the following dictionaries:\n",
        "\n",
        "```\n",
        "stocks_1 = {'CDR': 400, 'PLW': 490}\n",
        "\n",
        "stocks_2 = {'PLW': 500, 'TEN': 550, 'BBT': 30}\n",
        "```\n",
        "\n",
        "ChainMap object has been created and assigned to the stocks variable. Find the value for the key 'PLW' in the ChainMap object and print to the console.\n",
        "\n",
        "Expected result:\n",
        "\n",
        "```\n",
        "490\n",
        "```"
      ]
    },
    {
      "cell_type": "code",
      "metadata": {
        "colab": {
          "base_uri": "https://localhost:8080/"
        },
        "id": "6GSfboRPD2iH",
        "outputId": "905a8221-ce4a-4052-96f8-c9820a8d81b7"
      },
      "source": [
        "from collections import ChainMap\n",
        "\n",
        "stocks_1 = {'CDR': 400, 'PLW': 490}\n",
        " \n",
        "stocks_2 = {'PLW': 500, 'TEN': 550, 'BBT': 30}\n",
        "\n",
        "stocks = ChainMap(stocks_1, stocks_2)\n",
        "\n",
        "print(stocks['PLW'])"
      ],
      "execution_count": 30,
      "outputs": [
        {
          "output_type": "stream",
          "text": [
            "490\n"
          ],
          "name": "stdout"
        }
      ]
    },
    {
      "cell_type": "markdown",
      "metadata": {
        "id": "_IOpvWQC5Eea"
      },
      "source": [
        "\n",
        "### Exc 10\n",
        "Using the built-in ***collections*** module from the following dictionaries:\n",
        "\n",
        "```\n",
        "techs = {'Apple': 370, 'Samsung': 1100, 'Microsoft': 201}\n",
        "\n",
        "finance = {'Citigroup': 51, 'Allianz': 180}\n",
        "\n",
        "gaming = {'Sony': 76, 'Nintendo': 470, 'EA': 135}\n",
        "```\n",
        "\n",
        "create a ChainMap object and assign to stocks variable. Find the value for the 'Samsung' key in the ChainMap object and print to the console.\n",
        "\n",
        "Expected result:\n",
        "\n",
        "```\n",
        "1100\n",
        "```"
      ]
    },
    {
      "cell_type": "code",
      "metadata": {
        "colab": {
          "base_uri": "https://localhost:8080/"
        },
        "id": "Bd9RTml0ERPX",
        "outputId": "634be37b-6573-47de-df8e-ff26bc5bcf94"
      },
      "source": [
        "from collections import ChainMap\n",
        "\n",
        "techs = {'Apple': 370, 'Samsung': 1100, 'Microsoft': 201}\n",
        " \n",
        "finance = {'Citigroup': 51, 'Allianz': 180}\n",
        " \n",
        "gaming = {'Sony': 76, 'Nintendo': 470, 'EA': 135}\n",
        "\n",
        "stocks = ChainMap(techs, finance, gaming)\n",
        "\n",
        "print(stocks['Samsung'])"
      ],
      "execution_count": 31,
      "outputs": [
        {
          "output_type": "stream",
          "text": [
            "1100\n"
          ],
          "name": "stdout"
        }
      ]
    },
    {
      "cell_type": "markdown",
      "metadata": {
        "id": "IZ25Mxkn5MKo"
      },
      "source": [
        "\n",
        "### Exc 11\n",
        "Using the built-in collections module from the following dictionaries:\n",
        "\n",
        "```\n",
        "techs = {'Apple': 370, 'Samsung': 1100, 'Microsoft': 201}\n",
        "finance = {'Citigroup': 51, 'Allianz': 180}\n",
        "gaming = {'Sony': 76, 'Nintendo': 470, 'EA': 135}\n",
        "```\n",
        "\n",
        "ChainMap object was created and assigned to the stocks variable. Update the value for the key 'Microsoft' in the techs dictionary to 210. Then read the value for this key and print to the console.\n",
        "\n",
        "\n",
        "Expected result:\n",
        "\n",
        "```\n",
        "210\n",
        "```"
      ]
    },
    {
      "cell_type": "code",
      "metadata": {
        "colab": {
          "base_uri": "https://localhost:8080/"
        },
        "id": "BR0Gc_VGEjSP",
        "outputId": "c3e25919-0a7a-4fa5-cfa4-cef82a4c2e16"
      },
      "source": [
        "from collections import ChainMap\n",
        "\n",
        "techs = {'Apple': 370, 'Samsung': 1100, 'Microsoft': 201}\n",
        "finance = {'Citigroup': 51, 'Allianz': 180}\n",
        "gaming = {'Sony': 76, 'Nintendo': 470, 'EA': 135}\n",
        "\n",
        "stocks = ChainMap(techs, finance, gaming)\n",
        "stocks['Microsoft'] = 210\n",
        "\n",
        "print(stocks['Microsoft'])"
      ],
      "execution_count": 32,
      "outputs": [
        {
          "output_type": "stream",
          "text": [
            "210\n"
          ],
          "name": "stdout"
        }
      ]
    },
    {
      "cell_type": "markdown",
      "metadata": {
        "id": "vcRjBakG5UF1"
      },
      "source": [
        "\n",
        "### Exc 12\n",
        "Using the built-in ***collections*** module from the following dictionaries:\n",
        "\n",
        "```\n",
        "techs = {'Apple': 370, 'Samsung': 1100, 'Microsoft': 201}\n",
        "finance = {'Citigroup': 51, 'Allianz': 180}\n",
        "gaming = {'Sony': 76, 'Nintendo': 470, 'EA': 135}\n",
        "```\n",
        "\n",
        "an object of the **ChainMap** class was created and assigned to the stocks variable. Print all keys of the **ChainMap** object to the console (sorted alphabetically).\n",
        "\n",
        "Expected result:\n",
        "```\n",
        "['Allianz', 'Apple', 'Citigroup', 'EA', 'Microsoft', 'Nintendo', 'Samsung', 'Sony']\n",
        "```"
      ]
    },
    {
      "cell_type": "code",
      "metadata": {
        "colab": {
          "base_uri": "https://localhost:8080/"
        },
        "id": "jQlg8cEEGK2E",
        "outputId": "4f5eeb90-43de-499c-e4a1-93a38ffcdb3f"
      },
      "source": [
        "from collections import ChainMap\n",
        "\n",
        "techs = {'Apple': 370, 'Samsung': 1100, 'Microsoft': 201}\n",
        "finance = {'Citigroup': 51, 'Allianz': 180}\n",
        "gaming = {'Sony': 76, 'Nintendo': 470, 'EA': 135}\n",
        "\n",
        "stocks = ChainMap(techs, finance, gaming)\n",
        "stocks_keys = list(stocks.keys())\n",
        "\n",
        "print(sorted(stocks_keys))\n"
      ],
      "execution_count": 35,
      "outputs": [
        {
          "output_type": "stream",
          "text": [
            "['Allianz', 'Apple', 'Citigroup', 'EA', 'Microsoft', 'Nintendo', 'Samsung', 'Sony']\n"
          ],
          "name": "stdout"
        }
      ]
    },
    {
      "cell_type": "markdown",
      "metadata": {
        "id": "xW6Ruvtf59KZ"
      },
      "source": [
        "\n",
        "### Exc 13\n",
        "The following problem was encountered while implementing the car application. It's necessary to store information about car settings (with one object in Python). Two parameters are always set:\n",
        "\n",
        "\n",
        "* **mode** \n",
        "* **power_level**\n",
        "\n",
        "By default, these parameters store the values: 'eco' and 7. \n",
        "\n",
        "However, their values ​​may change depending on the user's settings. Let's assume that the user can pass the following settings:\n",
        "\n",
        "```\n",
        "{'mode': 'sport', 'power_level': 10}\n",
        "```\n",
        "\n",
        "Consider how you can use the **ChainMap** class in this case.\n",
        "\n",
        "Steps:\n",
        "\n",
        "* create a dictionary with default settings (default_settings)\n",
        "\n",
        "* create a dictionary with user settings (user_settings)\n",
        "\n",
        "* create a **ChainMap** object from the given dictionaries in the right order (settings). \n",
        "\n",
        "In response, print the value for the 'mode' key of the settings **ChainMap**.\n",
        "\n",
        "Expected result:\n",
        "```\n",
        "sport\n",
        "```"
      ]
    },
    {
      "cell_type": "code",
      "metadata": {
        "colab": {
          "base_uri": "https://localhost:8080/"
        },
        "id": "hTJsk4-QHxQx",
        "outputId": "2e947471-7fa5-4e60-9525-e3a4405d0d32"
      },
      "source": [
        "from collections import ChainMap\n",
        "\n",
        "default_settings = {'mode': 'eco', 'power_level': 7}\n",
        "user_settings = {'mode': 'sport', 'power_level': 10}\n",
        "\n",
        "all_settings = ChainMap(user_settings, default_settings)\n",
        "\n",
        "print(all_settings['mode'])"
      ],
      "execution_count": 38,
      "outputs": [
        {
          "output_type": "stream",
          "text": [
            "sort\n"
          ],
          "name": "stdout"
        }
      ]
    },
    {
      "cell_type": "markdown",
      "metadata": {
        "id": "_fKpuPcW6E2N"
      },
      "source": [
        "\n",
        "### Exc 14\n",
        "The following problem was encountered while implementing the car application.\n",
        "\n",
        "It's necessary to store information about car settings (with one object in Python). Two parameters are always set: \n",
        "\n",
        "* **mode** \n",
        "* **power_level**. \n",
        "\n",
        "By default, these parameters store the values: ***'eco'*** and ***7***. \n",
        "\n",
        "However, their values ​​may change depending on the user's settings. In this exercise the user hasn't set any additional settings. Consider how you can use the **ChainMap** class in this case.Steps create a dictionary with default settings (default_settings) create a dictionary with user settings (user_settings) create a **ChainMap** object from the given dictionaries in the right order (settings)\n",
        "\n",
        "\n",
        "In response, print the value for the ***'mode'*** key of the settings **ChainMap**.\n",
        "\n",
        "\n",
        "Expected result:\n",
        "\n",
        "```\n",
        "eco\n",
        "```"
      ]
    },
    {
      "cell_type": "code",
      "metadata": {
        "colab": {
          "base_uri": "https://localhost:8080/"
        },
        "id": "Ab6JHJ4QKqtq",
        "outputId": "a25aadd4-b2e0-429e-9fb2-03de31880ba1"
      },
      "source": [
        "from collections import ChainMap\n",
        "\n",
        "default_settings = {'mode': 'eco', 'power_level': 7}\n",
        "user_settings = {}\n",
        "\n",
        "all_settings = ChainMap(user_settings, default_settings)\n",
        "\n",
        "print(all_settings['mode'])"
      ],
      "execution_count": 40,
      "outputs": [
        {
          "output_type": "stream",
          "text": [
            "eco\n"
          ],
          "name": "stdout"
        }
      ]
    },
    {
      "cell_type": "markdown",
      "metadata": {
        "id": "bVRb6Ta_6TjO"
      },
      "source": [
        "\n",
        "### Exc 15\n",
        "Using the built-in ***collections*** module and the **namedtuple()** function create a class named **Point** to store points in a two-dimensional space (R^2). \n",
        "\n",
        "Name the fields 'x' and 'y' respectively.  Then create two points with coordinates:\n",
        "* (3, 4)\n",
        "* (-2, 6)\n",
        "\n",
        "Print these objects to the console.\n",
        "\n",
        "Expected result:\n",
        "\n",
        "```\n",
        "Point(x=3, y=4)Point(x=-2, y=6)\n",
        "```\n"
      ]
    },
    {
      "cell_type": "markdown",
      "metadata": {
        "id": "4FOg6Pz-6ik-"
      },
      "source": [
        "### Exc 16\n",
        "Using the built-in ***collections*** module and the ***namedtuple()*** function, a class Point was implemented. Then the following points were created:\n",
        "\n",
        "```\n",
        "pt1 = Point(3, 4)\n",
        "pt2 = Point(-2, 6)\n",
        "```\n",
        "\n",
        "Find the midpoint of the segment at points pt1 and pt2 and print the result to the console.\n",
        "\n",
        "Returns a new subclass of tuple with named fields.\n",
        "\n",
        "Expected result:\n",
        "\n",
        "```\n",
        "Point(x=0.5, y=5.0)\n",
        "```"
      ]
    },
    {
      "cell_type": "markdown",
      "metadata": {
        "id": "IL6_l45g6rBz"
      },
      "source": [
        "\n",
        "### Exc 17\n",
        "Using the built-in ***collections*** module and the ***namedtuple()*** function create a class called **Student** to store data about students. \n",
        "\n",
        "Set the following attributes/fields:\n",
        "\n",
        "* 'name'\n",
        "* 'age'\n",
        "* 'specialization'\n",
        "\n",
        "Then create three students with the given data:\n",
        "\n",
        "```\n",
        "Student('Mike', 21, 'physics')\n",
        "Student('Kate', 20, 'mathematics')\n",
        "Student('Bob', 21, 'information technology')\n",
        "```\n",
        "\n",
        "and assign it to the students list. Iterate through the students list and print basic information about the students to the console as shown below.\n",
        "\n",
        "Expected result:\n",
        "```\n",
        "Mike : 21: physics\n",
        "Kate : 20: mathematics\n",
        "Bob  : 21: information technology\n",
        "```"
      ]
    },
    {
      "cell_type": "markdown",
      "metadata": {
        "id": "xJv1vGra6ySE"
      },
      "source": [
        "\n",
        "### Exc 18\n",
        "Exercise 18Using the built-in collections module and the namedtuple() function, a class called Student was implemented.Then four students with the given data were created:Student('Mike', 21, 'physics'),Student('Mark', 22, 'biology'),Student('Kate', 20, 'mathematics'),Student('Bob', 21, 'information technology')and assigned to the students list. Sort the students list by age (age attribute) in ascending order. In response, print the students list to the console.Tip:>>> help(namedtuple) Help on function namedtuple in module collections: namedtuple(typename, field_names, *, verbose=False, rename=False, module=None)    Returns a new subclass of tuple with named fields.Expected result:[Student(name='Kate', age=20, specialization='mathematics'), Student(name='Mike', age=21, specialization='physics'), Student(name='Bob', age=21, specialization='information technology'), Student(name='Mark', age=22, specialization='biology')]"
      ]
    },
    {
      "cell_type": "markdown",
      "metadata": {
        "id": "gUbAi7zr66Pp"
      },
      "source": [
        "\n",
        "### Exc 19\n",
        "Exercise 19Using the built-in collections module and the namedtuple() function, a class called Student was implemented.Three dictionaries are given:st1 = {'name': 'Kate', 'age': 20, 'specialization': 'mathematics'}st2 = {'name': 'Mike', 'age': 21, 'specialization': 'physics'}st3 = {'name': 'Bob', 'age': 21, 'specialization': 'information technology'}Create Student objects from these dictionaries and assign them to the students list. Then, iterating through the students list, print each student to the console.Tip:>>> help(namedtuple) Help on function namedtuple in module collections: namedtuple(typename, field_names, *, verbose=False, rename=False, module=None)    Returns a new subclass of tuple with named fields.Expected result:Student(name='Kate', age=20, specialization='mathematics')Student(name='Mike', age=21, specialization='physics')Student(name='Bob', age=21, specialization='information technology')"
      ]
    },
    {
      "cell_type": "markdown",
      "metadata": {
        "id": "MUtrbKip7Bba"
      },
      "source": [
        "\n",
        "### Exc 20\n",
        "Exercise 20Using the built-in collections module and the namedtuple() function, a class called Student was implemented.The students.txt file containing student data is attached to this exercise:{'name': 'Kate', 'age': 20, 'specialization': 'mathematics'}{'name': 'Mike', 'age': 21, 'specialization': 'physics'}{'name': 'Bob', 'age': 21, 'specialization': 'information technology'}Load the file students.txt and create Student objects from the given dictionaries and assign them to the students list. Then print the students list to the console.Tip:>>> help(namedtuple) Help on function namedtuple in module collections: namedtuple(typename, field_names, *, verbose=False, rename=False, module=None)    Returns a new subclass of tuple with named fields.Expected result:[Student(name='Kate', age=20, specialization='mathematics'), Student(name='Mike', age=21, specialization='physics'), Student(name='Bob', age=21, specialization='information technology')]\n"
      ]
    },
    {
      "cell_type": "markdown",
      "metadata": {
        "id": "k3mGGoH17J42"
      },
      "source": [
        "\n",
        "### Exc 21\n",
        "Exercise 21Consider an empty dictionary named quotations as defined below:quotations = {}When trying to read a value for non-existing key, e.g. 'source'quotations['source']we get the KeyError. We can deal with it in several ways. For this exercise, consider the dict.get() method:>>> help(dict.get) Help on method_descriptor: get(...)    D.get(k[,d]) -> D[k] if k in D, else d.  d defaults to None.In this case, when we execute the code:quotations.get('source')No error is raised and the return value is None.Using the dict.get() method, set the default value to 'NYSE' and print value for 'source' key of quotations dictionary to the console. Also print the quotations dictionary to the console.Expected result:NYSE{}"
      ]
    },
    {
      "cell_type": "markdown",
      "metadata": {
        "id": "DUWILeSr7T6j"
      },
      "source": [
        "\n",
        "### Exc 22\n",
        "Exercise 22Consider an empty dictionary named quotations as defined below:quotations = {}When trying to read a value for non-existing key, e.g. 'source'quotations['source']we get the KeyError. We can deal with it in several ways. In this exercise, consider the dict.setdefault() method:>>> help(dict.setdefault) Help on method_descriptor: setdefault(...)    D.setdefault(k[,d]) -> D.get(k,d), also set D[k]=d if k not in DUsing the dict.setdefault() method set the default value for the 'source' key to 'NYSE'. Then print the quotations dictionary to the console.Try again to set the default value for the key 'source' to 'LSE' this time. Then print the dictionary quotations and the value for the key 'source' of quotations dictionary as shown below to the console.Expected result:{'source': 'NYSE'}{'source': 'NYSE'}NYSE"
      ]
    },
    {
      "cell_type": "markdown",
      "metadata": {
        "id": "UEO-Ru-l7Y6-"
      },
      "source": [
        "\n",
        "### Exc 23\n",
        "Exercise 23The following list is given:data = [    ('technology', 'Apple'),    ('gaming', 'Techland'),    ('finance', 'Berkshire Hathaway'),    ('gaming', 'EA'),    ('technology', 'Facebook'),    ('gaming', 'CD Projekt'),    ('finance', 'Allianz')    ]Using the dictionary and the dict.setdefault() method create the following object:{'technology': ['Apple', 'Facebook'], 'gaming': ['Techland', 'EA', 'CD Projekt'], 'finance': ['Berkshire Hathaway', 'Allianz']}and assign it to the data_dict variable. In response, print this variable to the console.Tip:>>> help(dict.setdefault) Help on method_descriptor: setdefault(...)    D.setdefault(k[,d]) -> D.get(k,d), also set D[k]=d if k not in DExpected result:{'technology': ['Apple', 'Facebook'], 'gaming': ['Techland', 'EA', 'CD Projekt'], 'finance': ['Berkshire Hathaway', 'Allianz']}"
      ]
    },
    {
      "cell_type": "markdown",
      "metadata": {
        "id": "5NhFt-7D7hAw"
      },
      "source": [
        "\n",
        "### Exc 24\n",
        "Exercise 24The following list is given:data = [    ('technology', 'Apple'),    ('gaming', 'Techland'),    ('finance', 'Berkshire Hathaway'),    ('gaming', 'EA'),    ('technology', 'Facebook'),    ('gaming', 'CD Projekt'),    ('finance', 'Allianz')    ]Using the built-in collections module and the defaultdict class create the following object:defaultdict(<class 'list'>, {'technology': ['Apple', 'Facebook'], 'gaming': ['Techland', 'EA', 'CD Projekt'], 'finance': ['Berkshire Hathaway', 'Allianz']})and assign it to def_dict. Print this variable to the console.Tip:>>> help(defaultdict) Help on class defaultdict in module collections: class defaultdict(builtins.dict) |  defaultdict(default_factory[, ...]) --> dict with default factory |   |  The default factory is called without arguments to produce |  a new value when a key is not present, in __getitem__ only. |  A defaultdict compares equal to a dict with the same items. |  All remaining arguments are treated the same as if they were |  passed to the dict constructor, including keyword arguments.Expected result:defaultdict(<class 'list'>, {'technology': ['Apple', 'Facebook'], 'gaming': ['Techland', 'EA', 'CD Projekt'], 'finance': ['Berkshire Hathaway', 'Allianz']})"
      ]
    },
    {
      "cell_type": "markdown",
      "metadata": {
        "id": "JhNmcSd77mmy"
      },
      "source": [
        "\n",
        "### Exc 25\n",
        "Exercise 25The following list is given:data = [    ('technology', 'Facebook'),            ('technology', 'Apple'),    ('gaming', 'Techland'),    ('finance', 'Berkshire Hathaway'),    ('gaming', 'EA'),    ('gaming', 'EA'),        ('technology', 'Facebook'),    ('gaming', 'CD Projekt'),    ('finance', 'Allianz')    ]Notice that the list contains duplicate values. Using the built-in collections module and the defaultdict class create the following object:defaultdict(<class 'set'>, {'technology': {'Facebook', 'Apple'}, 'gaming': {'EA', 'CD Projekt', 'Techland'}, 'finance': {'Allianz', 'Berkshire Hathaway'}})and assign it to def_dict. Print this variable to the console.Tip:>>> help(defaultdict) Help on class defaultdict in module collections: class defaultdict(builtins.dict) |  defaultdict(default_factory[, ...]) --> dict with default factory |   |  The default factory is called without arguments to produce |  a new value when a key is not present, in __getitem__ only. |  A defaultdict compares equal to a dict with the same items. |  All remaining arguments are treated the same as if they were |  passed to the dict constructor, including keyword arguments.Expected result:defaultdict(<class 'set'>, {'technology': {'Facebook', 'Apple'}, 'gaming': {'EA', 'CD Projekt', 'Techland'}, 'finance': {'Allianz', 'Berkshire Hathaway'}})"
      ]
    },
    {
      "cell_type": "markdown",
      "metadata": {
        "id": "K3HRJWM-7vKg"
      },
      "source": [
        "\n",
        "### Exc 26\n",
        "Exercise 26The following list is given:transactions = [    ('001', 100),    ('003', 10),    ('002', 80),    ('001', 90),    ('002', 46),    ('001', 43),    ('003', 23),]Using the built-in collections module and the defaultdict class create the following object (group by the first element - user_id):defaultdict(<class 'int'>, {'001': 233, '003': 33, '002': 126})and assign it to def_dict. Print this variable to the console.Tip:>>> help(defaultdict) Help on class defaultdict in module collections: class defaultdict(builtins.dict) |  defaultdict(default_factory[, ...]) --> dict with default factory |   |  The default factory is called without arguments to produce |  a new value when a key is not present, in __getitem__ only. |  A defaultdict compares equal to a dict with the same items. |  All remaining arguments are treated the same as if they were |  passed to the dict constructor, including keyword arguments.Expected result:defaultdict(<class 'int'>, {'001': 233, '003': 33, '002': 126})"
      ]
    },
    {
      "cell_type": "markdown",
      "metadata": {
        "id": "snNg_IaV73W2"
      },
      "source": [
        "\n",
        "### Exc 27\n",
        "Exercise 27The following list is given:['Tue.', 'Wed.', 'Thu.', 'Fri.', 'Sat.']Using the collections built-in module create a double-ended queue object (deque) from the given list and assign it to the daynames variable. Then add the item 'Mon.' at the beginning and the element 'Sun.' at the end of the daynames object. In response, print the daynames deque to the console.Tip:>>> help(deque) Help on class deque in module collections: class deque(builtins.object) |  deque([iterable[, maxlen]]) --> deque object |   |  A list-like sequence optimized for data accesses near its endpoints.Expected result:deque(['Mon.', 'Tue.', 'Wed.', 'Thu.', 'Fri.', 'Sat.', 'Sun.'])"
      ]
    },
    {
      "cell_type": "markdown",
      "metadata": {
        "id": "2gmsmpxV79qa"
      },
      "source": [
        "\n",
        "### Exc 28\n",
        "Exercise 28The following deque object is given:daynames = deque(['Mon.', 'Tue.', 'Wed.', 'Thu.', 'Fri.', 'Sat.', 'Sun.'])Using the built-in collections module and the deque class, move one item forward in the daynames deque, as shown below:deque(['Sun.', 'Mon.', 'Tue.', 'Wed.', 'Thu.', 'Fri.', 'Sat.'])In response, print the daynames to the console.Tip:>>> help(deque.rotate) Help on method_descriptor: rotate(...)    Rotate the deque n steps to the right (default n=1).  If n is negative, rotates left.Expected result:deque(['Sun.', 'Mon.', 'Tue.', 'Wed.', 'Thu.', 'Fri.', 'Sat.'])"
      ]
    },
    {
      "cell_type": "markdown",
      "metadata": {
        "id": "6jgvu4aE8Efs"
      },
      "source": [
        "\n",
        "### Exc 29\n",
        "Exercise 29The following deque object is given:daynames = deque(['Mon.', 'Tue.', 'Wed.', 'Thu.', 'Fri.', 'Sat.', 'Sun.'])Using the built-in collections module and the deque class, shift three items back in the daynames deque, as shown below:deque(['Thu.', 'Fri.', 'Sat.', 'Sun.', 'Mon.', 'Tue.', 'Wed.'])Then, using the appropriate method pop the last element out of this deque and print to the console.Tip:>>> help(deque.pop) Help on method_descriptor: pop(...)    Remove and return the rightmost element.Expected result:Wed."
      ]
    },
    {
      "cell_type": "markdown",
      "metadata": {
        "id": "JLNXgCbD8MGn"
      },
      "source": [
        "\n",
        "### Exc 30\n",
        "Exercise 30The following deque object is given:daynames = deque(['Mon.', 'Tue.', 'Wed.', 'Thu.', 'Fri.', 'Sat.', 'Sun.'])Using the collections built-in module and the deque class reverse the order of the daynames queue as shown below:deque(['Sun.', 'Sat.', 'Fri.', 'Thu.', 'Wed.', 'Tue.', 'Mon.'])Then, using the appropriate method pop the first element out of this deque and print to the console.Tip:>>> help(deque.reverse) Help on method_descriptor: reverse(...)    D.reverse() -- reverse *IN PLACE*>>> help(deque.popleft) Help on method_descriptor: popleft(...)    Remove and return the leftmost element.Expected result:Sun."
      ]
    },
    {
      "cell_type": "markdown",
      "metadata": {
        "id": "Iw8FLdCU8SYm"
      },
      "source": [
        "\n",
        "### Exc 31\n",
        "Exercise 31The premiere of a computer game is planned and the option to subscribe to the wish list is opened. When a user subscribes to the wish list user id is added to the deque. Using the built-in collections module create an empty deque object named wishlist. Following users subscribed to the wish list in the given order:'003''001''004''002''005'Add these users to the wishlist deque.You should get following object:deque(['003', '001', '004', '002', '005'])Using the appropriate method pop the first subscribed user from this deque and print to the console.Tip:>>> help(deque.popleft) Help on method_descriptor: popleft(...)    Remove and return the leftmost element.Expected result:003"
      ]
    },
    {
      "cell_type": "markdown",
      "metadata": {
        "id": "T3uYVacd8dT8"
      },
      "source": [
        "\n",
        "### Exc 32\n",
        "Exercise 32The premiere of a computer game is planned and the option to subscribe to the wish list is opened. When a user subscribes to the wish list user id is added to the deque. Several users subscribed to the wish list. The data is received as a stream. If an error occurs, the value None appears in the stream instead of the user id. In this case, the deque should be cleared.Using the built-in collections module create an empty deque object named wishlist. Following users subscribed to the wish list in the given order (in stream):'003''001''004'None'002''005'Add these users to the wishlist deque in the way described above. In response, print the wishlist to the console.Tip:>>> help(deque) Help on class deque in module collections: class deque(builtins.object) |  deque([iterable[, maxlen]]) --> deque object |   |  A list-like sequence optimized for data accesses near its endpoints.Expected result:deque(['002', '005'])"
      ]
    },
    {
      "cell_type": "markdown",
      "metadata": {
        "id": "fgKppdgH8irl"
      },
      "source": [
        "\n",
        "### Exc 33\n",
        "Exercise 33The premiere of a computer game is planned and the option to subscribe to the wish list is opened. When a user subscribes to the wish list user id is added to the deque. Using the built-in collections module create an empty deque object named wishlist with the maximum length of three elements. Following users subscribed to the wish list in the given order:'003''001''004''006''002''005'Add these users to the wishlist deque. In response, print wishlist deque to the console each time you add a user as shown below.Tip:>>> help(deque.maxlen) Help on getset descriptor collections.deque.maxlen: maxlen    maximum size of a deque or None if unboundedExpected result:deque(['003'], maxlen=3)deque(['003', '001'], maxlen=3)deque(['003', '001', '004'], maxlen=3)deque(['001', '004', '006'], maxlen=3)deque(['004', '006', '002'], maxlen=3)deque(['006', '002', '005'], maxlen=3)"
      ]
    },
    {
      "cell_type": "markdown",
      "metadata": {
        "id": "7h75d4KH8rjj"
      },
      "source": [
        "\n",
        "### Exc 34\n",
        "Exercise 34The premiere of a computer game is planned and the option to subscribe to the wish list is opened. When a user subscribes to the wish list user id is added to the deque. Following users subscribed to the wish list in the given order:'003''001''004''002''005'Using the collections built-in module a deque object called wishlist was created based on the data from the user_ids list. Extend the wishlist with three additional users: ['007', '009', '010']In response, print the wishlist object to the console.Tip:>>> help(deque.extend) Help on method_descriptor: extend(...)    Extend the right side of the deque with elements from the iterableExpected result:deque(['003', '001', '004', '002', '005', '007', '009', '010'])"
      ]
    }
  ]
}