{
  "nbformat": 4,
  "nbformat_minor": 0,
  "metadata": {
    "colab": {
      "name": "collections.ipynb",
      "provenance": [],
      "authorship_tag": "ABX9TyOf0iPZ8yJExOL2FJintwiU",
      "include_colab_link": true
    },
    "kernelspec": {
      "name": "python3",
      "display_name": "Python 3"
    },
    "language_info": {
      "name": "python"
    }
  },
  "cells": [
    {
      "cell_type": "markdown",
      "metadata": {
        "id": "view-in-github",
        "colab_type": "text"
      },
      "source": [
        "<a href=\"https://colab.research.google.com/github/pawelztef/python_tut/blob/main/collections.ipynb\" target=\"_parent\"><img src=\"https://colab.research.google.com/assets/colab-badge.svg\" alt=\"Open In Colab\"/></a>"
      ]
    },
    {
      "cell_type": "markdown",
      "metadata": {
        "id": "Q5B6FGpq2X6o"
      },
      "source": [
        ""
      ]
    },
    {
      "cell_type": "markdown",
      "metadata": {
        "id": "CwuUYkYi2a72"
      },
      "source": [
        "### Exc 1\n",
        "Exercise 1The following target list is given:target = ['yes', 'no', 'no', None, 'yes', 'yes', 'no', 'yes']Using the built-in collections module create a Counter class object from the given list. Print the result to the console.Tip:>>> help(Counter) Help on class Counter in module collections: class Counter(builtins.dict) |  Dict subclass for counting hashable items.  Sometimes called a bag |  or multiset.  Elements are stored as dictionary keys and their counts |  are stored as dictionary values.Expected result:Counter({'yes': 4, 'no': 3, None: 1})"
      ]
    },
    {
      "cell_type": "markdown",
      "metadata": {
        "id": "cgwsAZNK2fip"
      },
      "source": [
        "### Exc 2\n",
        "Exercise 2The results of voting in two groups are given in the form of dictionaries:poll_1 = {'yes': 140, 'no': 120, None: 12}poll_2 = {'yes': 113, 'no': 132, None: 9}The dictionary keys mean respectively:'yes' - vote for yes'no' - vote for no'None' - invalid voteUsing the built-in collections module create two objects of the Counter class from the given dictionaries. Then combine these objects into one and print to the console.Tip:>>> help(Counter) Help on class Counter in module collections: class Counter(builtins.dict) |  Dict subclass for counting hashable items.  Sometimes called a bag |  or multiset.  Elements are stored as dictionary keys and their counts |  are stored as dictionary values.Expected result:Counter({'yes': 253, 'no': 252, None: 21})"
      ]
    },
    {
      "cell_type": "markdown",
      "metadata": {
        "id": "1ygYNgLy3lgY"
      },
      "source": [
        "### Exc 3\n",
        "\n",
        "Exercise 3The results of voting in three groups are given in the form of dictionaries:poll_1 = {'yes': 140, 'no': 120, None: 12}poll_2 = {'yes': 113, 'no': 132, None: 9}poll_3 = {'yes': 16, 'no': 14}The dictionary keys mean respectively:'yes' - vote for yes'no' - vote for no'None' - invalid voteUsing the built-in collections module and the Counter class find the total number of 'yes' votes and print to the console.Tip:>>> help(Counter) Help on class Counter in module collections: class Counter(builtins.dict) |  Dict subclass for counting hashable items.  Sometimes called a bag |  or multiset.  Elements are stored as dictionary keys and their counts |  are stored as dictionary values.Expected result:269"
      ]
    },
    {
      "cell_type": "markdown",
      "metadata": {
        "id": "quPf8ec73xuR"
      },
      "source": [
        "### Exc 4\n",
        "\n",
        "Exercise 4The text is as follows:text = 'python programming - introduction'Using the built-in collections module and the Counter class find the distribution of characters in the given text (create a Counter object). Print the result to the console.Tip:>>> help(Counter) Help on class Counter in module collections: class Counter(builtins.dict) |  Dict subclass for counting hashable items.  Sometimes called a bag |  or multiset.  Elements are stored as dictionary keys and their counts |  are stored as dictionary values.Expected result:Counter({'o': 4, 'n': 4, 't': 3, ' ': 3, 'r': 3, 'i': 3, 'p': 2, 'g': 2, 'm': 2, 'y': 1, 'h': 1, 'a': 1, '-': 1, 'd': 1, 'u': 1, 'c': 1})"
      ]
    },
    {
      "cell_type": "markdown",
      "metadata": {
        "id": "wIvY5dAB353r"
      },
      "source": [
        "### Exc 5\n",
        "Exercise 5The following text is given:text = 'python programming - introduction'Using the built-in collections module and the Counter class calculate the three most common characters in the given text. Print the result as shown below.Tip:>>> help(Counter.most_common) Help on function most_common in module collections: most_common(self, n=None)    List the n most common elements and their counts from the most    common to the least.  If n is None, then list all element counts.        >>> Counter('abcdeabcdabcaba').most_common(3)    [('a', 5), ('b', 4), ('c', 3)]Expected result:[('o', 4), ('n', 4), ('t', 3)]"
      ]
    },
    {
      "cell_type": "markdown",
      "metadata": {
        "id": "VzQLiWMm4MB7"
      },
      "source": [
        "### Exc 6\n",
        "Exercise 6The following text is given:text = \"\"\"\"Python is fast enough for our site and allows us to produce maintainable features in record times,with a minimum of developers,\" said Cuong Do, Software Architect, YouTube.com. \"Python plays a key role in our production pipeline. Without it a project the size of Star Wars:Episode II would have been very difficult to pull off. From crowd rendering to batch processing to compositing,Python binds all things together,\" said Tommy Burnette, Senior Technical Director, Industrial Light & Magic.\"\"\"Using the built-in re module split the given text into words/tokens. Standardize the words (all lowercase). Then create a Counter object that allows you to determine the three most common words in the text. In response, print these words with the number of occurrences.Expected result:[('to', 4), ('python', 3), ('a', 3)]"
      ]
    },
    {
      "cell_type": "markdown",
      "metadata": {
        "id": "0m58LC1_4Trt"
      },
      "source": [
        "\n",
        "### Exc 7\n",
        "Exercise 7The following list is given:fnames = [    '001_image.png', '002_image.png', '003_image.jpg', '004_image.png',    '005_image.png', '006_image.png', '007_image.jpg', '008_image.png',     '009_image.jpg', '010_image.jpg', '011_image.jpg', '012_image.png',     '013_image.jpg', '014_image.jpg', '015_image.jpg', '016_image.png',     '017_image.jpg', '018_image.jpg', '019_image.png', '020_image.png',     '021_image.jpg', '022_image.jpg', '023_image.png', '024_image.png',     '025_image.jpg', '026_image.png', '027_image.png', '028_image.jpg',     '029_image.png', '030_image.png'    ]Using the built-in collections module and the Counter class find the distribution of file extensions in the given fnames list. Print the result to the console.Expected result:Counter({'png': 16, 'jpg': 14})"
      ]
    },
    {
      "cell_type": "markdown",
      "metadata": {
        "id": "olVBvAXN4c0Y"
      },
      "source": [
        "\n",
        "### Exc 8\n",
        "Exercise 8Using the built-in collections module from the following dictionaries:stocks_1 = {'CDR': 400, 'PLW': 490}stocks_2 = {'PLW': 500, 'TEN': 550, 'BBT': 30}create a ChainMap object and assign to the stocks variable. In response, print this variable to the console.Tip:>>> help(ChainMap) Help on class ChainMap in module collections: class ChainMap(collections.abc.MutableMapping) |  A ChainMap groups multiple dicts (or other mappings) together |  to create a single, updateable view. |   |  The underlying mappings are stored in a list.  That list is public and can |  be accessed or updated using the *maps* attribute.  There is no other |  state. |   |  Lookups search the underlying mappings successively until a key is found. |  In contrast, writes, updates, and deletions only operate on the first |  mapping.Expected result:ChainMap({'CDR': 400, 'PLW': 490}, {'PLW': 500, 'TEN': 550, 'BBT': 30})"
      ]
    },
    {
      "cell_type": "markdown",
      "metadata": {
        "id": "h5NE-AJR4oea"
      },
      "source": [
        "\n",
        "### Exc 9\n",
        "Exercise 9Using the built-in collections module from the following dictionaries:stocks_1 = {'CDR': 400, 'PLW': 490}stocks_2 = {'PLW': 500, 'TEN': 550, 'BBT': 30}a ChainMap object has been created and assigned to the stocks variable. Find the value for the key 'PLW' in the ChainMap object and print to the console.Tip:>>> help(ChainMap) Help on class ChainMap in module collections: class ChainMap(collections.abc.MutableMapping) |  A ChainMap groups multiple dicts (or other mappings) together |  to create a single, updateable view. |   |  The underlying mappings are stored in a list.  That list is public and can |  be accessed or updated using the *maps* attribute.  There is no other |  state. |   |  Lookups search the underlying mappings successively until a key is found. |  In contrast, writes, updates, and deletions only operate on the first |  mapping.Expected result:490"
      ]
    },
    {
      "cell_type": "markdown",
      "metadata": {
        "id": "_IOpvWQC5Eea"
      },
      "source": [
        "\n",
        "### Exc 10\n",
        "Exercise 10Using the built-in collections module from the following dictionaries:techs = {'Apple': 370, 'Samsung': 1100, 'Microsoft': 201}finance = {'Citigroup': 51, 'Allianz': 180}gaming = {'Sony': 76, 'Nintendo': 470, 'EA': 135}create a ChainMap object and assign to stocks variable. Find the value for the 'Samsung' key in the ChainMap object and print to the console.Tip:>>> help(ChainMap) Help on class ChainMap in module collections: class ChainMap(collections.abc.MutableMapping) |  A ChainMap groups multiple dicts (or other mappings) together |  to create a single, updateable view. |   |  The underlying mappings are stored in a list.  That list is public and can |  be accessed or updated using the *maps* attribute.  There is no other |  state. |   |  Lookups search the underlying mappings successively until a key is found. |  In contrast, writes, updates, and deletions only operate on the first |  mapping.Expected result:1100"
      ]
    },
    {
      "cell_type": "markdown",
      "metadata": {
        "id": "IZ25Mxkn5MKo"
      },
      "source": [
        "\n",
        "### Exc 11\n",
        "Exercise 11Using the built-in collections module from the following dictionaries:techs = {'Apple': 370, 'Samsung': 1100, 'Microsoft': 201}finance = {'Citigroup': 51, 'Allianz': 180}gaming = {'Sony': 76, 'Nintendo': 470, 'EA': 135}a ChainMap object was created and assigned to the stocks variable. Update the value for the key 'Microsoft' in the techs dictionary to 210. Then read the value for this key and print to the console.Tip:>>> help(ChainMap) Help on class ChainMap in module collections: class ChainMap(collections.abc.MutableMapping) |  A ChainMap groups multiple dicts (or other mappings) together |  to create a single, updateable view. |   |  The underlying mappings are stored in a list.  That list is public and can |  be accessed or updated using the *maps* attribute.  There is no other |  state. |   |  Lookups search the underlying mappings successively until a key is found. |  In contrast, writes, updates, and deletions only operate on the first |  mapping.Expected result:210"
      ]
    },
    {
      "cell_type": "markdown",
      "metadata": {
        "id": "vcRjBakG5UF1"
      },
      "source": [
        "\n",
        "### Exc 12\n",
        "Exercise 12Using the built-in collections module from the following dictionaries:techs = {'Apple': 370, 'Samsung': 1100, 'Microsoft': 201}finance = {'Citigroup': 51, 'Allianz': 180}gaming = {'Sony': 76, 'Nintendo': 470, 'EA': 135}an object of the ChainMap class was created and assigned to the stocks variable. Print all keys of the ChainMap object to the console (sorted alphabetically).Tip:>>> help(ChainMap.keys) Help on function keys in module collections.abc: keys(self)    D.keys() -> a set-like object providing a view on D's keysExpected result:['Allianz', 'Apple', 'Citigroup', 'EA', 'Microsoft', 'Nintendo', 'Samsung', 'Sony']"
      ]
    },
    {
      "cell_type": "markdown",
      "metadata": {
        "id": "xW6Ruvtf59KZ"
      },
      "source": [
        "\n",
        "### Exc 13\n",
        "Exercise 13The following problem was encountered while implementing the car application. It's necessary to store information about car settings (with one object in Python). Two parameters are always set:modepower_levelBy default, these parameters store the values: 'eco' and 7. However, their values ​​may change depending on the user's settings. Let's assume that the user can pass the following settings:{'mode': 'sport', 'power_level': 10}Consider how you can use the ChainMap class in this case.Stepscreate a dictionary with default settings (default_settings)create a dictionary with user settings (user_settings)create a ChainMap object from the given dictionaries in the right order (settings)In response, print the value for the 'mode' key of the settings ChainMap.Tip:>>> help(ChainMap) Help on class ChainMap in module collections: class ChainMap(collections.abc.MutableMapping) |  A ChainMap groups multiple dicts (or other mappings) together |  to create a single, updateable view. |   |  The underlying mappings are stored in a list.  That list is public and can |  be accessed or updated using the *maps* attribute.  There is no other |  state. |   |  Lookups search the underlying mappings successively until a key is found. |  In contrast, writes, updates, and deletions only operate on the first |  mapping.Expected result:sport"
      ]
    },
    {
      "cell_type": "markdown",
      "metadata": {
        "id": "_fKpuPcW6E2N"
      },
      "source": [
        "\n",
        "### Exc 14\n",
        "Exercise 14The following problem was encountered while implementing the car application. It's necessary to store information about car settings (with one object in Python). Two parameters are always set:modepower_levelBy default, these parameters store the values: 'eco' and 7. However, their values ​​may change depending on the user's settings. In this exercise the user hasn't set any additional settings.Consider how you can use the ChainMap class in this case.Stepscreate a dictionary with default settings (default_settings)create a dictionary with user settings (user_settings)create a ChainMap object from the given dictionaries in the right order (settings)In response, print the value for the 'mode' key of the settings ChainMap.Tip:>>> help(ChainMap) Help on class ChainMap in module collections: class ChainMap(collections.abc.MutableMapping) |  A ChainMap groups multiple dicts (or other mappings) together |  to create a single, updateable view. |   |  The underlying mappings are stored in a list.  That list is public and can |  be accessed or updated using the *maps* attribute.  There is no other |  state. |   |  Lookups search the underlying mappings successively until a key is found. |  In contrast, writes, updates, and deletions only operate on the first |  mapping.Expected result:eco"
      ]
    },
    {
      "cell_type": "markdown",
      "metadata": {
        "id": "bVRb6Ta_6TjO"
      },
      "source": [
        "\n",
        "### Exc 15\n",
        "Exercise 15Using the built-in collections module and the namedtuple() function create a class named Point to store points in a two-dimensional space (R^2). Name the fields 'x' and 'y' respectively.Then create two points with coordinates:(3, 4)(-2, 6)Print these objects to the console.Tip:>>> help(namedtuple) Help on function namedtuple in module collections: namedtuple(typename, field_names, *, verbose=False, rename=False, module=None)    Returns a new subclass of tuple with named fields.Expected result:Point(x=3, y=4)Point(x=-2, y=6)\n"
      ]
    },
    {
      "cell_type": "markdown",
      "metadata": {
        "id": "4FOg6Pz-6ik-"
      },
      "source": [
        "\n",
        "### Exc 16\n",
        "Exercise 16Using the built-in collections module and the namedtuple() function, a class Point was implemented.Then the following points were created:pt1 = Point(3, 4)pt2 = Point(-2, 6)Find the midpoint of the segment at points pt1 and pt2 and print the result to the console.Tip:>>> help(namedtuple) Help on function namedtuple in module collections: namedtuple(typename, field_names, *, verbose=False, rename=False, module=None)    Returns a new subclass of tuple with named fields.Expected result:Point(x=0.5, y=5.0)"
      ]
    },
    {
      "cell_type": "markdown",
      "metadata": {
        "id": "IL6_l45g6rBz"
      },
      "source": [
        "\n",
        "### Exc 17\n",
        "Exercise 17Using the built-in collections module and the namedtuple() function create a class called Student to store data about students. Set the following attributes/fields:'name''age''specialization'Then create three students with the given data:Student('Mike', 21, 'physics'),Student('Kate', 20, 'mathematics'),Student('Bob', 21, 'information technology')and assign it to the students list. Iterate through the students list and print basic information about the students to the console as shown below.Tip:>>> help(namedtuple) Help on function namedtuple in module collections: namedtuple(typename, field_names, *, verbose=False, rename=False, module=None)    Returns a new subclass of tuple with named fields.Expected result:Mike : 21: physicsKate : 20: mathematicsBob  : 21: information technology"
      ]
    },
    {
      "cell_type": "markdown",
      "metadata": {
        "id": "xJv1vGra6ySE"
      },
      "source": [
        "\n",
        "### Exc 18\n",
        "Exercise 18Using the built-in collections module and the namedtuple() function, a class called Student was implemented.Then four students with the given data were created:Student('Mike', 21, 'physics'),Student('Mark', 22, 'biology'),Student('Kate', 20, 'mathematics'),Student('Bob', 21, 'information technology')and assigned to the students list. Sort the students list by age (age attribute) in ascending order. In response, print the students list to the console.Tip:>>> help(namedtuple) Help on function namedtuple in module collections: namedtuple(typename, field_names, *, verbose=False, rename=False, module=None)    Returns a new subclass of tuple with named fields.Expected result:[Student(name='Kate', age=20, specialization='mathematics'), Student(name='Mike', age=21, specialization='physics'), Student(name='Bob', age=21, specialization='information technology'), Student(name='Mark', age=22, specialization='biology')]"
      ]
    },
    {
      "cell_type": "markdown",
      "metadata": {
        "id": "gUbAi7zr66Pp"
      },
      "source": [
        "\n",
        "### Exc 19\n",
        "Exercise 19Using the built-in collections module and the namedtuple() function, a class called Student was implemented.Three dictionaries are given:st1 = {'name': 'Kate', 'age': 20, 'specialization': 'mathematics'}st2 = {'name': 'Mike', 'age': 21, 'specialization': 'physics'}st3 = {'name': 'Bob', 'age': 21, 'specialization': 'information technology'}Create Student objects from these dictionaries and assign them to the students list. Then, iterating through the students list, print each student to the console.Tip:>>> help(namedtuple) Help on function namedtuple in module collections: namedtuple(typename, field_names, *, verbose=False, rename=False, module=None)    Returns a new subclass of tuple with named fields.Expected result:Student(name='Kate', age=20, specialization='mathematics')Student(name='Mike', age=21, specialization='physics')Student(name='Bob', age=21, specialization='information technology')"
      ]
    },
    {
      "cell_type": "markdown",
      "metadata": {
        "id": "MUtrbKip7Bba"
      },
      "source": [
        "\n",
        "### Exc 20\n",
        "Exercise 20Using the built-in collections module and the namedtuple() function, a class called Student was implemented.The students.txt file containing student data is attached to this exercise:{'name': 'Kate', 'age': 20, 'specialization': 'mathematics'}{'name': 'Mike', 'age': 21, 'specialization': 'physics'}{'name': 'Bob', 'age': 21, 'specialization': 'information technology'}Load the file students.txt and create Student objects from the given dictionaries and assign them to the students list. Then print the students list to the console.Tip:>>> help(namedtuple) Help on function namedtuple in module collections: namedtuple(typename, field_names, *, verbose=False, rename=False, module=None)    Returns a new subclass of tuple with named fields.Expected result:[Student(name='Kate', age=20, specialization='mathematics'), Student(name='Mike', age=21, specialization='physics'), Student(name='Bob', age=21, specialization='information technology')]\n"
      ]
    },
    {
      "cell_type": "markdown",
      "metadata": {
        "id": "k3mGGoH17J42"
      },
      "source": [
        "\n",
        "### Exc 21\n",
        "Exercise 21Consider an empty dictionary named quotations as defined below:quotations = {}When trying to read a value for non-existing key, e.g. 'source'quotations['source']we get the KeyError. We can deal with it in several ways. For this exercise, consider the dict.get() method:>>> help(dict.get) Help on method_descriptor: get(...)    D.get(k[,d]) -> D[k] if k in D, else d.  d defaults to None.In this case, when we execute the code:quotations.get('source')No error is raised and the return value is None.Using the dict.get() method, set the default value to 'NYSE' and print value for 'source' key of quotations dictionary to the console. Also print the quotations dictionary to the console.Expected result:NYSE{}"
      ]
    },
    {
      "cell_type": "markdown",
      "metadata": {
        "id": "DUWILeSr7T6j"
      },
      "source": [
        "\n",
        "### Exc 22\n",
        "Exercise 22Consider an empty dictionary named quotations as defined below:quotations = {}When trying to read a value for non-existing key, e.g. 'source'quotations['source']we get the KeyError. We can deal with it in several ways. In this exercise, consider the dict.setdefault() method:>>> help(dict.setdefault) Help on method_descriptor: setdefault(...)    D.setdefault(k[,d]) -> D.get(k,d), also set D[k]=d if k not in DUsing the dict.setdefault() method set the default value for the 'source' key to 'NYSE'. Then print the quotations dictionary to the console.Try again to set the default value for the key 'source' to 'LSE' this time. Then print the dictionary quotations and the value for the key 'source' of quotations dictionary as shown below to the console.Expected result:{'source': 'NYSE'}{'source': 'NYSE'}NYSE"
      ]
    },
    {
      "cell_type": "markdown",
      "metadata": {
        "id": "UEO-Ru-l7Y6-"
      },
      "source": [
        "\n",
        "### Exc 23\n",
        "Exercise 23The following list is given:data = [    ('technology', 'Apple'),    ('gaming', 'Techland'),    ('finance', 'Berkshire Hathaway'),    ('gaming', 'EA'),    ('technology', 'Facebook'),    ('gaming', 'CD Projekt'),    ('finance', 'Allianz')    ]Using the dictionary and the dict.setdefault() method create the following object:{'technology': ['Apple', 'Facebook'], 'gaming': ['Techland', 'EA', 'CD Projekt'], 'finance': ['Berkshire Hathaway', 'Allianz']}and assign it to the data_dict variable. In response, print this variable to the console.Tip:>>> help(dict.setdefault) Help on method_descriptor: setdefault(...)    D.setdefault(k[,d]) -> D.get(k,d), also set D[k]=d if k not in DExpected result:{'technology': ['Apple', 'Facebook'], 'gaming': ['Techland', 'EA', 'CD Projekt'], 'finance': ['Berkshire Hathaway', 'Allianz']}"
      ]
    },
    {
      "cell_type": "markdown",
      "metadata": {
        "id": "5NhFt-7D7hAw"
      },
      "source": [
        "\n",
        "### Exc 24\n",
        "Exercise 24The following list is given:data = [    ('technology', 'Apple'),    ('gaming', 'Techland'),    ('finance', 'Berkshire Hathaway'),    ('gaming', 'EA'),    ('technology', 'Facebook'),    ('gaming', 'CD Projekt'),    ('finance', 'Allianz')    ]Using the built-in collections module and the defaultdict class create the following object:defaultdict(<class 'list'>, {'technology': ['Apple', 'Facebook'], 'gaming': ['Techland', 'EA', 'CD Projekt'], 'finance': ['Berkshire Hathaway', 'Allianz']})and assign it to def_dict. Print this variable to the console.Tip:>>> help(defaultdict) Help on class defaultdict in module collections: class defaultdict(builtins.dict) |  defaultdict(default_factory[, ...]) --> dict with default factory |   |  The default factory is called without arguments to produce |  a new value when a key is not present, in __getitem__ only. |  A defaultdict compares equal to a dict with the same items. |  All remaining arguments are treated the same as if they were |  passed to the dict constructor, including keyword arguments.Expected result:defaultdict(<class 'list'>, {'technology': ['Apple', 'Facebook'], 'gaming': ['Techland', 'EA', 'CD Projekt'], 'finance': ['Berkshire Hathaway', 'Allianz']})"
      ]
    },
    {
      "cell_type": "markdown",
      "metadata": {
        "id": "JhNmcSd77mmy"
      },
      "source": [
        "\n",
        "### Exc 25\n",
        "Exercise 25The following list is given:data = [    ('technology', 'Facebook'),            ('technology', 'Apple'),    ('gaming', 'Techland'),    ('finance', 'Berkshire Hathaway'),    ('gaming', 'EA'),    ('gaming', 'EA'),        ('technology', 'Facebook'),    ('gaming', 'CD Projekt'),    ('finance', 'Allianz')    ]Notice that the list contains duplicate values. Using the built-in collections module and the defaultdict class create the following object:defaultdict(<class 'set'>, {'technology': {'Facebook', 'Apple'}, 'gaming': {'EA', 'CD Projekt', 'Techland'}, 'finance': {'Allianz', 'Berkshire Hathaway'}})and assign it to def_dict. Print this variable to the console.Tip:>>> help(defaultdict) Help on class defaultdict in module collections: class defaultdict(builtins.dict) |  defaultdict(default_factory[, ...]) --> dict with default factory |   |  The default factory is called without arguments to produce |  a new value when a key is not present, in __getitem__ only. |  A defaultdict compares equal to a dict with the same items. |  All remaining arguments are treated the same as if they were |  passed to the dict constructor, including keyword arguments.Expected result:defaultdict(<class 'set'>, {'technology': {'Facebook', 'Apple'}, 'gaming': {'EA', 'CD Projekt', 'Techland'}, 'finance': {'Allianz', 'Berkshire Hathaway'}})"
      ]
    },
    {
      "cell_type": "markdown",
      "metadata": {
        "id": "K3HRJWM-7vKg"
      },
      "source": [
        "\n",
        "### Exc 26\n",
        "Exercise 26The following list is given:transactions = [    ('001', 100),    ('003', 10),    ('002', 80),    ('001', 90),    ('002', 46),    ('001', 43),    ('003', 23),]Using the built-in collections module and the defaultdict class create the following object (group by the first element - user_id):defaultdict(<class 'int'>, {'001': 233, '003': 33, '002': 126})and assign it to def_dict. Print this variable to the console.Tip:>>> help(defaultdict) Help on class defaultdict in module collections: class defaultdict(builtins.dict) |  defaultdict(default_factory[, ...]) --> dict with default factory |   |  The default factory is called without arguments to produce |  a new value when a key is not present, in __getitem__ only. |  A defaultdict compares equal to a dict with the same items. |  All remaining arguments are treated the same as if they were |  passed to the dict constructor, including keyword arguments.Expected result:defaultdict(<class 'int'>, {'001': 233, '003': 33, '002': 126})"
      ]
    },
    {
      "cell_type": "markdown",
      "metadata": {
        "id": "snNg_IaV73W2"
      },
      "source": [
        "\n",
        "### Exc 27\n",
        "Exercise 27The following list is given:['Tue.', 'Wed.', 'Thu.', 'Fri.', 'Sat.']Using the collections built-in module create a double-ended queue object (deque) from the given list and assign it to the daynames variable. Then add the item 'Mon.' at the beginning and the element 'Sun.' at the end of the daynames object. In response, print the daynames deque to the console.Tip:>>> help(deque) Help on class deque in module collections: class deque(builtins.object) |  deque([iterable[, maxlen]]) --> deque object |   |  A list-like sequence optimized for data accesses near its endpoints.Expected result:deque(['Mon.', 'Tue.', 'Wed.', 'Thu.', 'Fri.', 'Sat.', 'Sun.'])"
      ]
    },
    {
      "cell_type": "markdown",
      "metadata": {
        "id": "2gmsmpxV79qa"
      },
      "source": [
        "\n",
        "### Exc 28\n",
        "Exercise 28The following deque object is given:daynames = deque(['Mon.', 'Tue.', 'Wed.', 'Thu.', 'Fri.', 'Sat.', 'Sun.'])Using the built-in collections module and the deque class, move one item forward in the daynames deque, as shown below:deque(['Sun.', 'Mon.', 'Tue.', 'Wed.', 'Thu.', 'Fri.', 'Sat.'])In response, print the daynames to the console.Tip:>>> help(deque.rotate) Help on method_descriptor: rotate(...)    Rotate the deque n steps to the right (default n=1).  If n is negative, rotates left.Expected result:deque(['Sun.', 'Mon.', 'Tue.', 'Wed.', 'Thu.', 'Fri.', 'Sat.'])"
      ]
    },
    {
      "cell_type": "markdown",
      "metadata": {
        "id": "6jgvu4aE8Efs"
      },
      "source": [
        "\n",
        "### Exc 29\n",
        "Exercise 29The following deque object is given:daynames = deque(['Mon.', 'Tue.', 'Wed.', 'Thu.', 'Fri.', 'Sat.', 'Sun.'])Using the built-in collections module and the deque class, shift three items back in the daynames deque, as shown below:deque(['Thu.', 'Fri.', 'Sat.', 'Sun.', 'Mon.', 'Tue.', 'Wed.'])Then, using the appropriate method pop the last element out of this deque and print to the console.Tip:>>> help(deque.pop) Help on method_descriptor: pop(...)    Remove and return the rightmost element.Expected result:Wed."
      ]
    },
    {
      "cell_type": "markdown",
      "metadata": {
        "id": "JLNXgCbD8MGn"
      },
      "source": [
        "\n",
        "### Exc 30\n",
        "Exercise 30The following deque object is given:daynames = deque(['Mon.', 'Tue.', 'Wed.', 'Thu.', 'Fri.', 'Sat.', 'Sun.'])Using the collections built-in module and the deque class reverse the order of the daynames queue as shown below:deque(['Sun.', 'Sat.', 'Fri.', 'Thu.', 'Wed.', 'Tue.', 'Mon.'])Then, using the appropriate method pop the first element out of this deque and print to the console.Tip:>>> help(deque.reverse) Help on method_descriptor: reverse(...)    D.reverse() -- reverse *IN PLACE*>>> help(deque.popleft) Help on method_descriptor: popleft(...)    Remove and return the leftmost element.Expected result:Sun."
      ]
    },
    {
      "cell_type": "markdown",
      "metadata": {
        "id": "Iw8FLdCU8SYm"
      },
      "source": [
        "\n",
        "### Exc 31\n",
        "Exercise 31The premiere of a computer game is planned and the option to subscribe to the wish list is opened. When a user subscribes to the wish list user id is added to the deque. Using the built-in collections module create an empty deque object named wishlist. Following users subscribed to the wish list in the given order:'003''001''004''002''005'Add these users to the wishlist deque.You should get following object:deque(['003', '001', '004', '002', '005'])Using the appropriate method pop the first subscribed user from this deque and print to the console.Tip:>>> help(deque.popleft) Help on method_descriptor: popleft(...)    Remove and return the leftmost element.Expected result:003"
      ]
    },
    {
      "cell_type": "markdown",
      "metadata": {
        "id": "T3uYVacd8dT8"
      },
      "source": [
        "\n",
        "### Exc 32\n",
        "Exercise 32The premiere of a computer game is planned and the option to subscribe to the wish list is opened. When a user subscribes to the wish list user id is added to the deque. Several users subscribed to the wish list. The data is received as a stream. If an error occurs, the value None appears in the stream instead of the user id. In this case, the deque should be cleared.Using the built-in collections module create an empty deque object named wishlist. Following users subscribed to the wish list in the given order (in stream):'003''001''004'None'002''005'Add these users to the wishlist deque in the way described above. In response, print the wishlist to the console.Tip:>>> help(deque) Help on class deque in module collections: class deque(builtins.object) |  deque([iterable[, maxlen]]) --> deque object |   |  A list-like sequence optimized for data accesses near its endpoints.Expected result:deque(['002', '005'])"
      ]
    },
    {
      "cell_type": "markdown",
      "metadata": {
        "id": "fgKppdgH8irl"
      },
      "source": [
        "\n",
        "### Exc 33\n",
        "Exercise 33The premiere of a computer game is planned and the option to subscribe to the wish list is opened. When a user subscribes to the wish list user id is added to the deque. Using the built-in collections module create an empty deque object named wishlist with the maximum length of three elements. Following users subscribed to the wish list in the given order:'003''001''004''006''002''005'Add these users to the wishlist deque. In response, print wishlist deque to the console each time you add a user as shown below.Tip:>>> help(deque.maxlen) Help on getset descriptor collections.deque.maxlen: maxlen    maximum size of a deque or None if unboundedExpected result:deque(['003'], maxlen=3)deque(['003', '001'], maxlen=3)deque(['003', '001', '004'], maxlen=3)deque(['001', '004', '006'], maxlen=3)deque(['004', '006', '002'], maxlen=3)deque(['006', '002', '005'], maxlen=3)"
      ]
    },
    {
      "cell_type": "markdown",
      "metadata": {
        "id": "7h75d4KH8rjj"
      },
      "source": [
        "\n",
        "### Exc 34\n",
        "Exercise 34The premiere of a computer game is planned and the option to subscribe to the wish list is opened. When a user subscribes to the wish list user id is added to the deque. Following users subscribed to the wish list in the given order:'003''001''004''002''005'Using the collections built-in module a deque object called wishlist was created based on the data from the user_ids list. Extend the wishlist with three additional users: ['007', '009', '010']In response, print the wishlist object to the console.Tip:>>> help(deque.extend) Help on method_descriptor: extend(...)    Extend the right side of the deque with elements from the iterableExpected result:deque(['003', '001', '004', '002', '005', '007', '009', '010'])"
      ]
    }
  ]
}