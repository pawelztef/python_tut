{
  "nbformat": 4,
  "nbformat_minor": 0,
  "metadata": {
    "colab": {
      "name": "collections.ipynb",
      "provenance": [],
      "collapsed_sections": [],
      "authorship_tag": "ABX9TyN4c01xs4dy/8X7hZ6T73uq",
      "include_colab_link": true
    },
    "kernelspec": {
      "name": "python3",
      "display_name": "Python 3"
    },
    "language_info": {
      "name": "python"
    }
  },
  "cells": [
    {
      "cell_type": "markdown",
      "metadata": {
        "id": "view-in-github",
        "colab_type": "text"
      },
      "source": [
        "<a href=\"https://colab.research.google.com/github/pawelztef/python_tut/blob/main/collections.ipynb\" target=\"_parent\"><img src=\"https://colab.research.google.com/assets/colab-badge.svg\" alt=\"Open In Colab\"/></a>"
      ]
    },
    {
      "cell_type": "markdown",
      "metadata": {
        "id": "CwuUYkYi2a72"
      },
      "source": [
        "### Exc 1\n",
        "The following target list is given:\n",
        "\n",
        "```\n",
        "target = ['yes', 'no', 'no', None, 'yes', 'yes', 'no', 'yes']\n",
        "```\n",
        "\n",
        "Using the built-in **collections** module create a ***Counter*** class object from the given list. \n",
        "\n",
        "Print the result to the console.\n",
        "\n",
        "Expected result:\n",
        "\n",
        "```\n",
        "Counter({'yes': 4, 'no': 3, None: 1})\n",
        "```"
      ]
    },
    {
      "cell_type": "code",
      "metadata": {
        "colab": {
          "base_uri": "https://localhost:8080/"
        },
        "id": "pbr0xFejqsCf",
        "outputId": "bfccb2dd-fff6-4854-94bc-7cdfe42a1d86"
      },
      "source": [
        "from collections import Counter\n",
        "\n",
        "target = ['yes', 'no', 'no', None, 'yes', 'yes', 'no', 'yes']\n",
        "\n",
        "counter = Counter(target)\n",
        "\n",
        "print(counter)\n"
      ],
      "execution_count": null,
      "outputs": [
        {
          "output_type": "stream",
          "text": [
            "Counter({'yes': 4, 'no': 3, None: 1})\n"
          ],
          "name": "stdout"
        }
      ]
    },
    {
      "cell_type": "markdown",
      "metadata": {
        "id": "cgwsAZNK2fip"
      },
      "source": [
        "### Exc 2\n",
        "The results of voting in two groups are given in the form of dictionaries:\n",
        "\n",
        "```\n",
        "poll_1 = {'yes': 140, 'no': 120, None: 12}\n",
        "\n",
        "poll_2 = {'yes': 113, 'no': 132, None: 9}\n",
        "```\n",
        "\n",
        "The dictionary keys mean respectively:\n",
        "\n",
        "* 'yes' - vote for yes\n",
        "\n",
        "* 'no' - vote for no\n",
        "\n",
        "* 'None' - invalid vote.\n",
        "\n",
        "Using the built-in **collections** module create two objects of the ***Counter*** class from the given dictionaries. \n",
        "\n",
        "Then combine these objects into one and print to the console.\n",
        "\n",
        "Expected result:\n",
        "\n",
        "```\n",
        "Counter({'yes': 253, 'no': 252, None: 21})\n",
        "```"
      ]
    },
    {
      "cell_type": "code",
      "metadata": {
        "colab": {
          "base_uri": "https://localhost:8080/"
        },
        "id": "UEu734iJsB-e",
        "outputId": "64755368-341a-46af-f30f-430daddb79d6"
      },
      "source": [
        "from collections import Counter\n",
        "\n",
        "poll_1 = {'yes': 140, 'no': 120, None: 12}\n",
        "poll_2 = {'yes': 113, 'no': 132, None: 9}\n",
        "\n",
        "ct1 = Counter(poll_1)\n",
        "ct2 = Counter(poll_2)\n",
        "\n",
        "ctR = ct1 + ct2\n",
        "\n",
        "print(ctR)"
      ],
      "execution_count": null,
      "outputs": [
        {
          "output_type": "stream",
          "text": [
            "Counter({'yes': 253, 'no': 252, None: 21})\n"
          ],
          "name": "stdout"
        }
      ]
    },
    {
      "cell_type": "markdown",
      "metadata": {
        "id": "1ygYNgLy3lgY"
      },
      "source": [
        "### Exc 3\n",
        "\n",
        "The results of voting in three groups are given in the form of dictionaries:\n",
        "\n",
        "```\n",
        "poll_1 = {'yes': 140, 'no': 120, None: 12}\n",
        "\n",
        "poll_2 = {'yes': 113, 'no': 132, None: 9}\n",
        "\n",
        "poll_3 = {'yes': 16, 'no': 14}\n",
        "```\n",
        "\n",
        "The dictionary keys mean respectively:\n",
        "\n",
        "* 'yes' - vote for yes\n",
        "* 'no' - vote for no\n",
        "* 'None' - invalid vote.\n",
        "\n",
        "Using the built-in **collections** module and the ***Counter*** class find the total number of 'yes' votes and print to the console.\n",
        "\n",
        "Expected result:\n",
        "\n",
        "```\n",
        "269\n",
        "```"
      ]
    },
    {
      "cell_type": "code",
      "metadata": {
        "colab": {
          "base_uri": "https://localhost:8080/"
        },
        "id": "FLUOgocpsctP",
        "outputId": "4a48137e-07b9-4a8d-febd-4325409ea24b"
      },
      "source": [
        "from collections import Counter\n",
        "\n",
        "poll_1 = {'yes': 140, 'no': 120, None: 12}\n",
        "poll_2 = {'yes': 113, 'no': 132, None: 9}\n",
        "poll_3 = {'yes': 16, 'no': 14}\n",
        "\n",
        "counter_1 = Counter(poll_1)\n",
        "counter_2 = Counter(poll_2)\n",
        "counter_3 = Counter(poll_3)\n",
        "\n",
        "result = (counter_1 + counter_2 + counter_3)['yes']\n",
        "\n",
        "print(result)\n"
      ],
      "execution_count": null,
      "outputs": [
        {
          "output_type": "stream",
          "text": [
            "269\n"
          ],
          "name": "stdout"
        }
      ]
    },
    {
      "cell_type": "markdown",
      "metadata": {
        "id": "quPf8ec73xuR"
      },
      "source": [
        "### Exc 4\n",
        "\n",
        "The text is as follows:\n",
        "\n",
        "```\n",
        "text = 'python programming - introduction'\n",
        "```\n",
        "\n",
        "Using the built-in **collections** module and the ***Counter*** class find the distribution of characters in the given text (create a Counter object). \n",
        "\n",
        "Print the result to the console.\n",
        "\n",
        "Expected result:\n",
        "\n",
        "```\n",
        "Counter({'o': 4, 'n': 4, 't': 3, ' ': 3, 'r': 3, 'i': 3, 'p': 2, 'g': 2, 'm': 2, 'y': 1, 'h': 1, 'a': 1, '-': 1, 'd': 1, 'u': 1, 'c': 1})\n",
        "```"
      ]
    },
    {
      "cell_type": "code",
      "metadata": {
        "colab": {
          "base_uri": "https://localhost:8080/"
        },
        "id": "dx1dxPfRwDIJ",
        "outputId": "81807fb9-2bd5-478c-e0e1-f4b73b833552"
      },
      "source": [
        "from collections import Counter\n",
        "\n",
        "text = 'python programming - introduction'\n",
        "\n",
        "ct = Counter(text)\n",
        "\n",
        "print(ct)"
      ],
      "execution_count": null,
      "outputs": [
        {
          "output_type": "stream",
          "text": [
            "Counter({'o': 4, 'n': 4, 't': 3, ' ': 3, 'r': 3, 'i': 3, 'p': 2, 'g': 2, 'm': 2, 'y': 1, 'h': 1, 'a': 1, '-': 1, 'd': 1, 'u': 1, 'c': 1})\n"
          ],
          "name": "stdout"
        }
      ]
    },
    {
      "cell_type": "markdown",
      "metadata": {
        "id": "wIvY5dAB353r"
      },
      "source": [
        "### Exc 5\n",
        "\n",
        "The following text is given:\n",
        "\n",
        "```\n",
        "text = 'python programming - introduction'\n",
        "```\n",
        "\n",
        "Using the built-in **collections** module and the **Counter** class calculate the three most common characters in the given text. \n",
        "\n",
        "Print the result as shown below.\n",
        "\n",
        "Expected result:\n",
        "\n",
        "```\n",
        "[('o', 4), ('n', 4), ('t', 3)]\n",
        "```"
      ]
    },
    {
      "cell_type": "code",
      "metadata": {
        "colab": {
          "base_uri": "https://localhost:8080/"
        },
        "id": "gjwnar6VxMKW",
        "outputId": "b8c3c438-8e12-47f2-829b-8a1ccaa7c105"
      },
      "source": [
        "from collections import Counter\n",
        "\n",
        "text = 'python programming - introduction'\n",
        "\n",
        "result = Counter(text).most_common(3)\n",
        "\n",
        "print(result)\n"
      ],
      "execution_count": null,
      "outputs": [
        {
          "output_type": "stream",
          "text": [
            "[('o', 4), ('n', 4), ('t', 3)]\n"
          ],
          "name": "stdout"
        }
      ]
    },
    {
      "cell_type": "markdown",
      "metadata": {
        "id": "VzQLiWMm4MB7"
      },
      "source": [
        "### Exc 6\n",
        "The following text is given:\n",
        "\n",
        "```\n",
        "text = \"\"\"\"Python is fast enough for our site and allows us to produce maintainable features in record times,with a minimum of developers,\" said Cuong Do, Software Architect, YouTube.com. \"Python plays a key role in our production pipeline. Without it a project the size of Star Wars:Episode II would have been very difficult to pull off. From crowd rendering to batch processing to compositing,Python binds all things together,\" said Tommy Burnette,Senior Technical Director, Industrial Light & Magic.\"\"\"\n",
        "```\n",
        "\n",
        "Using the built-in **re** module split the given text into words/tokens.\n",
        "Standardize the words (all lowercase). \n",
        "Then create a Counter object that allows you to determine the three most common words in the text. \n",
        "In response, print these words with the number of occurrences.\n",
        "\n",
        "Expected result:\n",
        "\n",
        "```\n",
        "[('to', 4), ('python', 3), ('a', 3)]\n",
        "```\n"
      ]
    },
    {
      "cell_type": "code",
      "metadata": {
        "colab": {
          "base_uri": "https://localhost:8080/"
        },
        "id": "j1gD8S_R_615",
        "outputId": "e724549c-b082-4bc4-9d8c-686ed4935274"
      },
      "source": [
        "import re\n",
        "from collections import Counter\n",
        "\n",
        "text = \"\"\"\"Python is fast enough for our site and allows us to produce \n",
        "maintainable features in record times,with a minimum of developers,\" \n",
        "said Cuong Do, Software Architect, YouTube.com. \"Python plays a key \n",
        "role in our production pipeline. Without it a project the size of Star\n",
        "Wars: Episode II would have been very difficult to pull off. From crowd \n",
        "rendering to batch processing to compositing,Python binds all things \n",
        "together,\" said Tommy Burnette,Senior Technical Director, Industrial \n",
        "Light & Magic.\"\"\"\n",
        "\n",
        "text = text.lower()\n",
        "text_list = re.findall('\\w+', text)\n",
        "\n",
        "result = Counter(text_list).most_common(3)\n",
        "\n",
        "print(result)\n"
      ],
      "execution_count": null,
      "outputs": [
        {
          "output_type": "stream",
          "text": [
            "[('to', 4), ('python', 3), ('a', 3)]\n"
          ],
          "name": "stdout"
        }
      ]
    },
    {
      "cell_type": "markdown",
      "metadata": {
        "id": "0m58LC1_4Trt"
      },
      "source": [
        "\n",
        "### Exc 7\n",
        "The following list is given:\n",
        "\n",
        "```\n",
        "fnames = [    \n",
        "     '001_image.png', '002_image.png', '003_image.jpg', '004_image.png',  '005_image.png', '006_image.png', '007_image.jpg', '008_image.png',     '009_image.jpg', '010_image.jpg', '011_image.jpg', '012_image.png',     '013_image.jpg', '014_image.jpg', '015_image.jpg', '016_image.png',     '017_image.jpg', '018_image.jpg', '019_image.png', '020_image.png',     '021_image.jpg', '022_image.jpg', '023_image.png', '024_image.png',     '025_image.jpg', '026_image.png', '027_image.png', '028_image.jpg',     '029_image.png', '030_image.png'     \n",
        "]\n",
        "```\n",
        "     \n",
        "Using the built-in **collections** module and the ***Counter*** class find the distribution of file extensions in the given fnames list. Print the result to the console.\n",
        "\n",
        "Expected result:\n",
        "\n",
        "```\n",
        "Counter({'png': 16, 'jpg': 14})\n",
        "```"
      ]
    },
    {
      "cell_type": "code",
      "metadata": {
        "colab": {
          "base_uri": "https://localhost:8080/"
        },
        "id": "OEW9fWffBtB3",
        "outputId": "4bb66c24-3f36-4fd6-a12c-49c42e8ed308"
      },
      "source": [
        "from collections import Counter\n",
        "\n",
        "fnames = [    \n",
        "    '001_image.png', '002_image.png', '003_image.jpg', '004_image.png',\n",
        "    '005_image.png', '006_image.png', '007_image.jpg', '008_image.png', \n",
        "    '009_image.jpg', '010_image.jpg', '011_image.jpg', '012_image.png',     \n",
        "    '013_image.jpg', '014_image.jpg', '015_image.jpg', '016_image.png',     \n",
        "    '017_image.jpg', '018_image.jpg', '019_image.png', '020_image.png',     \n",
        "    '021_image.jpg', '022_image.jpg', '023_image.png', '024_image.png',     \n",
        "    '025_image.jpg', '026_image.png', '027_image.png', '028_image.jpg',     \n",
        "    '029_image.png', '030_image.png'      \n",
        "]\n",
        "\n",
        "exts = [fname.split('.')[1] for fname in fnames]\n",
        "counter = Counter(exts)\n",
        "print(counter)\n",
        "\n"
      ],
      "execution_count": null,
      "outputs": [
        {
          "output_type": "stream",
          "text": [
            "Counter({'png': 16, 'jpg': 14})\n"
          ],
          "name": "stdout"
        }
      ]
    },
    {
      "cell_type": "markdown",
      "metadata": {
        "id": "olVBvAXN4c0Y"
      },
      "source": [
        "\n",
        "### Exc 8\n",
        "\n",
        "Using the built-in **collections** module from the following dictionaries:\n",
        "\n",
        "```\n",
        "stocks_1 = {'CDR': 400, 'PLW': 490}\n",
        "\n",
        "stocks_2 = {'PLW': 500, 'TEN': 550, 'BBT': 30}\n",
        "```\n",
        "\n",
        "create a **ChainMap** object and assign to the stocks variable. \n",
        "\n",
        "In response, print this variable to the console."
      ]
    },
    {
      "cell_type": "code",
      "metadata": {
        "colab": {
          "base_uri": "https://localhost:8080/"
        },
        "id": "vBlHKTYBDjSy",
        "outputId": "ac7b742f-dd9b-4826-d526-a0454dc0a15a"
      },
      "source": [
        "from collections import ChainMap\n",
        "\n",
        "stocks_1 = {'CDR': 400, 'PLW': 490}\n",
        " \n",
        "stocks_2 = {'PLW': 500, 'TEN': 550, 'BBT': 30}\n",
        "\n",
        "stocks = ChainMap(stocks_1, stocks_2)\n",
        "\n",
        "print(stocks)\n"
      ],
      "execution_count": null,
      "outputs": [
        {
          "output_type": "stream",
          "text": [
            "ChainMap({'CDR': 400, 'PLW': 490}, {'PLW': 500, 'TEN': 550, 'BBT': 30})\n"
          ],
          "name": "stdout"
        }
      ]
    },
    {
      "cell_type": "markdown",
      "metadata": {
        "id": "h5NE-AJR4oea"
      },
      "source": [
        "### Exc 9\n",
        "Using the built-in collections module from the following dictionaries:\n",
        "\n",
        "```\n",
        "stocks_1 = {'CDR': 400, 'PLW': 490}\n",
        "\n",
        "stocks_2 = {'PLW': 500, 'TEN': 550, 'BBT': 30}\n",
        "```\n",
        "\n",
        "ChainMap object has been created and assigned to the stocks variable. Find the value for the key 'PLW' in the ChainMap object and print to the console.\n",
        "\n",
        "Expected result:\n",
        "\n",
        "```\n",
        "490\n",
        "```"
      ]
    },
    {
      "cell_type": "code",
      "metadata": {
        "colab": {
          "base_uri": "https://localhost:8080/"
        },
        "id": "6GSfboRPD2iH",
        "outputId": "905a8221-ce4a-4052-96f8-c9820a8d81b7"
      },
      "source": [
        "from collections import ChainMap\n",
        "\n",
        "stocks_1 = {'CDR': 400, 'PLW': 490}\n",
        " \n",
        "stocks_2 = {'PLW': 500, 'TEN': 550, 'BBT': 30}\n",
        "\n",
        "stocks = ChainMap(stocks_1, stocks_2)\n",
        "\n",
        "print(stocks['PLW'])"
      ],
      "execution_count": null,
      "outputs": [
        {
          "output_type": "stream",
          "text": [
            "490\n"
          ],
          "name": "stdout"
        }
      ]
    },
    {
      "cell_type": "markdown",
      "metadata": {
        "id": "_IOpvWQC5Eea"
      },
      "source": [
        "\n",
        "### Exc 10\n",
        "Using the built-in ***collections*** module from the following dictionaries:\n",
        "\n",
        "```\n",
        "techs = {'Apple': 370, 'Samsung': 1100, 'Microsoft': 201}\n",
        "\n",
        "finance = {'Citigroup': 51, 'Allianz': 180}\n",
        "\n",
        "gaming = {'Sony': 76, 'Nintendo': 470, 'EA': 135}\n",
        "```\n",
        "\n",
        "create a ChainMap object and assign to stocks variable. Find the value for the 'Samsung' key in the ChainMap object and print to the console.\n",
        "\n",
        "Expected result:\n",
        "\n",
        "```\n",
        "1100\n",
        "```"
      ]
    },
    {
      "cell_type": "code",
      "metadata": {
        "colab": {
          "base_uri": "https://localhost:8080/"
        },
        "id": "Bd9RTml0ERPX",
        "outputId": "634be37b-6573-47de-df8e-ff26bc5bcf94"
      },
      "source": [
        "from collections import ChainMap\n",
        "\n",
        "techs = {'Apple': 370, 'Samsung': 1100, 'Microsoft': 201}\n",
        " \n",
        "finance = {'Citigroup': 51, 'Allianz': 180}\n",
        " \n",
        "gaming = {'Sony': 76, 'Nintendo': 470, 'EA': 135}\n",
        "\n",
        "stocks = ChainMap(techs, finance, gaming)\n",
        "\n",
        "print(stocks['Samsung'])"
      ],
      "execution_count": null,
      "outputs": [
        {
          "output_type": "stream",
          "text": [
            "1100\n"
          ],
          "name": "stdout"
        }
      ]
    },
    {
      "cell_type": "markdown",
      "metadata": {
        "id": "IZ25Mxkn5MKo"
      },
      "source": [
        "\n",
        "### Exc 11\n",
        "Using the built-in collections module from the following dictionaries:\n",
        "\n",
        "```\n",
        "techs = {'Apple': 370, 'Samsung': 1100, 'Microsoft': 201}\n",
        "finance = {'Citigroup': 51, 'Allianz': 180}\n",
        "gaming = {'Sony': 76, 'Nintendo': 470, 'EA': 135}\n",
        "```\n",
        "\n",
        "ChainMap object was created and assigned to the stocks variable. Update the value for the key 'Microsoft' in the techs dictionary to 210. Then read the value for this key and print to the console.\n",
        "\n",
        "\n",
        "Expected result:\n",
        "\n",
        "```\n",
        "210\n",
        "```"
      ]
    },
    {
      "cell_type": "code",
      "metadata": {
        "colab": {
          "base_uri": "https://localhost:8080/"
        },
        "id": "BR0Gc_VGEjSP",
        "outputId": "c3e25919-0a7a-4fa5-cfa4-cef82a4c2e16"
      },
      "source": [
        "from collections import ChainMap\n",
        "\n",
        "techs = {'Apple': 370, 'Samsung': 1100, 'Microsoft': 201}\n",
        "finance = {'Citigroup': 51, 'Allianz': 180}\n",
        "gaming = {'Sony': 76, 'Nintendo': 470, 'EA': 135}\n",
        "\n",
        "stocks = ChainMap(techs, finance, gaming)\n",
        "stocks['Microsoft'] = 210\n",
        "\n",
        "print(stocks['Microsoft'])"
      ],
      "execution_count": null,
      "outputs": [
        {
          "output_type": "stream",
          "text": [
            "210\n"
          ],
          "name": "stdout"
        }
      ]
    },
    {
      "cell_type": "markdown",
      "metadata": {
        "id": "vcRjBakG5UF1"
      },
      "source": [
        "\n",
        "### Exc 12\n",
        "Using the built-in ***collections*** module from the following dictionaries:\n",
        "\n",
        "```\n",
        "techs = {'Apple': 370, 'Samsung': 1100, 'Microsoft': 201}\n",
        "finance = {'Citigroup': 51, 'Allianz': 180}\n",
        "gaming = {'Sony': 76, 'Nintendo': 470, 'EA': 135}\n",
        "```\n",
        "\n",
        "an object of the **ChainMap** class was created and assigned to the stocks variable. Print all keys of the **ChainMap** object to the console (sorted alphabetically).\n",
        "\n",
        "Expected result:\n",
        "```\n",
        "['Allianz', 'Apple', 'Citigroup', 'EA', 'Microsoft', 'Nintendo', 'Samsung', 'Sony']\n",
        "```"
      ]
    },
    {
      "cell_type": "code",
      "metadata": {
        "colab": {
          "base_uri": "https://localhost:8080/"
        },
        "id": "jQlg8cEEGK2E",
        "outputId": "4f5eeb90-43de-499c-e4a1-93a38ffcdb3f"
      },
      "source": [
        "from collections import ChainMap\n",
        "\n",
        "techs = {'Apple': 370, 'Samsung': 1100, 'Microsoft': 201}\n",
        "finance = {'Citigroup': 51, 'Allianz': 180}\n",
        "gaming = {'Sony': 76, 'Nintendo': 470, 'EA': 135}\n",
        "\n",
        "stocks = ChainMap(techs, finance, gaming)\n",
        "stocks_keys = list(stocks.keys())\n",
        "\n",
        "print(sorted(stocks_keys))\n"
      ],
      "execution_count": null,
      "outputs": [
        {
          "output_type": "stream",
          "text": [
            "['Allianz', 'Apple', 'Citigroup', 'EA', 'Microsoft', 'Nintendo', 'Samsung', 'Sony']\n"
          ],
          "name": "stdout"
        }
      ]
    },
    {
      "cell_type": "markdown",
      "metadata": {
        "id": "xW6Ruvtf59KZ"
      },
      "source": [
        "\n",
        "### Exc 13\n",
        "The following problem was encountered while implementing the car application. It's necessary to store information about car settings (with one object in Python). Two parameters are always set:\n",
        "\n",
        "\n",
        "* **mode** \n",
        "* **power_level**\n",
        "\n",
        "By default, these parameters store the values: 'eco' and 7. \n",
        "\n",
        "However, their values ​​may change depending on the user's settings. Let's assume that the user can pass the following settings:\n",
        "\n",
        "```\n",
        "{'mode': 'sport', 'power_level': 10}\n",
        "```\n",
        "\n",
        "Consider how you can use the **ChainMap** class in this case.\n",
        "\n",
        "Steps:\n",
        "\n",
        "* create a dictionary with default settings (default_settings)\n",
        "\n",
        "* create a dictionary with user settings (user_settings)\n",
        "\n",
        "* create a **ChainMap** object from the given dictionaries in the right order (settings). \n",
        "\n",
        "In response, print the value for the 'mode' key of the settings **ChainMap**.\n",
        "\n",
        "Expected result:\n",
        "```\n",
        "sport\n",
        "```"
      ]
    },
    {
      "cell_type": "code",
      "metadata": {
        "colab": {
          "base_uri": "https://localhost:8080/"
        },
        "id": "hTJsk4-QHxQx",
        "outputId": "2e947471-7fa5-4e60-9525-e3a4405d0d32"
      },
      "source": [
        "from collections import ChainMap\n",
        "\n",
        "default_settings = {'mode': 'eco', 'power_level': 7}\n",
        "user_settings = {'mode': 'sport', 'power_level': 10}\n",
        "\n",
        "all_settings = ChainMap(user_settings, default_settings)\n",
        "\n",
        "print(all_settings['mode'])"
      ],
      "execution_count": null,
      "outputs": [
        {
          "output_type": "stream",
          "text": [
            "sort\n"
          ],
          "name": "stdout"
        }
      ]
    },
    {
      "cell_type": "markdown",
      "metadata": {
        "id": "_fKpuPcW6E2N"
      },
      "source": [
        "\n",
        "### Exc 14\n",
        "The following problem was encountered while implementing the car application.\n",
        "\n",
        "It's necessary to store information about car settings (with one object in Python). Two parameters are always set: \n",
        "\n",
        "* **mode** \n",
        "* **power_level**. \n",
        "\n",
        "By default, these parameters store the values: ***'eco'*** and ***7***. \n",
        "\n",
        "However, their values ​​may change depending on the user's settings. In this exercise the user hasn't set any additional settings. Consider how you can use the **ChainMap** class in this case.Steps create a dictionary with default settings (default_settings) create a dictionary with user settings (user_settings) create a **ChainMap** object from the given dictionaries in the right order (settings)\n",
        "\n",
        "\n",
        "In response, print the value for the ***'mode'*** key of the settings **ChainMap**.\n",
        "\n",
        "\n",
        "Expected result:\n",
        "\n",
        "```\n",
        "eco\n",
        "```"
      ]
    },
    {
      "cell_type": "code",
      "metadata": {
        "colab": {
          "base_uri": "https://localhost:8080/"
        },
        "id": "Ab6JHJ4QKqtq",
        "outputId": "a25aadd4-b2e0-429e-9fb2-03de31880ba1"
      },
      "source": [
        "from collections import ChainMap\n",
        "\n",
        "default_settings = {'mode': 'eco', 'power_level': 7}\n",
        "user_settings = {}\n",
        "\n",
        "all_settings = ChainMap(user_settings, default_settings)\n",
        "\n",
        "print(all_settings['mode'])"
      ],
      "execution_count": null,
      "outputs": [
        {
          "output_type": "stream",
          "text": [
            "eco\n"
          ],
          "name": "stdout"
        }
      ]
    },
    {
      "cell_type": "markdown",
      "metadata": {
        "id": "bVRb6Ta_6TjO"
      },
      "source": [
        "\n",
        "### Exc 15\n",
        "Using the built-in ***collections*** module and the **namedtuple()** function create a class named **Point** to store points in a two-dimensional space (R^2). \n",
        "\n",
        "Name the fields 'x' and 'y' respectively.  Then create two points with coordinates:\n",
        "* (3, 4)\n",
        "* (-2, 6)\n",
        "\n",
        "Print these objects to the console.\n",
        "\n",
        "Expected result:\n",
        "\n",
        "```\n",
        "Point(x=3, y=4)\n",
        "Point(x=-2, y=6)\n",
        "```\n"
      ]
    },
    {
      "cell_type": "code",
      "metadata": {
        "colab": {
          "base_uri": "https://localhost:8080/"
        },
        "id": "Uzz0LcPCszKe",
        "outputId": "b335df9a-06a2-4e68-e5fc-e761c8a83e59"
      },
      "source": [
        "from collections import namedtuple\n",
        "\n",
        "Point = namedtuple('Point', ['x', 'y'])\n",
        "\n",
        "pt_1 = Point(3, 4)\n",
        "pt_2 = Point(-2, 6)\n",
        "\n",
        "print(pt_1)\n",
        "print(pt_2)"
      ],
      "execution_count": null,
      "outputs": [
        {
          "output_type": "stream",
          "text": [
            "Point(x=3, y=4)\n",
            "Point(x=-2, y=6)\n"
          ],
          "name": "stdout"
        }
      ]
    },
    {
      "cell_type": "markdown",
      "metadata": {
        "id": "4FOg6Pz-6ik-"
      },
      "source": [
        "### Exc 16\n",
        "Using the built-in ***collections*** module and the ***namedtuple()*** function, a class Point was implemented. Then the following points were created:\n",
        "\n",
        "```\n",
        "pt1 = Point(3, 4)\n",
        "pt2 = Point(-2, 6)\n",
        "```\n",
        "\n",
        "Find the midpoint of the segment at points pt1 and pt2 and print the result to the console.\n",
        "\n",
        "Returns a new subclass of tuple with named fields.\n",
        "\n",
        "Expected result:\n",
        "\n",
        "```\n",
        "Point(x=0.5, y=5.0)\n",
        "```"
      ]
    },
    {
      "cell_type": "code",
      "metadata": {
        "colab": {
          "base_uri": "https://localhost:8080/"
        },
        "id": "rXYr3Ij7uj5A",
        "outputId": "d43fb0ea-a4c3-457b-8443-8e7c1f6f8ca7"
      },
      "source": [
        "from collections import namedtuple\n",
        "\n",
        "Point = namedtuple(typename='Point', field_names=['x', 'y'])\n",
        "\n",
        "pt1 = Point(3, 4)\n",
        "pt2 = Point(-2, 6)\n",
        "\n",
        "pt3 = Point(((pt1.x + pt2.x)/2), ((pt1.y + pt2.y)/2))\n",
        "print(pt3)"
      ],
      "execution_count": null,
      "outputs": [
        {
          "output_type": "stream",
          "text": [
            "Point(x=0.5, y=5.0)\n"
          ],
          "name": "stdout"
        }
      ]
    },
    {
      "cell_type": "markdown",
      "metadata": {
        "id": "IL6_l45g6rBz"
      },
      "source": [
        "\n",
        "### Exc 17\n",
        "Using the built-in ***collections*** module and the ***namedtuple()*** function create a class called **Student** to store data about students. \n",
        "\n",
        "Set the following attributes/fields:\n",
        "\n",
        "* 'name'\n",
        "* 'age'\n",
        "* 'specialization'\n",
        "\n",
        "Then create three students with the given data:\n",
        "\n",
        "```\n",
        "Student('Mike', 21, 'physics')\n",
        "Student('Kate', 20, 'mathematics')\n",
        "Student('Bob', 21, 'information technology')\n",
        "```\n",
        "\n",
        "and assign it to the students list. Iterate through the students list and print basic information about the students to the console as shown below.\n",
        "\n",
        "Expected result:\n",
        "```\n",
        "Mike : 21: physics\n",
        "Kate : 20: mathematics\n",
        "Bob  : 21: information technology\n",
        "```"
      ]
    },
    {
      "cell_type": "code",
      "metadata": {
        "colab": {
          "base_uri": "https://localhost:8080/"
        },
        "id": "YJnd1m-5vinY",
        "outputId": "f83abeb9-1c28-4e8d-c38d-98853c9321ef"
      },
      "source": [
        "from collections import namedtuple\n",
        "\n",
        "Student = namedtuple('Student', ['name', 'age', 'specialization'])\n",
        "\n",
        "s_m = Student('Mike', 21, 'physics')\n",
        "s_k = Student('Kate', 20, 'mathematics')\n",
        "s_b = Student('Bob', 21, 'infrmation tech')\n",
        "\n",
        "s_list = [s_m, s_k, s_b]\n",
        "\n",
        "for s in s_list:\n",
        "    print(f'{s.name}: {s.age}: {s.specialization}')\n"
      ],
      "execution_count": null,
      "outputs": [
        {
          "output_type": "stream",
          "text": [
            "Mike: 21: physics\n",
            "Kate: 20: mathematics\n",
            "Bob: 21: infrmation tech\n"
          ],
          "name": "stdout"
        }
      ]
    },
    {
      "cell_type": "markdown",
      "metadata": {
        "id": "xJv1vGra6ySE"
      },
      "source": [
        "\n",
        "### Exc 18\n",
        "Using the built-in ***collections*** module and the ***namedtuple()*** function, a class called **Student** was implemented.\n",
        "\n",
        "Then four students with the given data were created:\n",
        "* Student('Mike', 21, 'physics'),\n",
        "* Student('Mark', 22, 'biology'),\n",
        "* Student('Kate', 20, 'mathematics'),\n",
        "* Student('Bob', 21, 'information technology')\n",
        "\n",
        "and assigned to the students list. Sort the students list by age (age attribute) in ascending order. In response, print the students list to the console.\n",
        "\n",
        "Expected result:\n",
        "\n",
        "```\n",
        "[\n",
        "    Student(name='Kate', age=20, specialization='mathematics'), \n",
        "    Student(name='Mike', age=21, specialization='physics'), \n",
        "    Student(name='Bob', age=21, specialization='information technology'),     \n",
        "    Student(name='Mark', age=22, specialization='biology')\n",
        "]\n",
        "```"
      ]
    },
    {
      "cell_type": "code",
      "metadata": {
        "colab": {
          "base_uri": "https://localhost:8080/"
        },
        "id": "_W0DGDsQWAul",
        "outputId": "9c0fd2fe-3708-4cfe-fabf-ec4329d794b9"
      },
      "source": [
        "from collections import namedtuple\n",
        "\n",
        "Student = namedtuple('Student', ['name', 'age', 'specialization'])\n",
        "students = [\n",
        "    Student('Mike', 21, 'physics'),\n",
        "    Student('Mark', 22, 'biology'),\n",
        "    Student('Kate', 20, 'mathematics'),\n",
        "    Student('Bob', 21, 'information technology')\n",
        "]\n",
        "\n",
        "students_by_age = sorted(students, key=lambda x: x.age)\n",
        "print(students_by_age)\n"
      ],
      "execution_count": null,
      "outputs": [
        {
          "output_type": "stream",
          "text": [
            "[Student(name='Kate', age=20, specialization='mathematics'), Student(name='Mike', age=21, specialization='physics'), Student(name='Bob', age=21, specialization='information technology'), Student(name='Mark', age=22, specialization='biology')]\n"
          ],
          "name": "stdout"
        }
      ]
    },
    {
      "cell_type": "markdown",
      "metadata": {
        "id": "gUbAi7zr66Pp"
      },
      "source": [
        "\n",
        "### Exc 19\n",
        "Using the built-in ***collections*** module and the ***namedtuple()*** function, a class called **Student** was implemented.\n",
        "\n",
        "Three dictionaries are given:\n",
        "\n",
        "```\n",
        "st1 = {'name': 'Kate', 'age': 20, 'specialization': 'mathematics'}\n",
        "st2 = {'name': 'Mike', 'age': 21, 'specialization': 'physics'}\n",
        "st3 = {'name': 'Bob', 'age': 21, 'specialization': 'information technology'}\n",
        "```\n",
        "\n",
        "Create Student objects from these dictionaries and assign them to the students list. Then, iterating through the students list, print each student to the console.\n",
        "\n",
        "Expected result:\n",
        "```\n",
        "Student(name='Kate', age=20, specialization='mathematics')\n",
        "Student(name='Mike', age=21, specialization='physics')\n",
        "Student(name='Bob', age=21, specialization='information technology')\n",
        "```"
      ]
    },
    {
      "cell_type": "code",
      "metadata": {
        "colab": {
          "base_uri": "https://localhost:8080/"
        },
        "id": "f0Jl1V-1YYyI",
        "outputId": "bacc6df1-f79c-44af-b566-a4a3ae937a83"
      },
      "source": [
        "from collections import namedtuple\n",
        "\n",
        "st1 = {'name': 'Kate', 'age': 20, 'specialization': 'mathematics'}\n",
        "st2 = {'name': 'Mike', 'age': 21, 'specialization': 'physics'}\n",
        "st3 = {'name': 'Bob', 'age': 21, 'specialization': 'information technology'}\n",
        "\n",
        "Student = namedtuple('Student', ['name', 'age', 'specialization'])\n",
        "\n",
        "students_list = [Student(**st1), Student(**st2), Student(**st3)] \n",
        "\n",
        "for student in students_list:\n",
        "    print(student)"
      ],
      "execution_count": null,
      "outputs": [
        {
          "output_type": "stream",
          "text": [
            "Student(name='Kate', age=20, specialization='mathematics')\n",
            "Student(name='Mike', age=21, specialization='physics')\n",
            "Student(name='Bob', age=21, specialization='information technology')\n"
          ],
          "name": "stdout"
        }
      ]
    },
    {
      "cell_type": "markdown",
      "metadata": {
        "id": "MUtrbKip7Bba"
      },
      "source": [
        "\n",
        "### Exc 20\n",
        "Using the built-in ***collections*** module and the ***namedtuple()*** function, a class called Student was implemented.\n",
        "The ***students.txt** file containing student data shoude be attached to this exercise:\n",
        "\n",
        "```\n",
        "{'name': 'Kate', 'age': 20, 'specialization': 'mathematics'}\n",
        "{'name': 'Mike', 'age': 21, 'specialization': 'physics'}\n",
        "{'name': 'Bob', 'age': 21, 'specialization': 'information technology'}\n",
        "```\n",
        "Load the file ***students.txt*** and create **Student** objects from the given dictionaries and assign them to the students list. Then print the students list to the console.\n",
        "\n",
        "Expected result:\n",
        "```\n",
        "[\n",
        "    Student(name='Kate', age=20, specialization='mathematics'), \n",
        "    Student(name='Mike', age=21, specialization='physics'), \n",
        "    Student(name='Bob', age=21, specialization='information technology')\n",
        "]\n",
        "\n",
        "```"
      ]
    },
    {
      "cell_type": "code",
      "metadata": {
        "colab": {
          "base_uri": "https://localhost:8080/"
        },
        "id": "Sz1U_XsQd6fP",
        "outputId": "51671354-1ed2-455e-b2a6-490630ac49af"
      },
      "source": [
        "from collections import namedtuple\n",
        "\n",
        "Student = namedtuple('Student', ['name', 'age', 'specialization'])\n",
        "students_list = []\n",
        "\n",
        "with open('sample_data/students.txt') as reader:\n",
        "    for line in reader.readlines():\n",
        "        line = eval(line.strip())\n",
        "        students_list.append(Student(**line))\n",
        "\n",
        "print(students_list)"
      ],
      "execution_count": null,
      "outputs": [
        {
          "output_type": "stream",
          "text": [
            "[Student(name='Kate', age=20, specialization='mathematics'), Student(name='Mike', age=21, specialization='physics'), Student(name='Bob', age=21, specialization='information technology')]\n"
          ],
          "name": "stdout"
        }
      ]
    },
    {
      "cell_type": "markdown",
      "metadata": {
        "id": "k3mGGoH17J42"
      },
      "source": [
        "\n",
        "### Exc 21\n",
        "Consider an empty dictionary named quotations as defined below:\n",
        "```\n",
        "quotations = {}\n",
        "```\n",
        "When trying to read a value for non-existing key, e.g. 'source' quotations\n",
        "```\n",
        "['source']\n",
        "```\n",
        "we get the **KeyError**. We can deal with it in several ways. For this exercise, consider the dict.get() method:\n",
        "\n",
        "```\n",
        ">>> help(dict.get) \n",
        "\n",
        "Help on method_descriptor: \n",
        "\n",
        "get(...)    \n",
        "    D.get(k[,d]) -> D[k] if k in D, else d.  d defaults to None.\n",
        "```\n",
        "\n",
        "In this case, when we execute the code:\n",
        "```\n",
        "quotations.get('source')\n",
        "```\n",
        "No error is raised and the return value is **None**.\n",
        "\n",
        "Using the ***dict.get()*** method, set the default value to **'NYSE'** and print value for **'source'** key of quotations dictionary to the console. Also print the quotations dictionary to the console.\n",
        "\n",
        "Expected result:\n",
        "```\n",
        "NYSE{}\n",
        "```"
      ]
    },
    {
      "cell_type": "code",
      "metadata": {
        "colab": {
          "base_uri": "https://localhost:8080/"
        },
        "id": "02Qe1fqYsF4D",
        "outputId": "0b6dcec6-a820-452a-8b92-30b77639df09"
      },
      "source": [
        "quotations = {}\n",
        "print(quotations.get('source', 'NYSE'))"
      ],
      "execution_count": null,
      "outputs": [
        {
          "output_type": "stream",
          "text": [
            "NYSE\n"
          ],
          "name": "stdout"
        }
      ]
    },
    {
      "cell_type": "markdown",
      "metadata": {
        "id": "DUWILeSr7T6j"
      },
      "source": [
        "\n",
        "### Exc 22\n",
        "Consider an empty dictionary named quotations as defined below:\n",
        "```\n",
        "quotations = {}\n",
        "```\n",
        "When trying to read a value for non-existing key, e.g. 'source'\n",
        "```\n",
        "quotations['source']\n",
        "```\n",
        "we get the **KeyError**. We can deal with it in several ways. \n",
        "\n",
        "In this exercise, consider the ***dict.setdefault()*** method:\n",
        "\n",
        "```\n",
        ">>> help(dict.setdefault) \n",
        "\n",
        "Help on method_descriptor: \n",
        "setdefault(...)    \n",
        "    D.setdefault(k[,d]) -> D.get(k,d), also set D[k]=d if k not in D\n",
        "```\n",
        "Using the ***dict.setdefault()*** method set the default value for the **'source'** key to **'NYSE'**. Then print the quotations dictionary to the console.\n",
        "\n",
        "Try again to set the default value for the key **'source'** to **'LSE'** this time. \n",
        "\n",
        "Then print the dictionary quotations and the value for the key **'source'** of quotations dictionary as shown below to the console.\n",
        "\n",
        "Expected result:\n",
        "```\n",
        "{'source': 'NYSE'}\n",
        "{'source': 'NYSE'}\n",
        "NYSE\n",
        "```"
      ]
    },
    {
      "cell_type": "code",
      "metadata": {
        "colab": {
          "base_uri": "https://localhost:8080/"
        },
        "id": "OWWO21oPu8-2",
        "outputId": "3e29d7e4-dcd0-4cf9-826e-e79e352351ca"
      },
      "source": [
        "quotations = {}\n",
        "\n",
        "quotations.setdefault('source', 'NYSE')\n",
        "print(quotations)\n",
        "quotations.setdefault('source', 'LSE')\n",
        "print(quotations)\n",
        "print(quotations['source'])"
      ],
      "execution_count": null,
      "outputs": [
        {
          "output_type": "stream",
          "text": [
            "{'source': 'NYSE'}\n",
            "{'source': 'NYSE'}\n",
            "NYSE\n"
          ],
          "name": "stdout"
        }
      ]
    },
    {
      "cell_type": "markdown",
      "metadata": {
        "id": "UEO-Ru-l7Y6-"
      },
      "source": [
        "\n",
        "### Exc 23\n",
        "The following list is given:\n",
        "```\n",
        "data = [    \n",
        "    ('technology', 'Apple'),    \n",
        "    ('gaming', 'Techland'),    \n",
        "    ('finance', 'Berkshire Hathaway'),    \n",
        "    ('gaming', 'EA'),    \n",
        "    ('technology', 'Facebook'),    \n",
        "    ('gaming', 'CD Projekt'),    \n",
        "    ('finance', 'Allianz')   \n",
        "]\n",
        "```\n",
        "\n",
        "Using the dictionary and the ***dict.setdefault()*** method create the following object:\n",
        "```\n",
        "{\n",
        "    'technology': ['Apple', 'Facebook'], \n",
        "    'gaming': ['Techland', 'EA', 'CD Projekt'], \n",
        "    'finance': ['Berkshire Hathaway', 'Allianz']\n",
        "}\n",
        "```\n",
        "and assign it to the **data_dict** variable. In response, print this variable to the console.\n",
        "\n",
        "Expected result:\n",
        "```\n",
        "{\n",
        "    'technology': ['Apple', 'Facebook'], \n",
        "    'gaming': ['Techland', 'EA', 'CD Projekt'], \n",
        "    'finance': ['Berkshire Hathaway', 'Allianz']\n",
        "}\n",
        "```"
      ]
    },
    {
      "cell_type": "code",
      "metadata": {
        "colab": {
          "base_uri": "https://localhost:8080/"
        },
        "id": "k9GLAaltxKfb",
        "outputId": "128fc1a2-80b0-4a18-9899-3e4a29813464"
      },
      "source": [
        "data = [    \n",
        "    ('technology', 'Apple'),    \n",
        "    ('gaming', 'Techland'),    \n",
        "    ('finance', 'Berkshire Hathaway'),    \n",
        "    ('gaming', 'EA'),    \n",
        "    ('technology', 'Facebook'),    \n",
        "    ('gaming', 'CD Projekt'),    \n",
        "    ('finance', 'Allianz')   \n",
        "]\n",
        "result_dict = {}\n",
        "\n",
        "for sector, company in data:\n",
        "    result_dict.setdefault(sector, []).append(company)\n",
        "\n",
        "print(result_dict)"
      ],
      "execution_count": null,
      "outputs": [
        {
          "output_type": "stream",
          "text": [
            "{'technology': ['Apple', 'Facebook'], 'gaming': ['Techland', 'EA', 'CD Projekt'], 'finance': ['Berkshire Hathaway', 'Allianz']}\n"
          ],
          "name": "stdout"
        }
      ]
    },
    {
      "cell_type": "markdown",
      "metadata": {
        "id": "5NhFt-7D7hAw"
      },
      "source": [
        "\n",
        "### Exc 24\n",
        "The following list is given:\n",
        "```\n",
        "data = [    \n",
        "    ('technology', 'Apple'),    \n",
        "    ('gaming', 'Techland'),    \n",
        "    ('finance', 'Berkshire Hathaway'),    \n",
        "    ('gaming', 'EA'),    \n",
        "    ('technology', 'Facebook'),    \n",
        "    ('gaming', 'CD Projekt'),    \n",
        "    ('finance', 'Allianz')   \n",
        "]\n",
        "```\n",
        "\n",
        "Using the built-in ***collections*** module and the ***defaultdict*** class create the following object:\n",
        "\n",
        "```\n",
        "defaultdict(<class 'list'>, {'technology': ['Apple', 'Facebook'], 'gaming': ['Techland', 'EA', 'CD Projekt'], 'finance': ['Berkshire Hathaway', 'Allianz']})\n",
        "```\n",
        "and assign it to **def_dict**. Print this variable to the console.\n",
        "\n",
        "Expected result:\n",
        "\n",
        "```\n",
        "defaultdict(<class 'list'>, {'technology': ['Apple', 'Facebook'], 'gaming': ['Techland', 'EA', 'CD Projekt'], 'finance': ['Berkshire Hathaway', 'Allianz']})\n",
        "```"
      ]
    },
    {
      "cell_type": "code",
      "metadata": {
        "colab": {
          "base_uri": "https://localhost:8080/"
        },
        "id": "WM8aYCdh0DxH",
        "outputId": "bfd1154a-af2b-4547-e107-85f37731186a"
      },
      "source": [
        "from collections import defaultdict\n",
        "\n",
        "data = [    \n",
        "    ('technology', 'Apple'),    \n",
        "    ('gaming', 'Techland'),    \n",
        "    ('finance', 'Berkshire Hathaway'),    \n",
        "    ('gaming', 'EA'),    \n",
        "    ('technology', 'Facebook'),    \n",
        "    ('gaming', 'CD Projekt'),    \n",
        "    ('finance', 'Allianz')   \n",
        "]\n",
        "\n",
        "result_dict = defaultdict(list)\n",
        "\n",
        "for sector, company in data:\n",
        "    result_dict[sector].append(company)\n",
        "\n",
        "print(result_dict)"
      ],
      "execution_count": null,
      "outputs": [
        {
          "output_type": "stream",
          "text": [
            "defaultdict(<class 'list'>, {'technology': ['Apple', 'Facebook'], 'gaming': ['Techland', 'EA', 'CD Projekt'], 'finance': ['Berkshire Hathaway', 'Allianz']})\n"
          ],
          "name": "stdout"
        }
      ]
    },
    {
      "cell_type": "markdown",
      "metadata": {
        "id": "JhNmcSd77mmy"
      },
      "source": [
        "\n",
        "### Exc 25\n",
        "The following list is given:\n",
        "```\n",
        "data = [    \n",
        "    ('technology', 'Apple'),    \n",
        "    ('gaming', 'Techland'),    \n",
        "    ('finance', 'Berkshire Hathaway'),    \n",
        "    ('gaming', 'EA'),    \n",
        "    ('technology', 'Facebook'),    \n",
        "    ('gaming', 'CD Projekt'),    \n",
        "    ('finance', 'Allianz')   \n",
        "]\n",
        "```\n",
        "Notice that the list contains duplicate values. \n",
        "\n",
        "Using the built-in ***collections*** module and the ***defaultdict*** class create the following object:\n",
        "\n",
        "```\n",
        "defaultdict(<class 'set'>, {'technology': {'Facebook', 'Apple'}, 'gaming': {'EA', 'CD Projekt', 'Techland'}, 'finance': {'Allianz', 'Berkshire Hathaway'}})\n",
        "```\n",
        "\n",
        "and assign it to **def_dict**.\n",
        "\n",
        "Print this variable to the console.\n",
        "\n",
        "Expected result:\n",
        "\n",
        "```\n",
        "defaultdict(<class 'set'>, {'technology': {'Facebook', 'Apple'}, 'gaming': {'EA', 'CD Projekt', 'Techland'}, 'finance': {'Allianz', 'Berkshire Hathaway'}})\n",
        "\n",
        "```"
      ]
    },
    {
      "cell_type": "code",
      "metadata": {
        "colab": {
          "base_uri": "https://localhost:8080/"
        },
        "id": "FkP17erS2hEh",
        "outputId": "100b31e1-e5de-44b7-e468-7f0304f6508a"
      },
      "source": [
        "from collections import defaultdict\n",
        "\n",
        "data = [    \n",
        "    ('technology', 'Apple'),    \n",
        "    ('gaming', 'Techland'),    \n",
        "    ('gaming', 'Techland'),    \n",
        "    ('gaming', 'Techland'),    \n",
        "    ('finance', 'Berkshire Hathaway'),    \n",
        "    ('finance', 'Berkshire Hathaway'),    \n",
        "    ('gaming', 'EA'),    \n",
        "    ('gaming', 'EA'),    \n",
        "    ('technology', 'Facebook'),    \n",
        "    ('gaming', 'CD Projekt'),    \n",
        "    ('finance', 'Allianz')   \n",
        "]\n",
        "\n",
        "def_dict = defaultdict(set)\n",
        "\n",
        "for sector, company in data:\n",
        "    def_dict[sector].add(company)\n",
        "\n",
        "print(def_dict)\n",
        "\n"
      ],
      "execution_count": null,
      "outputs": [
        {
          "output_type": "stream",
          "text": [
            "defaultdict(<class 'set'>, {'technology': {'Apple', 'Facebook'}, 'gaming': {'Techland', 'CD Projekt', 'EA'}, 'finance': {'Berkshire Hathaway', 'Allianz'}})\n"
          ],
          "name": "stdout"
        }
      ]
    },
    {
      "cell_type": "markdown",
      "metadata": {
        "id": "K3HRJWM-7vKg"
      },
      "source": [
        "\n",
        "### Exc 26\n",
        "The following list is given:\n",
        "```\n",
        "transactions = [\n",
        "    ('001', 100),\n",
        "    ('003', 10),\n",
        "    ('002', 80),\n",
        "    ('001', 90),\n",
        "    ('002', 46),\n",
        "    ('001', 43),\n",
        "    ('003', 23),\n",
        "]\n",
        "```\n",
        "Using the built-in ***collections*** module and the ***defaultdict*** class create the following object (group by the first element - user_id):\n",
        "```\n",
        "defaultdict(<class 'int'>, {'001': 233, '003': 33, '002': 126})\n",
        "```\n",
        "\n",
        "and assign it to **def_dict**. Print this variable to the console.\n",
        "\n",
        "Expected result:\n",
        "\n",
        "```\n",
        "defaultdict(<class 'int'>, {'001': 233, '003': 33, '002': 126})\n",
        "```"
      ]
    },
    {
      "cell_type": "code",
      "metadata": {
        "colab": {
          "base_uri": "https://localhost:8080/"
        },
        "id": "fFWr90fZ4VLS",
        "outputId": "1484571e-4771-412b-f8a0-cb498dce1d37"
      },
      "source": [
        "from collections import defaultdict\n",
        "\n",
        "transactions = [\n",
        "    ('001', 100),\n",
        "    ('003', 10),\n",
        "    ('002', 80),\n",
        "    ('001', 90),\n",
        "    ('002', 46),\n",
        "    ('001', 43),\n",
        "    ('003', 23),\n",
        "]\n",
        "\n",
        "def_dict = defaultdict(int)\n",
        "\n",
        "for id, amount in transactions:\n",
        "    def_dict[id] += amount\n",
        "\n",
        "print(def_dict)"
      ],
      "execution_count": null,
      "outputs": [
        {
          "output_type": "stream",
          "text": [
            "defaultdict(<class 'int'>, {'001': 233, '003': 33, '002': 126})\n"
          ],
          "name": "stdout"
        }
      ]
    },
    {
      "cell_type": "markdown",
      "metadata": {
        "id": "snNg_IaV73W2"
      },
      "source": [
        "\n",
        "### Exc 27\n",
        "The following list is given:\n",
        "```\n",
        "['Tue.', 'Wed.', 'Thu.', 'Fri.', 'Sat.']\n",
        "```\n",
        "Using the ***collections*** built-in module create a double-ended queue object (deque) from the given list and assign it to the **daynames** variable. Then add the item **'Mon.'** at the beginning and the element **'Sun.'** at the end of the daynames object. \n",
        "\n",
        "In response, print the daynames deque to the console.\n",
        "\n",
        "```\n",
        ">>> help(deque) \n",
        "Help on class deque in module collections: \n",
        "class deque(builtins.object) |  deque([iterable[, maxlen]]) --> deque object |   |  A list-like sequence optimized for data accesses near its endpoints.\n",
        "```\n",
        "\n",
        "Expected result:\n",
        "\n",
        "```\n",
        "deque(['Mon.', 'Tue.', 'Wed.', 'Thu.', 'Fri.', 'Sat.', 'Sun.'])\n",
        "```"
      ]
    },
    {
      "cell_type": "code",
      "metadata": {
        "colab": {
          "base_uri": "https://localhost:8080/"
        },
        "id": "kyddUrpUX4fq",
        "outputId": "92fbc698-7e8f-4156-8384-42e1fc58a050"
      },
      "source": [
        "from collections import deque\n",
        "\n",
        "daynames = deque(['Tue.', 'Wed.', 'Thu.', 'Fri.', 'Sat.'])\n",
        "daynames.appendleft('Mon.')\n",
        "daynames.append('Sun.')\n",
        "print(daynames)\n"
      ],
      "execution_count": null,
      "outputs": [
        {
          "output_type": "stream",
          "text": [
            "deque(['Mon', 'Tue.', 'Wed.', 'Thu.', 'Fri.', 'Sat.', 'Sun'])\n"
          ],
          "name": "stdout"
        }
      ]
    },
    {
      "cell_type": "markdown",
      "metadata": {
        "id": "2gmsmpxV79qa"
      },
      "source": [
        "### Exc 28\n",
        "The following list is given:\n",
        "```\n",
        "daynames = deque(['Mon.', 'Tue.', 'Wed.', 'Thu.', 'Fri.', 'Sat.', 'Mon.'])\n",
        "```\n",
        "Using the ***collections*** built-in module  and the deque class, move one item forward in the **daynames** deque, as shown below: \n",
        "\n",
        "```\n",
        "deque(['Sun', 'Mon.', 'Thu.', 'Wed.', 'Tue', 'Fri.', 'Sat.' ]) \n",
        "```\n",
        "\n",
        "In response, print **daynames** to the console.\n",
        "\n",
        "Expected result:\n",
        "\n",
        "```\n",
        "Wed.\n",
        "```"
      ]
    },
    {
      "cell_type": "code",
      "metadata": {
        "colab": {
          "base_uri": "https://localhost:8080/"
        },
        "id": "6OLDfmFAaYMf",
        "outputId": "f3ef9ca8-19db-40ef-f32c-392450b6d68f"
      },
      "source": [
        "from collections import deque\n",
        "daynames = deque(['Mon.', 'Tue.', 'Wed.', 'Thu.', 'Fri.', 'Sat.', 'Sun.'])\n",
        "daynames.appendleft(daynames.pop())\n",
        "\n",
        "print(daynames)"
      ],
      "execution_count": null,
      "outputs": [
        {
          "output_type": "stream",
          "text": [
            "deque(['Sun.', 'Mon.', 'Tue.', 'Wed.', 'Thu.', 'Fri.', 'Sat.'])\n"
          ],
          "name": "stdout"
        }
      ]
    },
    {
      "cell_type": "markdown",
      "metadata": {
        "id": "6jgvu4aE8Efs"
      },
      "source": [
        "\n",
        "### Exc 29\n",
        "The following deque object is given:\n",
        "\n",
        "```\n",
        "daynames = deque(['Mon.', 'Tue.', 'Wed.', 'Thu.', 'Fri.', 'Sat.', 'Sun.'])\n",
        "```\n",
        "\n",
        "Using the built-in ***collections*** module and the ***deque*** class, \n",
        "shift three items back in the **daynames** deque, as shown below:\n",
        "\n",
        "```\n",
        "deque(['Thu.', 'Fri.', 'Sat.', 'Sun.', 'Mon.', 'Tue.', 'Wed.'])\n",
        "```\n",
        "\n",
        "Then, using the appropriate method pop the last element out of this deque and print to the console.\n",
        "\n",
        "Expected result:\n",
        "\n",
        "```\n",
        "Wed.\n",
        "```"
      ]
    },
    {
      "cell_type": "code",
      "metadata": {
        "colab": {
          "base_uri": "https://localhost:8080/"
        },
        "id": "NnNKAcyCeKRy",
        "outputId": "d52c245c-4516-4b8a-aa9f-0f4f169ab00b"
      },
      "source": [
        "from collections import deque\n",
        "\n",
        "daynames = deque(['Mon.', 'Tue.', 'Wed.', 'Thu.', 'Fri.', 'Sat.', 'Sun.'])\n",
        "daynames.rotate(4)\n",
        "\n",
        "print(daynames.pop())\n"
      ],
      "execution_count": null,
      "outputs": [
        {
          "output_type": "stream",
          "text": [
            "Wed.\n"
          ],
          "name": "stdout"
        }
      ]
    },
    {
      "cell_type": "markdown",
      "metadata": {
        "id": "JLNXgCbD8MGn"
      },
      "source": [
        "\n",
        "### Exc 30\n",
        "The following deque object is given:\n",
        "\n",
        "```\n",
        "daynames = deque(['Mon.', 'Tue.', 'Wed.', 'Thu.', 'Fri.', 'Sat.', 'Sun.'])\n",
        "```\n",
        "\n",
        "Using the ***collections*** built-in module and the ***deque*** class reverse the order of the daynames queue as shown below:\n",
        "\n",
        "```\n",
        "deque(['Sun.', 'Sat.', 'Fri.', 'Thu.', 'Wed.', 'Tue.', 'Mon.'])\n",
        "```\n",
        "Then, using the appropriate method pop the first element out of this deque and print to the console.\n",
        "\n",
        "Expected result:\n",
        "\n",
        "```\n",
        "Sun.\n",
        "```"
      ]
    },
    {
      "cell_type": "code",
      "metadata": {
        "colab": {
          "base_uri": "https://localhost:8080/"
        },
        "id": "79UIPng6femO",
        "outputId": "2f7c1e57-d3ea-42cc-d354-21a707f6b808"
      },
      "source": [
        "from collections import deque\n",
        "\n",
        "daynames = deque(['Mon.', 'Tue.', 'Wed.', 'Thu.', 'Fri.', 'Sat.', 'Sun.'])\n",
        "daynames.reverse()\n",
        "\n",
        "print(daynames.popleft())"
      ],
      "execution_count": null,
      "outputs": [
        {
          "output_type": "stream",
          "text": [
            "Sun.\n"
          ],
          "name": "stdout"
        }
      ]
    },
    {
      "cell_type": "markdown",
      "metadata": {
        "id": "Iw8FLdCU8SYm"
      },
      "source": [
        "\n",
        "### Exc 31\n",
        "The premiere of a computer game is planned and the option to subscribe to the wish list is opened. When a user subscribes to the wish list user id is added to the deque. Using the built-in ***collections*** module create an empty deque object named wishlist. Following users subscribed to the wish list in the given order:\n",
        "\n",
        "* '003'\n",
        "* '001'\n",
        "* '004'\n",
        "* '002'\n",
        "* '005'\n",
        "\n",
        "Add these users to the wishlist deque.You should get following object:\n",
        "\n",
        "```\n",
        "deque(['003', '001', '004', '002', '005'])\n",
        "```\n",
        "\n",
        "Using the appropriate method pop the first subscribed user from this deque and print to the console.\n",
        "\n",
        "Expected result:\n",
        "\n",
        "```\n",
        "003\n",
        "```"
      ]
    },
    {
      "cell_type": "code",
      "metadata": {
        "colab": {
          "base_uri": "https://localhost:8080/"
        },
        "id": "nwtQlu9nhbMG",
        "outputId": "ec0ce8b2-33bf-4273-f652-64c0a4341748"
      },
      "source": [
        "from collections import deque\n",
        "\n",
        "whishlist = deque()\n",
        "\n",
        "whishlist.append('003')\n",
        "whishlist.append('001')\n",
        "whishlist.append('004')\n",
        "whishlist.append('002')\n",
        "whishlist.append('005')\n",
        "\n",
        "print(whishlist.popleft())"
      ],
      "execution_count": null,
      "outputs": [
        {
          "output_type": "stream",
          "text": [
            "003\n"
          ],
          "name": "stdout"
        }
      ]
    },
    {
      "cell_type": "markdown",
      "metadata": {
        "id": "T3uYVacd8dT8"
      },
      "source": [
        "\n",
        "### Exc 32\n",
        "The premiere of a computer game is planned and the option to subscribe to the wish list is opened. When a user subscribes to the wish list user id is added to the deque. Several users subscribed to the wish list. The data is received as a stream. If an error occurs, the value None appears in the stream instead of the user id. In this case, the deque should be cleared.\n",
        "\n",
        "Using the built-in ***collections*** module create an empty deque object named **wishlist**. Following users subscribed to the wish list in the given order (in stream):\n",
        "* '003'\n",
        "* '001'\n",
        "* '004'\n",
        "* None\n",
        "* '002'\n",
        "* '005'\n",
        "\n",
        "Add these users to the wishlist deque in the way described above. \n",
        "\n",
        "In response, print the wishlist to the console.\n",
        "\n",
        "Expected result:\n",
        "\n",
        "```\n",
        "deque(['002', '005'])\n",
        "```"
      ]
    },
    {
      "cell_type": "code",
      "metadata": {
        "colab": {
          "base_uri": "https://localhost:8080/"
        },
        "id": "GCqdvMnvk08k",
        "outputId": "b7de4de5-804e-4826-c0a0-15ec776dbde1"
      },
      "source": [
        "from collections import deque\n",
        "\n",
        "user_ids = ['003', '001', '004', None, '002', '005']\n",
        "wishlist = deque()\n",
        "\n",
        "for id in user_ids:\n",
        "    if id is None:\n",
        "        wishlist.clear()\n",
        "    else:\n",
        "        wishlist.append(id)\n",
        "\n",
        "print(wishlist)"
      ],
      "execution_count": null,
      "outputs": [
        {
          "output_type": "stream",
          "text": [
            "deque(['002', '005'])\n"
          ],
          "name": "stdout"
        }
      ]
    },
    {
      "cell_type": "markdown",
      "metadata": {
        "id": "fgKppdgH8irl"
      },
      "source": [
        "\n",
        "###  Exc 33\n",
        "\n",
        "The premiere of a computer game is planned and the option to subscribe to the wish list is opened. When a user subscribes to the wish list user id is added to the deque. \n",
        "\n",
        "Using the built-in ***collections*** module create an empty deque object named **wishlist** with the maximum length of three elements. Following users subscribed to the wish list in the given order:\n",
        "\n",
        "* '003'\n",
        "* '001'\n",
        "* '004'\n",
        "* '006'\n",
        "* '002'\n",
        "* '005'\n",
        "\n",
        "Add these users to the wishlist deque. \n",
        "\n",
        "In response, print wishlist deque to the console each time you add a user as shown below.\n",
        "\n",
        "Expected result:\n",
        "```\n",
        "deque(['003'], maxlen=3)\n",
        "deque(['003', '001'], maxlen=3)\n",
        "deque(['003', '001', '004'], maxlen=3)\n",
        "deque(['001', '004', '006'], maxlen=3)\n",
        "deque(['004', '006', '002'], maxlen=3)\n",
        "deque(['006', '002', '005'], maxlen=3)\n",
        "```"
      ]
    },
    {
      "cell_type": "code",
      "metadata": {
        "colab": {
          "base_uri": "https://localhost:8080/"
        },
        "id": "n736sRLFmsh3",
        "outputId": "e216f073-867b-4135-97b5-954f55ae0dc8"
      },
      "source": [
        "from collections import deque\n",
        "\n",
        "user_ids = ['003', '001', '004', '006', '002', '005']\n",
        "wishlist = deque(maxlen=3)\n",
        "\n",
        "for id in user_ids:\n",
        "    wishlist.append(id)\n",
        "    print(wishlist)\n",
        "\n"
      ],
      "execution_count": null,
      "outputs": [
        {
          "output_type": "stream",
          "text": [
            "deque(['003'], maxlen=3)\n",
            "deque(['003', '001'], maxlen=3)\n",
            "deque(['003', '001', '004'], maxlen=3)\n",
            "deque(['001', '004', '006'], maxlen=3)\n",
            "deque(['004', '006', '002'], maxlen=3)\n",
            "deque(['006', '002', '005'], maxlen=3)\n"
          ],
          "name": "stdout"
        }
      ]
    },
    {
      "cell_type": "markdown",
      "metadata": {
        "id": "7h75d4KH8rjj"
      },
      "source": [
        "\n",
        "### Exc 34\n",
        "The premiere of a computer game is planned and the option to subscribe to the wish list is opened. When a user subscribes to the wish list user id is added to the deque. Following users subscribed to the wish list in the given order:\n",
        "\n",
        "* '003'\n",
        "* '001'\n",
        "* '004'\n",
        "* '002'\n",
        "* '005'\n",
        "\n",
        "Using the ***collections*** built-in module a deque object called wishlist was created based on the data from the user_ids list. Extend the wishlist with three additional users:\n",
        "\n",
        "```\n",
        "['007', '009', '010']\n",
        "```\n",
        "\n",
        "In response, print the wishlist object to the console.\n",
        "\n",
        "Expected result:\n",
        "\n",
        "```\n",
        "deque(['003', '001', '004', '002', '005', '007', '009', '010'])\n",
        "```"
      ]
    },
    {
      "cell_type": "code",
      "metadata": {
        "colab": {
          "base_uri": "https://localhost:8080/"
        },
        "id": "sCRemkC6oAB-",
        "outputId": "98bd7941-12fd-42ca-d382-1504fc4d5e67"
      },
      "source": [
        "from collections import deque\n",
        "\n",
        "user_ids = ['003', '001', '004', '002', '005']\n",
        "\n",
        "wishlist = deque(user_ids)\n",
        "wishlist.extend(['007', '009', '010'])\n",
        "\n",
        "print(wishlist)\n"
      ],
      "execution_count": null,
      "outputs": [
        {
          "output_type": "stream",
          "text": [
            "deque(['003', '001', '004', '002', '005', '007', '009', '010'])\n"
          ],
          "name": "stdout"
        }
      ]
    }
  ]
}