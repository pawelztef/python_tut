{
  "nbformat": 4,
  "nbformat_minor": 0,
  "metadata": {
    "colab": {
      "name": "string.ipynb",
      "provenance": [],
      "authorship_tag": "ABX9TyMpJP1jwYTk93PpG1DHATmR",
      "include_colab_link": true
    },
    "kernelspec": {
      "name": "python3",
      "display_name": "Python 3"
    },
    "language_info": {
      "name": "python"
    }
  },
  "cells": [
    {
      "cell_type": "markdown",
      "metadata": {
        "id": "view-in-github",
        "colab_type": "text"
      },
      "source": [
        "<a href=\"https://colab.research.google.com/github/pawelztef/python_tut/blob/main/string.ipynb\" target=\"_parent\"><img src=\"https://colab.research.google.com/assets/colab-badge.svg\" alt=\"Open In Colab\"/></a>"
      ]
    },
    {
      "cell_type": "markdown",
      "metadata": {
        "id": "LRxvj6i9qzkD"
      },
      "source": [
        "### Exc 1\n",
        "##### part a\n",
        "Using the built-in ***string*** module, create a dictionary that allows you to map indices forom 0 to 25 to lowercase letters (ascii_lowercase) and assign it to the ***cod_map*** variable:\n",
        "\n",
        "{0: 'a',\n",
        "\n",
        " 1: 'b',\n",
        "\n",
        " 2: 'c',\n",
        "\n",
        " 3: 'd',\n",
        "\n",
        " 4: 'e',\n",
        "\n",
        " 5: 'f',\n",
        "\n",
        " 6: 'g',\n",
        " \n",
        " 7: 'h',\n",
        "\n",
        " 8: 'i',\n",
        "\n",
        " 9: 'j',\n",
        "\n",
        " 10: 'k',\n",
        "\n",
        " 11: 'l',\n",
        " \n",
        " 12: 'm',\n",
        "\n",
        " 13: 'n',\n",
        " \n",
        " 14: 'o',\n",
        "\n",
        " 15: 'p',\n",
        "\n",
        " 16: 'q',\n",
        "\n",
        " 17: 'r',\n",
        "\n",
        " 18: 's',\n",
        " \n",
        " 19: 't',\n",
        "\n",
        " 20: 'u',\n",
        "\n",
        " 21: 'v',\n",
        "\n",
        " 22: 'w',\n",
        "\n",
        " 23: 'x',\n",
        "\n",
        " 24: 'y',\n",
        "\n",
        " 25: 'z'}\n",
        "\n",
        " Then replce the values with keys with keys in the ***doce_map*** dictionary and assign to the ***code_map_inv*** variable:\n",
        "\n",
        "\n",
        "##### part b\n",
        "\n",
        "A text is given:\n",
        "\n",
        "docs = 'programming in python'\n",
        "\n",
        "Using the ***code_map*** and ***code_map_inv*** dictionaries, encode the docs in such a way that each letter is shifted by three letters alphabetically (leave the spaces in the document unchanged).\n",
        "\n",
        "In response, print the encoded document to the console.\n",
        "\n",
        "**Expected result:**\n",
        "\n",
        "surjudpplaqj lq sbwkrq\n"
      ]
    },
    {
      "cell_type": "code",
      "metadata": {
        "id": "PEgLcKzKqMS-"
      },
      "source": [
        ""
      ],
      "execution_count": null,
      "outputs": []
    },
    {
      "cell_type": "markdown",
      "metadata": {
        "id": "MsNY0Er5t269"
      },
      "source": [
        "### Using the ***Template*** class from the ***string*** built-in module create an email template. Sample e-mail below.\n",
        "\n",
        "\n",
        "\n",
        "```\n",
        "Hello John,\n",
        "\n",
        "Thank you for visiting our website.\n",
        "Team, XY\n",
        "```\n",
        "\n",
        "The template should allow you to change the name in the first line of the message. Then for the following list:\n",
        "\n",
        "names = ['John', 'Paul', 'Lisa', 'Michael']\n",
        "\n",
        "print the content of peronalized emails to the console. Separate each e-mail with a lin consisting of 35 characters '-' as shown below.\n",
        "\n",
        "\n",
        "**Expected result:**\n",
        "\n",
        "\n",
        "```\n",
        "Hello John,\n",
        "\n",
        "Thank you for visiting our website.\n",
        "Team, XYZ\n",
        "-----------------------------------\n",
        "Hello Paul,\n",
        "\n",
        "Thank you for visiting our website.\n",
        "-----------------------------------\n",
        "Team, XYZ\n",
        "Hello Lisa,\n",
        "\n",
        "Thank you for visiting our website.\n",
        "Team, XYZ\n",
        "-----------------------------------\n",
        "Team, XYZ\n",
        "Hello Michael,\n",
        "\n",
        "Thank you for visiting our website.\n",
        "Team, XYZ\n",
        "-----------------------------------\n",
        "```\n",
        "\n",
        "\n",
        "\n"
      ]
    }
  ]
}