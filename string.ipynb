{
  "nbformat": 4,
  "nbformat_minor": 0,
  "metadata": {
    "colab": {
      "name": "string.ipynb",
      "provenance": [],
      "authorship_tag": "ABX9TyOpUsPygmfhea6794AtaDwl",
      "include_colab_link": true
    },
    "kernelspec": {
      "name": "python3",
      "display_name": "Python 3"
    },
    "language_info": {
      "name": "python"
    }
  },
  "cells": [
    {
      "cell_type": "markdown",
      "metadata": {
        "id": "view-in-github",
        "colab_type": "text"
      },
      "source": [
        "<a href=\"https://colab.research.google.com/github/pawelztef/python_tut/blob/main/string.ipynb\" target=\"_parent\"><img src=\"https://colab.research.google.com/assets/colab-badge.svg\" alt=\"Open In Colab\"/></a>"
      ]
    },
    {
      "cell_type": "markdown",
      "metadata": {
        "id": "LRxvj6i9qzkD"
      },
      "source": [
        "### Exc 1\n",
        "##### part a\n",
        "Using the built-in ***string*** module, create a dictionary that allows you to map indices forom 0 to 25 to lowercase letters (ascii_lowercase) and assign it to the ***cod_map*** variable:\n",
        "\n",
        "{0: 'a',  1: 'b',  2: 'c',  3: 'd',  4: 'e',  5: 'f',  6: 'g', 7: 'h',\n",
        " 8: 'i',  9: 'j',  10: 'k',  11: 'l',  12: 'm',  13: 'n', 14: 'o',\n",
        " 15: 'p',  16: 'q',  17: 'r', 18: 's',  19: 't',  20: 'u',  21: 'v',\n",
        " 22: 'w',  23: 'x',  24: 'y',  25: 'z'}\n",
        "\n",
        " Then replce the values with keys with keys in the ***doce_map*** dictionary and assign to the ***code_map_inv*** variable:\n",
        "\n",
        "\n",
        "##### part b\n",
        "\n",
        "A text is given:\n",
        "\n",
        "docs = 'programming in python'\n",
        "\n",
        "Using the ***code_map*** and ***code_map_inv*** dictionaries, encode the docs in such a way that each letter is shifted by three letters alphabetically (leave the spaces in the document unchanged).\n",
        "\n",
        "In response, print the encoded document to the console.\n",
        "\n",
        "**Expected result:**\n",
        "\n",
        "surjudpplaqj lq sbwkrq\n"
      ]
    },
    {
      "cell_type": "code",
      "metadata": {
        "colab": {
          "base_uri": "https://localhost:8080/"
        },
        "id": "PEgLcKzKqMS-",
        "outputId": "9accc23c-2d91-46a5-9ec9-745ef923a2df"
      },
      "source": [
        "import string\n",
        "\n",
        "# code_map = { i: v for i, v in enumerate(list(string.ascii_lowercase)) }\n",
        "code_map = dict(enumerate(string.ascii_lowercase))\n",
        "code_map_inv = { v: i for i, v in code_map.items()}\n",
        "\n",
        "docs = 'programming in python'\n",
        "docs_encoded = '' \n",
        "\n",
        "for i in docs:\n",
        "    if i == ' ':\n",
        "        docs_encoded += i\n",
        "        continue\n",
        "    docs_encoded += code_map[(code_map_inv[i] + 3) % 26]\n",
        "\n",
        "print(docs_encoded)\n",
        "\n",
        "\n"
      ],
      "execution_count": 49,
      "outputs": [
        {
          "output_type": "stream",
          "text": [
            "surjudpplqj lq sbwkrq\n"
          ],
          "name": "stdout"
        }
      ]
    },
    {
      "cell_type": "markdown",
      "metadata": {
        "id": "MsNY0Er5t269"
      },
      "source": [
        "### Using the ***Template*** class from the ***string*** built-in module create an email template. Sample e-mail below.\n",
        "\n",
        "\n",
        "\n",
        "```\n",
        "Hello John,\n",
        "\n",
        "Thank you for visiting our website.\n",
        "Team, XY\n",
        "```\n",
        "\n",
        "The template should allow you to change the name in the first line of the message. Then for the following list:\n",
        "\n",
        "names = ['John', 'Paul', 'Lisa', 'Michael']\n",
        "\n",
        "print the content of peronalized emails to the console. Separate each e-mail with a lin consisting of 35 characters '-' as shown below.\n",
        "\n",
        "\n",
        "**Expected result:**\n",
        "\n",
        "\n",
        "```\n",
        "Hello John,\n",
        "\n",
        "Thank you for visiting our website.\n",
        "Team, XYZ\n",
        "-----------------------------------\n",
        "Hello Paul,\n",
        "\n",
        "Thank you for visiting our website.\n",
        "-----------------------------------\n",
        "Team, XYZ\n",
        "Hello Lisa,\n",
        "\n",
        "Thank you for visiting our website.\n",
        "Team, XYZ\n",
        "-----------------------------------\n",
        "Team, XYZ\n",
        "Hello Michael,\n",
        "\n",
        "Thank you for visiting our website.\n",
        "Team, XYZ\n",
        "-----------------------------------\n",
        "```\n",
        "\n",
        "\n",
        "\n"
      ]
    }
  ]
}